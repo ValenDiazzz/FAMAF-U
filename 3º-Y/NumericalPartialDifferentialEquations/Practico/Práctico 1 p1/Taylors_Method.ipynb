{
 "cells": [
  {
   "cell_type": "code",
   "execution_count": 1,
   "metadata": {},
   "outputs": [],
   "source": [
    "import numpy as np\n",
    "import sympy as sym\n",
    "import matplotlib.pyplot as plt\n",
    "from math import factorial"
   ]
  },
  {
   "cell_type": "code",
   "execution_count": 2,
   "metadata": {},
   "outputs": [],
   "source": [
    "def taylor_method(order, f, t_0, x_0, h, a,b):\n",
    "    t=sym.symbols('t')\n",
    "    x=sym.Function(\"x\")(t)\n",
    "    x_sol=[x_0]\n",
    "    func=f\n",
    "    f_der=[f] #List of derivatives\n",
    "\n",
    "    for i in range(order-1):  #Calculates f', f'', ...\n",
    "        f=sym.diff(f,t)\n",
    "        f=f.xreplace({sym.diff(x,t):func}) #replace dx/dt with f\n",
    "        f_der.append(f)\n",
    "\n",
    "    #steps =[a, a+h, a+2h, ..., b]\n",
    "    steps=[a]\n",
    "    if a!=b:\n",
    "        steps=np.arange(a,b,h,dtype=float)\n",
    "        steps=np.append(steps,b) if h>0 else np.append(steps,a)\n",
    "    for j in steps[1:]: #Iterates for all points\n",
    "        x_1=x_0\n",
    "        for n in range(order): #calculates x(t + h)\n",
    "            der_value=f_der[n].xreplace({x: x_1, t:j})\n",
    "            x_1+= (h**(n+1)) * der_value / factorial(n+1)\n",
    "        x_0=x_1\n",
    "        x_sol.append(x_0)\n",
    "    return x_sol, steps"
   ]
  }
 ],
 "metadata": {
  "kernelspec": {
   "display_name": "Python 3",
   "language": "python",
   "name": "python3"
  },
  "language_info": {
   "codemirror_mode": {
    "name": "ipython",
    "version": 3
   },
   "file_extension": ".py",
   "mimetype": "text/x-python",
   "name": "python",
   "nbconvert_exporter": "python",
   "pygments_lexer": "ipython3",
   "version": "3.11.5"
  },
  "orig_nbformat": 4
 },
 "nbformat": 4,
 "nbformat_minor": 2
}
