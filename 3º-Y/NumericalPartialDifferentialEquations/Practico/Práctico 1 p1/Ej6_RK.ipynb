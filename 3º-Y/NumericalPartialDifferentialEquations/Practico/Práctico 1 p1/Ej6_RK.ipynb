{
 "cells": [
  {
   "cell_type": "code",
   "execution_count": 1,
   "metadata": {},
   "outputs": [],
   "source": [
    "import numpy as np\n",
    "import matplotlib.pyplot as plt\n",
    "import sympy as sym\n",
    "from math import e\n",
    "from ipynb.fs.full.RungeKutta import RK4\n",
    "from ipynb.fs.full.Taylors_Method import taylor_method"
   ]
  },
  {
   "cell_type": "code",
   "execution_count": 2,
   "metadata": {},
   "outputs": [],
   "source": [
    "def fun_5(t,x):\n",
    "    return -5*x\n",
    "def fun_25(t,x):\n",
    "    return -25*x\n",
    "t=sym.symbols('t')\n",
    "x=sym.Function(\"x\")(t)\n",
    "fun_5_=-5*x\n",
    "fun_25_=-25*x"
   ]
  },
  {
   "cell_type": "code",
   "execution_count": null,
   "metadata": {},
   "outputs": [],
   "source": [
    "sol_5_a_rk, steps_5_a_rk= RK4(fun_5, 0, 1, 0.00000001, 0,1)\n",
    "sol_5_b_rk, steps_5_b_rk= RK4(fun_5, 0, 1, 0.1, 0,1)\n",
    "sol_5_c_rk, steps_5_c_rk= RK4(fun_5, 0, 1, 0.2, 0,1)\n",
    "sol_5_d_rk, steps_5_d_rk= RK4(fun_5, 0, 1, 0.25, 0,1)\n",
    "sol_5_e_rk, steps_5_e_rk= RK4(fun_5, 0, 1, 0.5, 0,1)"
   ]
  },
  {
   "cell_type": "code",
   "execution_count": 5,
   "metadata": {},
   "outputs": [],
   "source": [
    "sol_5_a_tm, steps_5_a_tm=taylor_method(1, fun_5_, 0, 1, 0.01, 0,1)\n",
    "sol_5_b_tm, steps_5_b_tm=taylor_method(1, fun_5_, 0, 1, 0.1, 0,1)\n",
    "sol_5_c_tm, steps_5_c_tm=taylor_method(1, fun_5_, 0, 1, 0.2, 0,1)\n",
    "sol_5_d_tm, steps_5_d_tm=taylor_method(1, fun_5_, 0, 1, 0.25, 0,1)\n",
    "sol_5_e_tm, steps_5_e_tm=taylor_method(1, fun_5_, 0, 1, 0.5, 0,1)"
   ]
  },
  {
   "cell_type": "code",
   "execution_count": null,
   "metadata": {},
   "outputs": [],
   "source": [
    "fx_5_a=steps_5_a_rk\n",
    "fx_5_b=steps_5_b_rk\n",
    "fx_5_c=steps_5_c_rk\n",
    "fx_5_d=steps_5_d_rk\n",
    "fx_5_e=steps_5_e_rk\n",
    "\n",
    "fy_5_a=np.exp(-5*fx_5_a)\n",
    "fy_5_b=np.exp(-5*fx_5_b)\n",
    "fy_5_c=np.exp(-5*fx_5_c)\n",
    "fy_5_d=np.exp(-5*fx_5_d)\n",
    "fy_5_e=np.exp(-5*fx_5_e)"
   ]
  },
  {
   "cell_type": "code",
   "execution_count": null,
   "metadata": {},
   "outputs": [],
   "source": [
    "plt.style.use('dark_background')\n",
    "\n",
    "fig, ax= plt.subplots()\n",
    "ax.plot(steps_5_a_rk, sol_5_a_rk, color=\"lightblue\", label=\"RK\")\n",
    "ax.plot(steps_5_a_tm, sol_5_a_tm, color=\"violet\", label=\"Euler\")\n",
    "ax.plot(fx_5_a, fy_5_a, color=\"white\", label=\"Solution\")\n",
    "plt.suptitle('k=5, h=0.01')\n",
    "plt.legend()\n",
    "\n",
    "fig, ax= plt.subplots()\n",
    "ax.plot(steps_5_b_rk, sol_5_b_rk, color=\"lightblue\", label=\"RK\")\n",
    "ax.plot(steps_5_b_tm, sol_5_b_tm, color=\"violet\", label=\"Euler\")\n",
    "ax.plot(fx_5_b, fy_5_b, color=\"white\", label=\"Solution\")\n",
    "plt.suptitle('k=5, h=0.1')\n",
    "plt.legend()\n",
    "\n",
    "fig, ax= plt.subplots()\n",
    "ax.plot(steps_5_c_rk, sol_5_c_rk, color=\"lightblue\", label=\"RK\")\n",
    "ax.plot(steps_5_c_tm, sol_5_c_tm, color=\"violet\", label=\"Euler\")\n",
    "ax.plot(fx_5_c, fy_5_c, color=\"white\", label=\"Solution\")\n",
    "plt.suptitle('k=5, h=0.2')\n",
    "plt.legend()\n",
    "\n",
    "fig, ax= plt.subplots()\n",
    "ax.plot(steps_5_d_rk, sol_5_d_rk, color=\"lightblue\", label=\"RK\")\n",
    "ax.plot(steps_5_d_tm, sol_5_d_tm, color=\"violet\", label=\"Euler\")\n",
    "ax.plot(fx_5_d, fy_5_d, color=\"white\", label=\"Solution\")\n",
    "plt.suptitle('k=5, h=0.25')\n",
    "plt.legend()\n",
    "\n",
    "fig, ax= plt.subplots()\n",
    "ax.plot(steps_5_e_rk, sol_5_e_rk, color=\"lightblue\", label=\"RK\")\n",
    "ax.plot(steps_5_e_tm, sol_5_e_tm, color=\"violet\", label=\"Euler\")\n",
    "ax.plot(fx_5_e, fy_5_e, color=\"white\", label=\"Solution\")\n",
    "plt.suptitle('k=5, h=0.5')\n",
    "plt.legend()\n",
    "\n",
    "plt.show()"
   ]
  },
  {
   "cell_type": "code",
   "execution_count": 8,
   "metadata": {},
   "outputs": [],
   "source": [
    "sol_25_a_rk, steps_25_a_rk= RK4(fun_25, 0, 1, 0.01, 0,1)\n",
    "sol_25_b_rk, steps_25_b_rk= RK4(fun_25, 0, 1, 0.1, 0,1)\n",
    "sol_25_c_rk, steps_25_c_rk= RK4(fun_25, 0, 1, 0.2, 0,1)\n",
    "sol_25_d_rk, steps_25_d_rk= RK4(fun_25, 0, 1, 0.25, 0,1)\n",
    "sol_25_e_rk, steps_25_e_rk= RK4(fun_25, 0, 1, 0.5, 0,1)"
   ]
  },
  {
   "cell_type": "code",
   "execution_count": 9,
   "metadata": {},
   "outputs": [],
   "source": [
    "sol_25_a_tm, steps_25_a_tm=taylor_method(1, fun_25_, 0, 1, 0.01, 0,1)\n",
    "sol_25_b_tm, steps_25_b_tm=taylor_method(1, fun_25_, 0, 1, 0.1, 0,1)\n",
    "sol_25_c_tm, steps_25_c_tm=taylor_method(1, fun_25_, 0, 1, 0.2, 0,1)\n",
    "sol_25_d_tm, steps_25_d_tm=taylor_method(1, fun_25_, 0, 1, 0.25, 0,1)\n",
    "sol_25_e_tm, steps_25_e_tm=taylor_method(1, fun_25_, 0, 1, 0.5, 0,1)"
   ]
  },
  {
   "cell_type": "code",
   "execution_count": 10,
   "metadata": {},
   "outputs": [],
   "source": [
    "fx_25_a=steps_25_a_tm\n",
    "fx_25_b=steps_25_b_tm\n",
    "fx_25_c=steps_25_c_tm\n",
    "fx_25_d=steps_25_d_tm\n",
    "fx_25_e=steps_25_e_tm\n",
    "\n",
    "fy_25_a=np.exp(-25*fx_25_a)\n",
    "fy_25_b=np.exp(-25*fx_25_b)\n",
    "fy_25_c=np.exp(-25*fx_25_c)\n",
    "fy_25_d=np.exp(-25*fx_25_d)\n",
    "fy_25_e=np.exp(-25*fx_25_e)"
   ]
  },
  {
   "cell_type": "code",
   "execution_count": null,
   "metadata": {},
   "outputs": [],
   "source": [
    "plt.style.use('dark_background')\n",
    "\n",
    "fig, ax= plt.subplots()\n",
    "ax.plot(steps_25_a_rk, sol_25_a_rk, color=\"lightblue\", label=\"RK\")\n",
    "ax.plot(steps_25_a_tm, sol_25_a_tm, color=\"violet\", label=\"Euler\")\n",
    "ax.plot(fx_25_a, fy_25_a, color=\"white\", label=\"Solution\")\n",
    "plt.suptitle('k=25, h=0.01')\n",
    "plt.legend()\n",
    "\n",
    "fig, ax= plt.subplots()\n",
    "ax.plot(steps_25_b_rk, sol_25_b_rk, color=\"lightblue\", label=\"RK\")\n",
    "ax.plot(steps_25_b_tm, sol_25_b_tm, color=\"violet\", label=\"Euler\")\n",
    "ax.plot(fx_25_b, fy_25_b, color=\"white\", label=\"Solution\")\n",
    "plt.suptitle('k=25, h=0.1')\n",
    "plt.legend()\n",
    "\n",
    "fig, ax= plt.subplots()\n",
    "ax.plot(steps_25_c_rk, sol_25_c_rk, color=\"lightblue\", label=\"RK\")\n",
    "ax.plot(steps_25_c_tm, sol_25_c_tm, color=\"violet\", label=\"Euler\")\n",
    "ax.plot(fx_25_c, fy_25_c, color=\"white\", label=\"Solution\")\n",
    "plt.suptitle('k=25, h=0.2')\n",
    "plt.legend()\n",
    "\n",
    "fig, ax= plt.subplots()\n",
    "ax.plot(steps_25_d_rk, sol_25_d_rk, color=\"lightblue\", label=\"RK\")\n",
    "ax.plot(steps_25_d_tm, sol_25_d_tm, color=\"violet\", label=\"Euler\")\n",
    "ax.plot(fx_25_d, fy_25_d, color=\"white\", label=\"Solution\")\n",
    "plt.suptitle('k=25, h=0.25')\n",
    "plt.legend()\n",
    "\n",
    "fig, ax= plt.subplots()\n",
    "ax.plot(steps_25_e_rk, sol_25_e_rk, color=\"lightblue\", label=\"RK\")\n",
    "ax.plot(steps_25_e_tm, sol_25_e_tm, color=\"violet\", label=\"Euler\")\n",
    "ax.plot(fx_25_e, fy_25_e, color=\"white\", label=\"Solution\")\n",
    "plt.suptitle('k=25, h=0.5')\n",
    "plt.legend()\n",
    "\n",
    "plt.show()"
   ]
  }
 ],
 "metadata": {
  "kernelspec": {
   "display_name": "Python 3",
   "language": "python",
   "name": "python3"
  },
  "language_info": {
   "codemirror_mode": {
    "name": "ipython",
    "version": 3
   },
   "file_extension": ".py",
   "mimetype": "text/x-python",
   "name": "python",
   "nbconvert_exporter": "python",
   "pygments_lexer": "ipython3",
   "version": "3.11.5"
  },
  "orig_nbformat": 4
 },
 "nbformat": 4,
 "nbformat_minor": 2
}
