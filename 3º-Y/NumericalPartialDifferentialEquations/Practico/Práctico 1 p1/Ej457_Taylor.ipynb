{
 "cells": [
  {
   "cell_type": "code",
   "execution_count": 1,
   "metadata": {},
   "outputs": [],
   "source": [
    "import numpy as np\n",
    "import sympy as sym\n",
    "import matplotlib.pyplot as plt\n",
    "from math import e, factorial\n",
    "from scipy.integrate import solve_ivp\n",
    "from ipynb.fs.full.Taylors_Method import taylor_method"
   ]
  },
  {
   "cell_type": "code",
   "execution_count": 2,
   "metadata": {},
   "outputs": [],
   "source": [
    "t=sym.symbols('t')\n",
    "x=sym.Function(\"x\")(t)\n",
    "f4=x + (e**t) + (t*x)\n",
    "f5= 1 + x**2 - t**3\n",
    "f6=e**-(t**2)\n",
    "f7=(1 + (t**3))**0.5 #Planteo x´=sqrt(1 + t^3)"
   ]
  },
  {
   "cell_type": "code",
   "execution_count": 3,
   "metadata": {},
   "outputs": [],
   "source": [
    "sol4, steps4=taylor_method(5, f4, 1, 2, 0.01, 1, 3)\n",
    "sol5, steps5=taylor_method(5, f5, 0, -1, 0.01, 0, 2)\n",
    "sol6, steps6=taylor_method(4, f6, 0, 0, 0.1, 0, 2)\n",
    "sol7, steps7=taylor_method(4, f7, 0, 0, 1/64, 0, 5)"
   ]
  },
  {
   "cell_type": "markdown",
   "metadata": {},
   "source": [
    "Comparemos con la solución de scipy"
   ]
  },
  {
   "cell_type": "code",
   "execution_count": 4,
   "metadata": {},
   "outputs": [],
   "source": [
    "def f4(t,x):\n",
    "    return x + (e**t) + (t*x)\n",
    "def f5(t, x):\n",
    "    return 1 + x**2 - t**3\n",
    "def f6(t, x):\n",
    "    return e**-(t**2)\n",
    "def f7(t, x):\n",
    "    return (1 + (t**3))**0.5"
   ]
  },
  {
   "cell_type": "code",
   "execution_count": 5,
   "metadata": {},
   "outputs": [],
   "source": [
    "solver4=solve_ivp(fun=f4, t_span=[1,3], y0=[2], method='RK45',vectorized=False, t_eval=np.arange(1,3,0.01,dtype=float))\n",
    "solver5=solve_ivp(fun=f5, t_span=[0,2], y0=[-1], method='RK45',vectorized=False, t_eval=np.arange(0,2,0.01,dtype=float))\n",
    "solver6=solve_ivp(fun=f6, t_span=[0,2], y0=[0], method='RK45',vectorized=False, t_eval=np.arange(0,2,0.1,dtype=float))\n",
    "solver7=solve_ivp(fun=f7, t_span=[0 ,5], y0=[0], method='RK45',vectorized=False, t_eval=np.arange(0,5,1/64,dtype=float))"
   ]
  },
  {
   "cell_type": "code",
   "execution_count": 6,
   "metadata": {},
   "outputs": [],
   "source": [
    "steps4_sc, sol4_sc=solver4.t, solver4.y\n",
    "steps5_sc, sol5_sc=solver5.t, solver5.y\n",
    "steps6_sc, sol6_sc=solver6.t, solver6.y\n",
    "steps7_sc, sol7_sc=solver7.t, solver7.y"
   ]
  },
  {
   "cell_type": "code",
   "execution_count": null,
   "metadata": {},
   "outputs": [],
   "source": [
    "plt.style.use('dark_background')\n",
    "\n",
    "fig, (ax1, ax2, ax3, ax4)= plt.subplots(4, 1)\n",
    "ax1.plot(steps4, sol4, color=\"blue\", label=\"Ejercicio 4\")\n",
    "ax2.plot(steps5, sol5, color=\"green\", label=\"Ejercicio 5\")\n",
    "ax3.plot(steps6, sol6, color=\"purple\", label=\"Ejercicio 6\")\n",
    "ax4.plot(steps7, sol7, color=\"white\", label=\"Ejercicio 7\")\n",
    "ax1.legend()\n",
    "ax2.legend()\n",
    "ax3.legend()\n",
    "ax4.legend()\n",
    "plt.suptitle('Mi función')\n",
    "\n",
    "\n",
    "fig, (ax5, ax6, ax7, ax8)= plt.subplots(4, 1)\n",
    "ax5.plot(steps4_sc, sol4_sc.reshape(200), color=\"blue\", label=\"Ejercicio 4\")\n",
    "ax6.plot(steps5_sc, sol5_sc.reshape(200), color=\"green\", label=\"Ejercicio 5\")\n",
    "ax7.plot(steps6_sc, sol6_sc.reshape(20), color=\"purple\", label=\"Ejercicio 6\")\n",
    "ax8.plot(steps7_sc, sol7_sc.reshape(320), color=\"white\", label=\"Ejercicio 7\")\n",
    "ax5.legend()\n",
    "ax6.legend()\n",
    "ax7.legend()\n",
    "ax8.legend()\n",
    "plt.suptitle('Scipy')\n",
    "\n",
    "plt.legend()\n",
    "plt.show()"
   ]
  }
 ],
 "metadata": {
  "kernelspec": {
   "display_name": "Python 3",
   "language": "python",
   "name": "python3"
  },
  "language_info": {
   "codemirror_mode": {
    "name": "ipython",
    "version": 3
   },
   "file_extension": ".py",
   "mimetype": "text/x-python",
   "name": "python",
   "nbconvert_exporter": "python",
   "pygments_lexer": "ipython3",
   "version": "3.11.5"
  },
  "orig_nbformat": 4
 },
 "nbformat": 4,
 "nbformat_minor": 2
}
