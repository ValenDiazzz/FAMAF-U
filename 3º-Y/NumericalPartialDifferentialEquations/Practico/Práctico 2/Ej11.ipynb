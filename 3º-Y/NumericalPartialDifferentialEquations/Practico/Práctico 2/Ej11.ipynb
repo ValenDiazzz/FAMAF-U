{
 "cells": [
  {
   "cell_type": "code",
   "execution_count": null,
   "metadata": {},
   "outputs": [],
   "source": [
    "import numpy as np\n",
    "import scipy as sc\n",
    "import matplotlib.pyplot as plt\n",
    "import math"
   ]
  },
  {
   "cell_type": "code",
   "execution_count": null,
   "metadata": {},
   "outputs": [],
   "source": [
    "a, b= 0,2*math.pi\n",
    "c1,c2= 1, 2\n",
    "n=20\n",
    "h=(b-a)/n\n",
    "steps=np.linspace(a,b,n)"
   ]
  },
  {
   "cell_type": "code",
   "execution_count": null,
   "metadata": {},
   "outputs": [],
   "source": [
    "def F(x):\n",
    "    n=len(x)\n",
    "    res=np.zeros(n)\n",
    "    res[0]= (x[1]- 2*x[0])/(h**2) + np.sin(x[0]) + (c1 / h**2)\n",
    "    res[-1]= (x[-2]- 2*x[-1])/(h**2) + np.sin(x[-1]) + (c2 / h**2)\n",
    "    for i in range(1,n-2):\n",
    "        res[i]= ((x[i-1] - 2*x[i] + x[i+1]) / h**2) + np.sin(x[i]) \n",
    "    return res"
   ]
  },
  {
   "cell_type": "code",
   "execution_count": null,
   "metadata": {},
   "outputs": [],
   "source": [
    "def Fprime(x):\n",
    "    n=len(x)\n",
    "    A=np.diag(np.cos(x)*np.ones(n))\n",
    "    A=A - 2*(np.eye(n)/(h**2))\n",
    "    A+=np.diag(np.ones(n-1)/h**2,1)\n",
    "    A+=np.diag(np.ones(n-1)/h**2,-1)\n",
    "    return A"
   ]
  },
  {
   "cell_type": "code",
   "execution_count": null,
   "metadata": {},
   "outputs": [],
   "source": [
    "sol1=sc.optimize.newton(func=F, x0=np.ones(n-2)) #, fprime=Fprime)"
   ]
  },
  {
   "cell_type": "code",
   "execution_count": null,
   "metadata": {},
   "outputs": [],
   "source": [
    "sol=np.ones(n)\n",
    "sol[0], sol[-1]= c1, c2\n",
    "sol[1:-1]=sol1"
   ]
  },
  {
   "cell_type": "code",
   "execution_count": null,
   "metadata": {},
   "outputs": [],
   "source": [
    "plt.style.use(\"dark_background\")\n",
    "fig, ax=plt.subplots()\n",
    "ax.plot(steps,sol)\n",
    "plt.show()"
   ]
  }
 ],
 "metadata": {
  "kernelspec": {
   "display_name": "Python 3",
   "language": "python",
   "name": "python3"
  },
  "language_info": {
   "codemirror_mode": {
    "name": "ipython",
    "version": 3
   },
   "file_extension": ".py",
   "mimetype": "text/x-python",
   "name": "python",
   "nbconvert_exporter": "python",
   "pygments_lexer": "ipython3",
   "version": "3.11.5"
  },
  "orig_nbformat": 4
 },
 "nbformat": 4,
 "nbformat_minor": 2
}
