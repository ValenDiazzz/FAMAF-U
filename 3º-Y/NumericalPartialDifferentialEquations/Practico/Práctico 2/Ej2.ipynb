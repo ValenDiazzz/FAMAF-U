{
 "cells": [
  {
   "cell_type": "code",
   "execution_count": null,
   "metadata": {},
   "outputs": [],
   "source": [
    "import numpy as np\n",
    "from math import pi\n",
    "import matplotlib.pyplot as plt\n",
    "from ipynb.fs.full.Ej1 import two_points, tribanda,sol_trinffil,sol_trsupfil,sol_defpos"
   ]
  },
  {
   "cell_type": "code",
   "execution_count": null,
   "metadata": {},
   "outputs": [],
   "source": [
    "plt.style.use('dark_background')"
   ]
  },
  {
   "cell_type": "markdown",
   "metadata": {},
   "source": [
    "Ejercicio 2a"
   ]
  },
  {
   "cell_type": "code",
   "execution_count": null,
   "metadata": {},
   "outputs": [],
   "source": [
    "def fun(x):\n",
    "    return -np.cos(pi*x)*(pi**2)"
   ]
  },
  {
   "cell_type": "code",
   "execution_count": null,
   "metadata": {},
   "outputs": [],
   "source": [
    "sol,steps=two_points(fun, 0, 1, 0, -1, 50)"
   ]
  },
  {
   "cell_type": "code",
   "execution_count": null,
   "metadata": {},
   "outputs": [],
   "source": [
    "fig,ax=plt.subplots()\n",
    "ax.plot(steps,sol,color=\"blue\", label='Solution')\n",
    "plt.suptitle('Ejercicio 2a')\n",
    "plt.legend()\n",
    "plt.show()"
   ]
  },
  {
   "cell_type": "markdown",
   "metadata": {},
   "source": [
    "Ejercicio 2b"
   ]
  },
  {
   "cell_type": "code",
   "execution_count": null,
   "metadata": {},
   "outputs": [],
   "source": [
    "def two_points_v2(f, a, b, ua, ub, n,x0,x1):\n",
    "    A=-tribanda(n-2)\n",
    "    u=np.zeros(n)\n",
    "    d=np.zeros(n-2)\n",
    "\n",
    "    u[0],u[-1]= ua, ub\n",
    "    \n",
    "    h=(b-a)/n\n",
    "    steps=np.linspace(a,b,n)\n",
    "    \n",
    "    d[0]=f(steps[1],x0,x1) - (ua*(n**2))\n",
    "    d[-1]=f(steps[-2],x0,x1) - (ub*(n**2))\n",
    "    for j in range(len(d)-2):\n",
    "        d[j+1]=f(steps[j+2],x0,x1)\n",
    "    d=-d*(h**2)\n",
    "    \n",
    "    u[1:-1]=sol_defpos(A,d)\n",
    "    return u,steps"
   ]
  },
  {
   "cell_type": "code",
   "execution_count": null,
   "metadata": {},
   "outputs": [],
   "source": [
    "def fun(x,x0,x1):\n",
    "    return 1 if x>x0 and x1>x else 0"
   ]
  },
  {
   "cell_type": "code",
   "execution_count": null,
   "metadata": {},
   "outputs": [],
   "source": [
    "sol_1,steps_1=two_points_v2(fun, 0, 1, 0, 0, 50, 0,1)\n",
    "sol_2,steps_2=two_points_v2(fun, 0, 1, 0, 0, 50, 0,0.8)\n",
    "sol_3,steps_3=two_points_v2(fun, 0, 1, 0, 0, 50, 0.3,0.7)\n",
    "sol_4,steps_4=two_points_v2(fun, 0, 1, 0, 0, 50, 0.5,0.99)"
   ]
  },
  {
   "cell_type": "code",
   "execution_count": null,
   "metadata": {},
   "outputs": [],
   "source": [
    "fig, (ax1, ax2, ax3, ax4)= plt.subplots(4, 1)\n",
    "ax1.plot(steps_1, sol_1, color=\"blue\", label=\"x0=0, x1=1\")\n",
    "ax2.plot(steps_2, sol_2, color=\"green\", label=\"x0=0 x1=0.8\")\n",
    "ax3.plot(steps_3, sol_3, color=\"purple\", label=\"x0=0.3 x1=0.7\")\n",
    "ax4.plot(steps_4, sol_4, color=\"white\", label=\"x0=0.5 x1=0.99\")\n",
    "ax1.legend()\n",
    "ax2.legend()\n",
    "ax3.legend()\n",
    "ax4.legend()\n",
    "plt.suptitle('Ejercicio 2b')\n",
    "plt.show()"
   ]
  }
 ],
 "metadata": {
  "kernelspec": {
   "display_name": "Python 3",
   "language": "python",
   "name": "python3"
  },
  "language_info": {
   "codemirror_mode": {
    "name": "ipython",
    "version": 3
   },
   "file_extension": ".py",
   "mimetype": "text/x-python",
   "name": "python",
   "nbconvert_exporter": "python",
   "pygments_lexer": "ipython3",
   "version": "3.11.5"
  },
  "orig_nbformat": 4
 },
 "nbformat": 4,
 "nbformat_minor": 2
}
