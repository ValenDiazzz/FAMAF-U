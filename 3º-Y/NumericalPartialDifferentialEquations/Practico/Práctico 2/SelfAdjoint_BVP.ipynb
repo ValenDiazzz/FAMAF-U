{
 "cells": [
  {
   "cell_type": "code",
   "execution_count": 1,
   "metadata": {},
   "outputs": [],
   "source": [
    "import numpy as np"
   ]
  },
  {
   "cell_type": "code",
   "execution_count": 2,
   "metadata": {},
   "outputs": [],
   "source": [
    "def sol_trinffil(A, b):    \n",
    "    #assert np.prod(np.diag(A)) != 0,\"Error: la matriz es singular\"\n",
    "    \n",
    "    n = len(b)\n",
    "    x = b.copy()\n",
    "\n",
    "    if n==1:\n",
    "        x[0]=x[0]/A[0, 0]\n",
    "    else:\n",
    "        k=0\n",
    "        while x[k]==0 and k<n-1: #Si b_i = 0 => x_i = 0\n",
    "            k+=1\n",
    "    \n",
    "        for i in range(k,n): #Ya calculé los x hasta k\n",
    "            x[i] = (x[i]-A[i,0:i]@x[0:i]) / A[i,i]\n",
    "    \n",
    "    return x\n",
    "\n",
    "def sol_trsupfil(A, b):    \n",
    "    #assert np.prod(np.diag(A)) != 0,\"Error: la matriz es singular\"\n",
    "    n = len(b)-1\n",
    "    x = b.copy() \n",
    "    k=n\n",
    "    while x[k]==0 and k>0: #Si b_i = 0 => x_i = 0\n",
    "        k-=1\n",
    "\n",
    "    for i in reversed(range(k+1)): #Ya calculé los x desde k hasta n.\n",
    "        x[i] = (x[i]-(A[i,i+1:n+1]@x[i+1:n+1])) / A[i,i]\n",
    "    return x\n",
    "\n",
    "def sol_defpos(B,y):\n",
    "    A=B.copy()\n",
    "    b=y.copy()\n",
    "    G=np.linalg.cholesky(A).T\n",
    "    y = sol_trinffil(G.T,b)\n",
    "    x=sol_trsupfil(G, y)\n",
    "    return x"
   ]
  },
  {
   "cell_type": "code",
   "execution_count": 3,
   "metadata": {},
   "outputs": [],
   "source": [
    "def self_adjoint_bvp(fun, p, q, a, b, ua, s, t, d, n):\n",
    "    u=np.zeros(n+1) #solutions\n",
    "    u[0]=ua\n",
    "    \n",
    "    #discretiazacion\n",
    "    h=(b-a)/n\n",
    "    steps_full=np.linspace(a,b,n+1)\n",
    "    steps_half=np.delete(steps_full + h/2,n)\n",
    "    \n",
    "    \n",
    "    #definimos A\n",
    "    A=np.zeros((n-1,n-1))\n",
    "    #diagonal\n",
    "    p1=p(steps_half[0])\n",
    "    for i in range(n-2):\n",
    "        p2=p(steps_half[i+1])\n",
    "        A[i,i]= -((p1+p2)/(h**2)) - q(steps_full[i+1])\n",
    "        p1=p2\n",
    "\n",
    "    A[n-2, n-2]= -((p(steps_half[-1]) + p(steps_half[-2]))/(h**2))-q(steps_full[-2]) + ((t/((s*h)+t))*(p(steps_half[-1])/(h**2)))\n",
    "    #diagonal inf y sup\n",
    "    for i in range(n-2):\n",
    "        p1=p(steps_half[i+1])\n",
    "        A[i,i+1]=p1/(h**2) #Sup\n",
    "        A[i+1,i]=A[i,i+1]\n",
    "    \n",
    "    \n",
    "    #definimos f\n",
    "    f=fun(steps_full[1:-1])\n",
    "    f[0]=f[0]-(p(steps_half[0])*ua/(h**2))\n",
    "    f[-1]=f[-1]-(d*(h/((s*h)+t))*(p(steps_half[-1])/(h**2)))\n",
    "    \n",
    "    \n",
    "    #Resolvemos Au[1:-1]=f\n",
    "    u[1:-1]=sol_defpos(-A,-f) #A is def neg => -A is def pos\n",
    "    u[-1]=(d + ((t/h)*u[-2]))/(s+(t/h))\n",
    "    return u,steps_full"
   ]
  }
 ],
 "metadata": {
  "kernelspec": {
   "display_name": "Python 3",
   "language": "python",
   "name": "python3"
  },
  "language_info": {
   "codemirror_mode": {
    "name": "ipython",
    "version": 3
   },
   "file_extension": ".py",
   "mimetype": "text/x-python",
   "name": "python",
   "nbconvert_exporter": "python",
   "pygments_lexer": "ipython3",
   "version": "3.11.5"
  },
  "orig_nbformat": 4
 },
 "nbformat": 4,
 "nbformat_minor": 2
}
