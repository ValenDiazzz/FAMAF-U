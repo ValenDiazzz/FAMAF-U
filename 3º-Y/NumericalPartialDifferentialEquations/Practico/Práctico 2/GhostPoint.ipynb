{
 "cells": [
  {
   "cell_type": "code",
   "execution_count": 1,
   "metadata": {},
   "outputs": [],
   "source": [
    "import numpy as np"
   ]
  },
  {
   "cell_type": "code",
   "execution_count": 2,
   "metadata": {},
   "outputs": [],
   "source": [
    "def ghost_at_b(fun, a, b, ua, ub, n):\n",
    "    u=np.zeros(n+1) #solutions\n",
    "    u[0]=ua\n",
    "    u[-1]=ub\n",
    "    \n",
    "    #discretiazacion\n",
    "    h=(b-a)/n\n",
    "    steps=np.linspace(a,b,n+1)\n",
    "    \n",
    "    #definimos A\n",
    "    A=np.diag(np.ones(n))*-2\n",
    "    A= A + np.diag(np.ones(n-1), -1)\n",
    "    A= A + np.diag(np.ones(n-1), 1)\n",
    "    A[-1,-1]=-1\n",
    "    \n",
    "    #definimos f\n",
    "    f=fun(steps[1:])\n",
    "    f[0]=f[0]- (ua / (h**2))\n",
    "    f[-1]=(f[-1]/2) - (ub/h)\n",
    "    \n",
    "    #Resolvemos Au[1:-1]=f\n",
    "    u[1:]=np.linalg.solve(A,f*(h**2))\n",
    "    return u,steps"
   ]
  }
 ],
 "metadata": {
  "kernelspec": {
   "display_name": "Python 3",
   "language": "python",
   "name": "python3"
  },
  "language_info": {
   "codemirror_mode": {
    "name": "ipython",
    "version": 3
   },
   "file_extension": ".py",
   "mimetype": "text/x-python",
   "name": "python",
   "nbconvert_exporter": "python",
   "pygments_lexer": "ipython3",
   "version": "3.11.5"
  },
  "orig_nbformat": 4
 },
 "nbformat": 4,
 "nbformat_minor": 2
}
