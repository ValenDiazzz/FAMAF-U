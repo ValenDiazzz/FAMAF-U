{
 "cells": [
  {
   "cell_type": "code",
   "execution_count": 1,
   "metadata": {},
   "outputs": [],
   "source": [
    "import numpy as np\n",
    "from ipynb.fs.full.RungeKutta import RK4"
   ]
  },
  {
   "cell_type": "code",
   "execution_count": 2,
   "metadata": {},
   "outputs": [],
   "source": [
    "def AB5(fun, t_0, x_0, h, a,b):\n",
    "    coefs=np.array([251,-1274,2616,-2774,1901], dtype=float)\n",
    "\n",
    "    #gets first 5 solutions\n",
    "    if h>0:\n",
    "        x_sol=RK4(fun, t_0, x_0, h, a, a+(4*h))[0] \n",
    "    else:\n",
    "        x_sol=RK4(fun, t_0, x_0, h, b+(4*h),b)[0] \n",
    "    x_0=x_sol[-1]\n",
    "\n",
    "    #get t points\n",
    "    if h>0:\n",
    "        steps=np.arange(a,b,h,dtype=float)\n",
    "        steps=np.append(steps, b)\n",
    "    else:\n",
    "        steps=np.arange(b,a,h,dtype=float)\n",
    "        steps=np.append(steps, a)\n",
    "\n",
    "    #get fn-4,fn-3, ..., fn\n",
    "    f=[]\n",
    "    for j in range(5):\n",
    "        f.append(fun(steps[j],x_sol[j]))\n",
    "    f=np.array(f, dtype=float)\n",
    "    \n",
    "    for j in range(len(steps)-5):\n",
    "        #calculates x\n",
    "        x_0+=(h/720)*np.inner(f,coefs) \n",
    "        \n",
    "        #updates f\n",
    "        for k in range(3): \n",
    "            f[k]=f[k+1]\n",
    "        f[4]=fun(steps[j+5],x_0)\n",
    "        \n",
    "        #Stores solution\n",
    "        x_sol=np.append(x_sol, x_0)\n",
    "    return x_sol, steps"
   ]
  },
  {
   "cell_type": "code",
   "execution_count": 3,
   "metadata": {},
   "outputs": [],
   "source": [
    "def AB4(fun, t_0, x_0, h, a,b):\n",
    "    coefs=np.array([-9, 37, -58, 55], dtype=float)\n",
    "\n",
    "    #gets first 4 solutions\n",
    "    if h>0:\n",
    "        x_sol=RK4(fun, t_0, x_0, h, a, a+(3*h))[0] \n",
    "    else:\n",
    "        x_sol=RK4(fun, t_0, x_0, h, b+(3*h),b)[0] \n",
    "    x_0=x_sol[-1]\n",
    "\n",
    "    #get t points\n",
    "    if h>0:\n",
    "        steps=np.arange(a,b,h,dtype=float)\n",
    "        steps=np.append(steps, b)\n",
    "    else:\n",
    "        steps=np.arange(b,a,h,dtype=float)\n",
    "        steps=np.append(steps, a)\n",
    "\n",
    "    #get fn-3, ..., fn\n",
    "    f=[]\n",
    "    for j in range(4):\n",
    "        f.append(fun(steps[j],x_sol[j]))\n",
    "    f=np.array(f, dtype=float)\n",
    "    \n",
    "    for j in range(len(steps)-4):\n",
    "        #calculates x\n",
    "        x_0+=(h/24)*np.inner(f,coefs) \n",
    "        \n",
    "        #updates f\n",
    "        for k in range(2): \n",
    "            f[k]=f[k+1]\n",
    "        f[3]=fun(steps[j+4],x_0)\n",
    "        \n",
    "        #Stores solution\n",
    "        x_sol=np.append(x_sol, x_0)\n",
    "    return x_sol, steps"
   ]
  }
 ],
 "metadata": {
  "kernelspec": {
   "display_name": "Python 3",
   "language": "python",
   "name": "python3"
  },
  "language_info": {
   "codemirror_mode": {
    "name": "ipython",
    "version": 3
   },
   "file_extension": ".py",
   "mimetype": "text/x-python",
   "name": "python",
   "nbconvert_exporter": "python",
   "pygments_lexer": "ipython3",
   "version": "3.11.5"
  },
  "orig_nbformat": 4
 },
 "nbformat": 4,
 "nbformat_minor": 2
}
