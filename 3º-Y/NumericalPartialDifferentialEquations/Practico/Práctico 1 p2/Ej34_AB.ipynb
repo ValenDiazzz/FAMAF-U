{
 "cells": [
  {
   "cell_type": "code",
   "execution_count": 1,
   "metadata": {},
   "outputs": [],
   "source": [
    "import numpy as np\n",
    "from ipynb.fs.full.Adams_Bashforth import AB4, AB5\n",
    "from math import e\n",
    "import matplotlib.pyplot as plt\n",
    "from scipy import optimize"
   ]
  },
  {
   "cell_type": "code",
   "execution_count": 2,
   "metadata": {},
   "outputs": [],
   "source": [
    "def fun_3(t,x): \n",
    "    return -2*t*(x**2)\n",
    "def sol_analitica(t):\n",
    "    return 1/(1+(t**2))"
   ]
  },
  {
   "cell_type": "code",
   "execution_count": 3,
   "metadata": {},
   "outputs": [],
   "source": [
    "sol_ab3, steps_ab3=AB4(fun_3, 0, 1, 0.25, 0,1)\n",
    "fx=steps_ab3\n",
    "fy=sol_analitica(fx)"
   ]
  },
  {
   "cell_type": "code",
   "execution_count": null,
   "metadata": {},
   "outputs": [],
   "source": [
    "plt.style.use('dark_background')\n",
    "fig, ax= plt.subplots()\n",
    "ax.plot(fx, fy,color=\"blue\",label=\"Sol. Analitica\")\n",
    "ax.plot(steps_ab3, sol_ab3,color=\"lightblue\",label=\"AB\")\n",
    "ax.legend()\n",
    "plt.suptitle('Ejercicio 3')\n",
    "plt.legend()\n",
    "plt.show()"
   ]
  },
  {
   "cell_type": "code",
   "execution_count": 5,
   "metadata": {},
   "outputs": [],
   "source": [
    "def fun_4(t, x):\n",
    "    return (t - (e**-t))/(x + (e**x))"
   ]
  },
  {
   "cell_type": "code",
   "execution_count": 6,
   "metadata": {},
   "outputs": [],
   "source": [
    "sol_ab4_1, steps_ab4_1=AB5(fun_4, 0, 0, 1/238,0,1)\n",
    "sol_ab4_2, steps_ab4_2=AB5(fun_4, 0, 0, -1/238,-1,0)\n",
    "steps_ab4_2=np.flip(steps_ab4_2)\n",
    "sol_ab4_2=np.flip(sol_ab4_2)"
   ]
  },
  {
   "cell_type": "code",
   "execution_count": null,
   "metadata": {},
   "outputs": [],
   "source": [
    "plt.style.use('dark_background')\n",
    "fig, ax= plt.subplots()\n",
    "ax.plot(steps_ab4_1, sol_ab4_1,color=\"lightblue\",label=\"AB\")\n",
    "ax.plot(steps_ab4_2, sol_ab4_2,color=\"lightblue\")\n",
    "ax.legend()\n",
    "plt.suptitle('Ejercicio 4')\n",
    "plt.legend()\n",
    "plt.show()"
   ]
  }
 ],
 "metadata": {
  "kernelspec": {
   "display_name": "Python 3",
   "language": "python",
   "name": "python3"
  },
  "language_info": {
   "codemirror_mode": {
    "name": "ipython",
    "version": 3
   },
   "file_extension": ".py",
   "mimetype": "text/x-python",
   "name": "python",
   "nbconvert_exporter": "python",
   "pygments_lexer": "ipython3",
   "version": "3.11.5"
  },
  "orig_nbformat": 4
 },
 "nbformat": 4,
 "nbformat_minor": 2
}
