{
 "cells": [
  {
   "cell_type": "code",
   "execution_count": null,
   "metadata": {},
   "outputs": [],
   "source": [
    "import numpy as np\n",
    "import matplotlib.pyplot as plt\n",
    "from Ej1 import finelem"
   ]
  },
  {
   "cell_type": "code",
   "execution_count": null,
   "metadata": {},
   "outputs": [],
   "source": [
    "plt.style.use('dark_background')"
   ]
  },
  {
   "cell_type": "code",
   "execution_count": null,
   "metadata": {},
   "outputs": [],
   "source": [
    "a,b= 0,1\n",
    "M=10\n",
    "grid1=np.array([0, 0.1, 0.3, 0.333, 0.5, 0.75, 1])\n",
    "grid2=np.linspace(a,b,M)\n",
    "grid3=np.linspace(a,b,200)"
   ]
  },
  {
   "cell_type": "code",
   "execution_count": null,
   "metadata": {},
   "outputs": [],
   "source": [
    "def f1(x):\n",
    "    return np.pi**2 * np.sin(np.pi*x)\n",
    "def f2(x):\n",
    "    return x**3\n",
    "#aproximo la delta de dirac por la densidad de una normal con media 1/2\n",
    "mu=0.5\n",
    "sigma=0.00001\n",
    "def f3(x):\n",
    "    return 1 / (np.sqrt(2 * np.pi * sigma**2)) * np.exp(-(x - mu)**2 / (2 * sigma**2))\n"
   ]
  },
  {
   "cell_type": "code",
   "execution_count": null,
   "metadata": {},
   "outputs": [],
   "source": [
    "sol1=finelem(f1,grid1)\n",
    "sol2=finelem(f1,grid2)\n",
    "\n",
    "fig, ax=plt.subplots()\n",
    "ax.plot(grid1, sol1, color=\"cyan\",label=\"non equidistant grid\")\n",
    "ax.plot(grid2, sol2, color=\"purple\",label=\"equidistant grid\")\n",
    "ax.plot(grid3, np.sin(np.pi*grid3), color=\"white\",label=\"analitic solution\")\n",
    "plt.suptitle(\"a)\")\n",
    "plt.legend()\n",
    "plt.show()"
   ]
  },
  {
   "cell_type": "code",
   "execution_count": null,
   "metadata": {},
   "outputs": [],
   "source": [
    "sol1=finelem(f2,grid1)\n",
    "sol2=finelem(f2,grid2)\n",
    "\n",
    "fig, ax=plt.subplots()\n",
    "ax.plot(grid1, sol1, color=\"cyan\",label=\"non equidistant grid\")\n",
    "ax.plot(grid2, sol2, color=\"purple\",label=\"equidistant grid\")\n",
    "plt.suptitle(\"b)\")\n",
    "plt.legend()\n",
    "plt.show()"
   ]
  },
  {
   "cell_type": "code",
   "execution_count": null,
   "metadata": {},
   "outputs": [],
   "source": [
    "sol=finelem(f3,grid3)\n",
    "\n",
    "\n",
    "fig, ax=plt.subplots()\n",
    "ax.plot(grid3, sol, color=\"cyan\",label=\"grid n=200 points\")\n",
    "plt.suptitle(\"c)\")\n",
    "plt.legend()\n",
    "plt.show()"
   ]
  }
 ],
 "metadata": {
  "kernelspec": {
   "display_name": "Python 3",
   "language": "python",
   "name": "python3"
  },
  "language_info": {
   "codemirror_mode": {
    "name": "ipython",
    "version": 3
   },
   "file_extension": ".py",
   "mimetype": "text/x-python",
   "name": "python",
   "nbconvert_exporter": "python",
   "pygments_lexer": "ipython3",
   "version": "3.11.5"
  }
 },
 "nbformat": 4,
 "nbformat_minor": 2
}
