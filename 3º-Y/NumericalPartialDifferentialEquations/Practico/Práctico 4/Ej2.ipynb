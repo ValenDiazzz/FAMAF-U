{
 "cells": [
  {
   "cell_type": "code",
   "execution_count": null,
   "metadata": {},
   "outputs": [],
   "source": [
    "import numpy as np\n",
    "import matplotlib.pyplot as plt\n",
    "from Ej1 import finelem"
   ]
  },
  {
   "cell_type": "code",
   "execution_count": null,
   "metadata": {},
   "outputs": [],
   "source": [
    "def f(x):\n",
    "    return 1\n"
   ]
  },
  {
   "cell_type": "code",
   "execution_count": null,
   "metadata": {},
   "outputs": [],
   "source": [
    "a=0\n",
    "b=1\n",
    "n=7\n",
    "\n",
    "grid1=np.array([0, 0.1, 0.3, 0.333, 0.5, 0.75, 1])\n",
    "grid2=np.linspace(a,b,n)\n",
    "grid3=np.linspace(a,b,100)\n",
    "\n",
    "sol1=finelem(f,grid1)\n",
    "sol2=finelem(f,grid2)\n",
    "\n",
    "plt.style.use('dark_background')\n",
    "fig, ax=plt.subplots()\n",
    "ax.plot(grid1, sol1, color=\"cyan\",label=\"aprox solution n=7 non-equidistant grid\")\n",
    "ax.plot(grid2, sol2, color=\"purple\",label=\"aprox solution n=7 equidistant grid\")\n",
    "ax.plot(grid3,-(grid3**2)/2 + grid3/2, color=\"white\", label=\"analitic solution\")\n",
    "plt.suptitle(\"a)\")\n",
    "plt.legend()\n",
    "plt.show()"
   ]
  },
  {
   "cell_type": "code",
   "execution_count": null,
   "metadata": {},
   "outputs": [],
   "source": [
    "def f(x):\n",
    "    return -1 if 1/3<x<2/3 else 0"
   ]
  },
  {
   "cell_type": "code",
   "execution_count": null,
   "metadata": {},
   "outputs": [],
   "source": [
    "a=0\n",
    "b=1\n",
    "n=4\n",
    "\n",
    "grid1=np.linspace(a,b,n)\n",
    "grid2=np.linspace(a,b,2*n)\n",
    "grid3=np.linspace(a,b,200)\n",
    "\n",
    "sol1=finelem(f,grid1)\n",
    "sol2=finelem(f,grid2)\n",
    "sol3=finelem(f,grid3)\n",
    "\n",
    "\n",
    "plt.style.use('dark_background')\n",
    "fig, ax=plt.subplots()\n",
    "ax.plot(grid1, sol1, color=\"cyan\",label=\"aprox solution n=4 equidistant grid\")\n",
    "ax.plot(grid2, sol2, color=\"purple\",label=\"aprox solution n=8 equidistant grid\")\n",
    "ax.plot(grid3, sol3, color=\"white\",label=\"aprox solution n=200 equidistant grid\")\n",
    "plt.suptitle(\"b)\")\n",
    "plt.legend()\n",
    "plt.show()"
   ]
  }
 ],
 "metadata": {
  "kernelspec": {
   "display_name": "Python 3",
   "language": "python",
   "name": "python3"
  },
  "language_info": {
   "codemirror_mode": {
    "name": "ipython",
    "version": 3
   },
   "file_extension": ".py",
   "mimetype": "text/x-python",
   "name": "python",
   "nbconvert_exporter": "python",
   "pygments_lexer": "ipython3",
   "version": "3.11.5"
  }
 },
 "nbformat": 4,
 "nbformat_minor": 2
}
