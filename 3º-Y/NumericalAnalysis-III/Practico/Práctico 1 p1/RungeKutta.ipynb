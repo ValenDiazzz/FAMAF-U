{
 "cells": [
  {
   "cell_type": "code",
   "execution_count": 1,
   "metadata": {},
   "outputs": [],
   "source": [
    "import numpy as np\n",
    "import matplotlib.pyplot as plt"
   ]
  },
  {
   "cell_type": "code",
   "execution_count": 2,
   "metadata": {},
   "outputs": [],
   "source": [
    "def RK4(fun, t_0, x_0, h, a,b):\n",
    "    def F1(t, x, h):\n",
    "        return h*fun(t, x) \n",
    "    def F2(t, x, h):\n",
    "        return h*fun(t + (h/2), x + F1(t, x, h)/2)\n",
    "    def F3(t, x, h):\n",
    "        return h*fun(t + (h/2), x + F2(t, x, h)/2)\n",
    "    def F4(t, x, h):\n",
    "        return h*fun(t + h, x + F3(t, x, h))\n",
    "    \n",
    "    sol=[x_0]\n",
    "    steps1=np.arange(a,b,h,dtype=float) if h>0 else np.arange(b,a,h,dtype=float)\n",
    "    steps=np.zeros(len(steps1)+1)\n",
    "    steps[:-1]=steps1\n",
    "    steps[-1]=b if h>0 else a\n",
    "    for t in steps[1:]:\n",
    "        x_0= x_0 + (1/6)*(F1(t, x_0, h) + 2*F2(t, x_0, h) + 2*F3(t, x_0, h) + F4(t, x_0, h))\n",
    "        sol.append(x_0)\n",
    "    return sol, steps"
   ]
  }
 ],
 "metadata": {
  "kernelspec": {
   "display_name": "Python 3",
   "language": "python",
   "name": "python3"
  },
  "language_info": {
   "codemirror_mode": {
    "name": "ipython",
    "version": 3
   },
   "file_extension": ".py",
   "mimetype": "text/x-python",
   "name": "python",
   "nbconvert_exporter": "python",
   "pygments_lexer": "ipython3",
   "version": "3.11.5"
  },
  "orig_nbformat": 4
 },
 "nbformat": 4,
 "nbformat_minor": 2
}
