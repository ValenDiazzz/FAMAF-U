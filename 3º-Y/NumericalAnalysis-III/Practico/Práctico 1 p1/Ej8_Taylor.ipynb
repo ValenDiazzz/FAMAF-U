{
 "cells": [
  {
   "cell_type": "code",
   "execution_count": 1,
   "metadata": {},
   "outputs": [],
   "source": [
    "import numpy as np\n",
    "import sympy as sym\n",
    "import matplotlib.pyplot as plt\n",
    "from math import factorial\n",
    "from scipy.integrate import solve_ivp"
   ]
  },
  {
   "cell_type": "code",
   "execution_count": 2,
   "metadata": {},
   "outputs": [],
   "source": [
    "t=sym.symbols('t')\n",
    "x=sym.Function(\"x\")(t)\n",
    "f= 1 - x*(t**-1)"
   ]
  },
  {
   "cell_type": "code",
   "execution_count": 3,
   "metadata": {},
   "outputs": [],
   "source": [
    "#Takes advantage of the form of the derivatives\n",
    "#Is not necesarry to use sym.diff\n",
    "\n",
    "def taylor_method_ej8(order, f, t_0, x_0, h, a,b):\n",
    "    x_sol=[x_0]    \n",
    "    f_der=[f, (1-(2*f))*(t**-1)] #List of derivatives\n",
    "    func=f_der[1]\n",
    "    \n",
    "    for i in range(2,order):  #Calculates f', f'', ...\n",
    "        func=-(i+1)*func*(t**-1)  # Uses iterative definition\n",
    "        f_der.append(func)\n",
    "\n",
    "    #steps =[a, a+h, a+2h, ..., b]\n",
    "    steps=np.arange(a,b,h,dtype=float) if a!=b else [a]\n",
    "\n",
    "    for j in steps[1:]: #Iterates for all points\n",
    "        x_1=x_0\n",
    "        for n in range(order): #calculates x(t + h)\n",
    "            der_value=f_der[n].xreplace({x: x_0, t:j})\n",
    "            x_1+= (h**(n+1)) * der_value / factorial(n+1)\n",
    "        x_0=x_1\n",
    "        x_sol.append(x_0)\n",
    "    \n",
    "    return x_sol, steps"
   ]
  },
  {
   "cell_type": "code",
   "execution_count": 4,
   "metadata": {},
   "outputs": [],
   "source": [
    "sol, steps=taylor_method_ej8(10, f, 2, 2, 1, 2, 20)"
   ]
  },
  {
   "cell_type": "code",
   "execution_count": null,
   "metadata": {},
   "outputs": [],
   "source": [
    "plt.style.use('dark_background')\n",
    "fig, ax= plt.subplots()\n",
    "plt.plot(steps, sol, color=\"blue\", label=\"Ejercicio 8\")\n",
    "plt.suptitle('Mi resolución')\n",
    "plt.legend()\n",
    "plt.show()"
   ]
  },
  {
   "cell_type": "code",
   "execution_count": 6,
   "metadata": {},
   "outputs": [],
   "source": [
    "def f(t,x):\n",
    "    return 1 - x*(t**-1)"
   ]
  },
  {
   "cell_type": "code",
   "execution_count": 7,
   "metadata": {},
   "outputs": [],
   "source": [
    "solver=solve_ivp(fun=f, t_span=[2,20], y0=[2], method='RK45',vectorized=False, t_eval=np.arange(2,20,1,dtype=float))\n",
    "steps_sc, sol_sc=solver.t, solver.y"
   ]
  },
  {
   "cell_type": "code",
   "execution_count": null,
   "metadata": {},
   "outputs": [],
   "source": [
    "plt.style.use('dark_background')\n",
    "fig, ax= plt.subplots()\n",
    "plt.plot(steps_sc, sol_sc.reshape(18), color=\"blue\", label=\"Ejercicio 8\")\n",
    "plt.suptitle('Scipy')\n",
    "plt.legend()\n",
    "plt.show()"
   ]
  }
 ],
 "metadata": {
  "kernelspec": {
   "display_name": "Python 3",
   "language": "python",
   "name": "python3"
  },
  "language_info": {
   "codemirror_mode": {
    "name": "ipython",
    "version": 3
   },
   "file_extension": ".py",
   "mimetype": "text/x-python",
   "name": "python",
   "nbconvert_exporter": "python",
   "pygments_lexer": "ipython3",
   "version": "3.11.5"
  },
  "orig_nbformat": 4
 },
 "nbformat": 4,
 "nbformat_minor": 2
}
