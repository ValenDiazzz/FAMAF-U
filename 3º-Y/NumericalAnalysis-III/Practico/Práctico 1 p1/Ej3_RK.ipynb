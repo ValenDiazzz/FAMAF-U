{
 "cells": [
  {
   "cell_type": "code",
   "execution_count": 1,
   "metadata": {},
   "outputs": [],
   "source": [
    "import numpy as np\n",
    "import matplotlib.pyplot as plt\n",
    "from scipy.integrate import solve_ivp\n",
    "from math import e\n",
    "from ipynb.fs.full.RungeKutta import RK4"
   ]
  },
  {
   "cell_type": "code",
   "execution_count": 2,
   "metadata": {},
   "outputs": [],
   "source": [
    "def fun(t,x):\n",
    "    return x*(1 - (e**t))/(1 + (e**t))"
   ]
  },
  {
   "cell_type": "code",
   "execution_count": 3,
   "metadata": {},
   "outputs": [],
   "source": [
    "sol, steps=RK4(fun, 0, 3, -0.01, -2, 0)"
   ]
  },
  {
   "cell_type": "code",
   "execution_count": 4,
   "metadata": {},
   "outputs": [],
   "source": [
    "solver=solve_ivp(fun, t_span=[0,-2], y0=[3], method='RK45',vectorized=False, t_eval=np.arange(0,-2,-0.01,dtype=float))\n",
    "sol_sc, steps_sc=solver.y, solver.t"
   ]
  },
  {
   "cell_type": "code",
   "execution_count": null,
   "metadata": {},
   "outputs": [],
   "source": [
    "plt.style.use('dark_background')\n",
    "fig, (ax1, ax2)= plt.subplots(2,1)\n",
    "ax1.plot(steps, sol, color=\"blue\", label=\"Mi Resolución\")\n",
    "ax2.plot(steps_sc, sol_sc.reshape(200),color=\"lightblue\", label=\"Scipy\")\n",
    "ax1.legend()\n",
    "ax2.legend()\n",
    "plt.suptitle('Ejercicio 3')\n",
    "plt.legend()\n",
    "plt.show()"
   ]
  }
 ],
 "metadata": {
  "kernelspec": {
   "display_name": "Python 3",
   "language": "python",
   "name": "python3"
  },
  "language_info": {
   "codemirror_mode": {
    "name": "ipython",
    "version": 3
   },
   "file_extension": ".py",
   "mimetype": "text/x-python",
   "name": "python",
   "nbconvert_exporter": "python",
   "pygments_lexer": "ipython3",
   "version": "3.11.5"
  },
  "orig_nbformat": 4
 },
 "nbformat": 4,
 "nbformat_minor": 2
}
