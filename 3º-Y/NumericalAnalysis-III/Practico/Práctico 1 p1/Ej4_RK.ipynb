{
 "cells": [
  {
   "cell_type": "code",
   "execution_count": 1,
   "metadata": {},
   "outputs": [],
   "source": [
    "import numpy as np\n",
    "import matplotlib.pyplot as plt\n",
    "from scipy.integrate import solve_ivp\n",
    "from math import e\n",
    "from ipynb.fs.full.RungeKutta import RK4"
   ]
  },
  {
   "cell_type": "code",
   "execution_count": 2,
   "metadata": {},
   "outputs": [],
   "source": [
    "def fun_a(t,x): \n",
    "    return 5*x + np.cos(t) - 5*np.sin(t) \n",
    "def fun_b(t,x):\n",
    "    return (-5)*x + np.cos(t) - (-5)*np.sin(t)\n",
    "def fun_c(t,x):\n",
    "    return (-10)*x + np.cos(t) - (-10)*np.sin(t)"
   ]
  },
  {
   "cell_type": "code",
   "execution_count": 3,
   "metadata": {},
   "outputs": [],
   "source": [
    "sol_a, steps_a= RK4(fun_a, 0, 0, 0.01, 0,5)\n",
    "sol_b, steps_b= RK4(fun_b, 0, 0, 0.01, 0,5)\n",
    "sol_c, steps_c= RK4(fun_c, 0, 0, 0.01, 0,5)"
   ]
  },
  {
   "cell_type": "code",
   "execution_count": 4,
   "metadata": {},
   "outputs": [],
   "source": [
    "#Solucion general: y=sin(t)\n",
    "fx=np.arange(0,5,0.01,dtype=float)\n",
    "fy=np.sin(fx)"
   ]
  },
  {
   "cell_type": "code",
   "execution_count": null,
   "metadata": {},
   "outputs": [],
   "source": [
    "plt.style.use('dark_background')\n",
    "fig, ax= plt.subplots()\n",
    "ax.plot(steps_a, sol_a, color=\"lightblue\", label=\"Aproximación\")\n",
    "ax.plot(fx, fy, color=\"violet\", label=\"Sol. analítica\")\n",
    "ax.legend()\n",
    "plt.suptitle('Ejercicio 4 | λ=5')\n",
    "plt.legend()\n",
    "plt.show()"
   ]
  },
  {
   "cell_type": "code",
   "execution_count": null,
   "metadata": {},
   "outputs": [],
   "source": [
    "plt.style.use('dark_background')\n",
    "fig, ax= plt.subplots()\n",
    "ax.plot(steps_b, sol_b, color=\"lightblue\", label=\"Aproximación\")\n",
    "ax.plot(fx, fy, color=\"violet\", label=\"Sol. analítica\")\n",
    "ax.legend()\n",
    "plt.suptitle('Ejercicio 4 | λ=-5')\n",
    "plt.legend()\n",
    "plt.show()"
   ]
  },
  {
   "cell_type": "code",
   "execution_count": null,
   "metadata": {},
   "outputs": [],
   "source": [
    "plt.style.use('dark_background')\n",
    "fig, ax= plt.subplots()\n",
    "ax.plot(steps_c, sol_c, color=\"lightblue\", label=\"Aproximación\")\n",
    "ax.plot(fx, fy, color=\"violet\", label=\"Sol. analítica\")\n",
    "ax.legend()\n",
    "plt.suptitle('Ejercicio 4 | λ=-10')\n",
    "plt.legend()\n",
    "plt.show()"
   ]
  }
 ],
 "metadata": {
  "kernelspec": {
   "display_name": "Python 3",
   "language": "python",
   "name": "python3"
  },
  "language_info": {
   "codemirror_mode": {
    "name": "ipython",
    "version": 3
   },
   "file_extension": ".py",
   "mimetype": "text/x-python",
   "name": "python",
   "nbconvert_exporter": "python",
   "pygments_lexer": "ipython3",
   "version": "3.11.5"
  },
  "orig_nbformat": 4
 },
 "nbformat": 4,
 "nbformat_minor": 2
}
