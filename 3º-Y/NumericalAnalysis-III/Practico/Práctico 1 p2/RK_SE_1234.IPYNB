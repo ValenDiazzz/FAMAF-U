{
 "cells": [
  {
   "cell_type": "code",
   "execution_count": 1,
   "metadata": {},
   "outputs": [],
   "source": [
    "from ipynb.fs.full.RungeKutta import RK4\n",
    "import numpy as np\n",
    "import matplotlib.pyplot as plt"
   ]
  },
  {
   "cell_type": "markdown",
   "metadata": {},
   "source": [
    "EJERCICIO 1"
   ]
  },
  {
   "cell_type": "code",
   "execution_count": 2,
   "metadata": {},
   "outputs": [],
   "source": [
    "def fun1(t, x):\n",
    "    return np.array([t + x[0]**2 + x[1], t**2 - x[0] + x[1]**2],dtype=float)"
   ]
  },
  {
   "cell_type": "code",
   "execution_count": 3,
   "metadata": {},
   "outputs": [],
   "source": [
    "sol, steps=RK4(fun1, -1, [0.43, -0.69], 0.01, -1,1)\n",
    "sol=sol.T"
   ]
  },
  {
   "cell_type": "code",
   "execution_count": null,
   "metadata": {},
   "outputs": [],
   "source": [
    "plt.style.use('dark_background')\n",
    "fig, ax= plt.subplots()\n",
    "ax.plot(steps, sol[0],color=\"lightblue\",label=\"x1\")\n",
    "ax.plot(steps, sol[1],color=\"purple\",label=\"x2\")\n",
    "ax.legend()\n",
    "plt.suptitle('Ejercicio 1')\n",
    "plt.legend()\n",
    "plt.show()"
   ]
  },
  {
   "cell_type": "markdown",
   "metadata": {},
   "source": [
    "EJERCICIO 2"
   ]
  },
  {
   "cell_type": "code",
   "execution_count": 5,
   "metadata": {},
   "outputs": [],
   "source": [
    "def fun2analitica(t):\n",
    "    res=np.zeros(2)\n",
    "    res[0]=np.exp(-13*t)*(np.sin(6*t) - 2*np.cos(6*t))\n",
    "    res[1]=np.exp(-13*t)*(2*np.sin(6*t) + np.cos(6*t))\n",
    "    return 6*res"
   ]
  },
  {
   "cell_type": "code",
   "execution_count": 6,
   "metadata": {},
   "outputs": [],
   "source": [
    "def fun2(t,x):\n",
    "    res=np.zeros(2)\n",
    "    res[0]= (-1 - (9*(np.cos(6*t)**2)) + (12*np.sin(6*t)*np.cos(6*t)))*x[0] \n",
    "    res[0]+= ((12*(np.cos(6*t)**2)) + (9*np.sin(6*t)*np.cos(6*t)))*x[1]\n",
    "\n",
    "    res[1]=(-1 - (9*(np.sin(6*t)**2)) - (12*np.sin(6*t)*np.cos(6*t)))*x[1]\n",
    "    res[1]+=((-12*(np.sin(6*t)**2)) + (9*np.sin(6*t)))*x[0]\n",
    "    return res"
   ]
  },
  {
   "cell_type": "code",
   "execution_count": 7,
   "metadata": {},
   "outputs": [],
   "source": [
    "sol, steps=RK4(fun2, 0, [-12, 6], 0.01, 0,10)\n",
    "sol=sol.T\n",
    "fy=[]\n",
    "for step in steps:\n",
    "    fy.append(fun2analitica(step))\n",
    "fy=np.array(fy)"
   ]
  },
  {
   "cell_type": "code",
   "execution_count": null,
   "metadata": {},
   "outputs": [],
   "source": [
    "plt.style.use('dark_background')\n",
    "fig, (ax1,ax2)= plt.subplots(2,1)\n",
    "ax1.plot(steps, sol[0],color=\"lightblue\",label=\"x1 aprox\")\n",
    "ax1.plot(steps, fy[:,0],color=\"purple\",label=\"x1 analitica\")\n",
    "ax1.legend()\n",
    "ax2.plot(steps, sol[1],color=\"lightblue\",label=\"x2 aprox\")\n",
    "ax2.plot(steps, fy[:,1],color=\"purple\",label=\"x2 analitica\")\n",
    "ax2.legend()\n",
    "plt.suptitle('Ejercicio 2')\n",
    "plt.show()"
   ]
  },
  {
   "cell_type": "markdown",
   "metadata": {},
   "source": [
    "EJERCICIO 3"
   ]
  },
  {
   "cell_type": "code",
   "execution_count": 9,
   "metadata": {},
   "outputs": [],
   "source": [
    "def fun3(t,x):\n",
    "    res=np.zeros(2)\n",
    "    res[0]=x[0]**(-2) + np.log(x[1]) + t**2\n",
    "    res[1]=np.exp(x[1]) - np.exp(x[0]) + np.sin(t)*x[0] - (x[0]*x[1])**(-3)\n",
    "    return res"
   ]
  },
  {
   "cell_type": "code",
   "execution_count": 10,
   "metadata": {},
   "outputs": [],
   "source": [
    "sol, steps=RK4(fun3, 2, [-2, 1], -0.01, 1,2)\n",
    "sol=sol.T"
   ]
  },
  {
   "cell_type": "code",
   "execution_count": null,
   "metadata": {},
   "outputs": [],
   "source": [
    "plt.style.use('dark_background')\n",
    "fig, ax= plt.subplots()\n",
    "ax.plot(steps, sol[0],color=\"lightblue\",label=\"x1\")\n",
    "ax.plot(steps, sol[1],color=\"purple\",label=\"x2\")\n",
    "ax.legend()\n",
    "plt.suptitle('Ejercicio 3')\n",
    "plt.legend()\n",
    "plt.show()"
   ]
  },
  {
   "cell_type": "markdown",
   "metadata": {},
   "source": [
    "EJERCICIO 4"
   ]
  },
  {
   "cell_type": "markdown",
   "metadata": {},
   "source": [
    "Usando cambio de variables con x1=x, x2=x1' tenemos el siguiente sistema:   \n",
    "x2'=-192x1, x1'=x2, x1(0)=1/6, x2(0)=0"
   ]
  },
  {
   "cell_type": "code",
   "execution_count": 12,
   "metadata": {},
   "outputs": [],
   "source": [
    "def fun4(t,x):\n",
    "    return np.array([x[1],-192*x[0]],dtype=float)"
   ]
  },
  {
   "cell_type": "code",
   "execution_count": 13,
   "metadata": {},
   "outputs": [],
   "source": [
    "sol, steps=RK4(fun4, 0, [1/6, 0], 0.01, 0,5)\n",
    "sol=sol.T"
   ]
  },
  {
   "cell_type": "code",
   "execution_count": null,
   "metadata": {},
   "outputs": [],
   "source": [
    "plt.style.use('dark_background')\n",
    "fig, ax= plt.subplots()\n",
    "ax.plot(steps, sol[0],color=\"lightblue\",label=\"x\")\n",
    "ax.legend()\n",
    "plt.suptitle('Ejercicio 4')\n",
    "plt.legend()\n",
    "plt.show()"
   ]
  }
 ],
 "metadata": {
  "kernelspec": {
   "display_name": "Python 3",
   "language": "python",
   "name": "python3"
  },
  "language_info": {
   "codemirror_mode": {
    "name": "ipython",
    "version": 3
   },
   "file_extension": ".py",
   "mimetype": "text/x-python",
   "name": "python",
   "nbconvert_exporter": "python",
   "pygments_lexer": "ipython3",
   "version": "3.11.5"
  },
  "orig_nbformat": 4
 },
 "nbformat": 4,
 "nbformat_minor": 2
}
