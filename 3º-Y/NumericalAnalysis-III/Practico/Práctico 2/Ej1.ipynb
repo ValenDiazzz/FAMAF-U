{
 "cells": [
  {
   "cell_type": "code",
   "execution_count": 1,
   "metadata": {},
   "outputs": [],
   "source": [
    "import numpy as np"
   ]
  },
  {
   "cell_type": "markdown",
   "metadata": {},
   "source": [
    "Reciclo codigo de numerico II"
   ]
  },
  {
   "cell_type": "code",
   "execution_count": 2,
   "metadata": {},
   "outputs": [],
   "source": [
    "def tribanda(n):\n",
    "    A= np.diag((-2)*np.ones(n)) #Crea la matriz diagonal con 2 en la diagonal\n",
    "    A= A + np.diag(np.ones(n-1), -1) #El segundo parametro te hace la diagonal 1 lugar por debajo de la principal\n",
    "    A= A + np.diag(np.ones(n-1), 1)  #El segundo parametro te hace la diagonal 1 lugar por encima de la principal\n",
    "    return A\n",
    "\n",
    "def sol_trinffil(A, b):    \n",
    "    #assert np.prod(np.diag(A)) != 0,\"Error: la matriz es singular\"\n",
    "    \n",
    "    n = len(b)\n",
    "    x = b.copy()\n",
    "\n",
    "    if n==1:\n",
    "        x[0]=x[0]/A[0, 0]\n",
    "    else:\n",
    "        k=0\n",
    "        while x[k]==0 and k<n-1: #Si b_i = 0 => x_i = 0\n",
    "            k+=1\n",
    "    \n",
    "        for i in range(k,n): #Ya calculé los x hasta k\n",
    "            x[i] = (x[i]-A[i,0:i]@x[0:i]) / A[i,i]\n",
    "    \n",
    "    return x\n",
    "\n",
    "def sol_trsupfil(A, b):    \n",
    "    #assert np.prod(np.diag(A)) != 0,\"Error: la matriz es singular\"\n",
    "    n = len(b)-1\n",
    "    x = b.copy() \n",
    "    k=n\n",
    "    while x[k]==0 and k>0: #Si b_i = 0 => x_i = 0\n",
    "        k-=1\n",
    "\n",
    "    for i in reversed(range(k+1)): #Ya calculé los x desde k hasta n.\n",
    "        x[i] = (x[i]-(A[i,i+1:n+1]@x[i+1:n+1])) / A[i,i]\n",
    "    return x\n",
    "\n",
    "def sol_defpos(B,y):\n",
    "    A=B.copy()\n",
    "    b=y.copy()\n",
    "    G=np.linalg.cholesky(A).T\n",
    "    y = sol_trinffil(G.T,b)\n",
    "    x=sol_trsupfil(G, y)\n",
    "    return x"
   ]
  },
  {
   "cell_type": "code",
   "execution_count": 3,
   "metadata": {},
   "outputs": [],
   "source": [
    "#Solves AU=f, but takes U[1:-1]=u, f[1:-1]=d\n",
    "def two_points(f, a, b, ua, ub, n):\n",
    "    A=-tribanda(n-2)\n",
    "    u=np.zeros(n)\n",
    "    d=np.zeros(n-2)\n",
    "\n",
    "    u[0],u[-1]= ua, ub\n",
    "    \n",
    "    h=(b-a)/n\n",
    "    steps=np.linspace(a,b,n)\n",
    "    \n",
    "    d[0]=f(steps[1]) - (ua*(n**2))\n",
    "    d[-1]=f(steps[-2]) - (ub*(n**2))\n",
    "    for j in range(len(d)-2):\n",
    "        d[j+1]=f(steps[j+2])\n",
    "    d=-d*(h**2)\n",
    "    \n",
    "    u[1:-1]=sol_defpos(A,d)\n",
    "    return u,steps"
   ]
  }
 ],
 "metadata": {
  "kernelspec": {
   "display_name": "Python 3",
   "language": "python",
   "name": "python3"
  },
  "language_info": {
   "codemirror_mode": {
    "name": "ipython",
    "version": 3
   },
   "file_extension": ".py",
   "mimetype": "text/x-python",
   "name": "python",
   "nbconvert_exporter": "python",
   "pygments_lexer": "ipython3",
   "version": "3.11.5"
  },
  "orig_nbformat": 4
 },
 "nbformat": 4,
 "nbformat_minor": 2
}
