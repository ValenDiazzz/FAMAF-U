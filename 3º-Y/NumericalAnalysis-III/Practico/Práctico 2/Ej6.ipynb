{
 "cells": [
  {
   "cell_type": "code",
   "execution_count": null,
   "metadata": {},
   "outputs": [],
   "source": [
    "import numpy as np\n",
    "import matplotlib.pyplot as plt\n",
    "from ipynb.fs.full.SelfAdjoint_BVP import self_adjoint_bvp\n",
    "from math import e"
   ]
  },
  {
   "cell_type": "code",
   "execution_count": null,
   "metadata": {},
   "outputs": [],
   "source": [
    "plt.style.use(\"dark_background\")"
   ]
  },
  {
   "cell_type": "code",
   "execution_count": null,
   "metadata": {},
   "outputs": [],
   "source": [
    "def u(x,eps):\n",
    "    return 1 + x + ((-1+ (e**(x/eps)))/(-1+ (e**(1/eps))))"
   ]
  },
  {
   "cell_type": "code",
   "execution_count": null,
   "metadata": {},
   "outputs": [],
   "source": [
    "def solver_i(a, b, ua,ub, eps,n):\n",
    "    u=np.zeros(n+1) #solutions\n",
    "    u[0]=ua\n",
    "    u[-1]=ub\n",
    "    #discretiazacion\n",
    "    h=(b-a)/n\n",
    "    steps=np.linspace(a,b,n+1)\n",
    "    #definimos A\n",
    "    A=np.diag(np.ones(n-1))\n",
    "    A=A*(-2*eps/(h**2))\n",
    "    A= A + np.diag(np.ones(n-2), -1)*((eps/(h**2)) + (1/(2*h)))\n",
    "    A= A + np.diag(np.ones(n-2), 1)*((eps/(h**2)) - (1/(2*h)))\n",
    "    #definimos f\n",
    "    f=-1*np.ones(n-1)\n",
    "    f[0]=f[0]-((eps/(h**2)) + (1/(2*h)))\n",
    "    f[-1]=f[-1]-3*((eps/(h**2)) - (1/(2*h)))\n",
    "    \n",
    "    \n",
    "    #Resolvemos Au[1:-1]=f\n",
    "    u[1:-1]=np.linalg.solve(A,f) #A is def neg => -A is def pos\n",
    "    return u,steps,eps"
   ]
  },
  {
   "cell_type": "markdown",
   "metadata": {},
   "source": [
    "Diferencias finitas centradas"
   ]
  },
  {
   "cell_type": "code",
   "execution_count": null,
   "metadata": {},
   "outputs": [],
   "source": [
    "for eps in [0.3, 0.1, 0.05, 0.0005]:\n",
    "    title=eps\n",
    "    sol, steps,eps=solver_i(0, 1, 1, 3, eps, 100)\n",
    "    fig,ax=plt.subplots()\n",
    "    ax.plot(steps,sol,color=\"orange\", label='Numeric Solution')\n",
    "    if eps==0.0005: #u function doesnt work well with eps=0.0005\n",
    "        eps=0.005\n",
    "        title=0.0005\n",
    "    ax.plot(steps,u(steps,eps),color=\"lightblue\", label='Analitic Solution')\n",
    "    title=\"ε=\"+str(title)\n",
    "    plt.suptitle(title)\n",
    "    plt.legend()\n",
    "    plt.show()"
   ]
  },
  {
   "cell_type": "markdown",
   "metadata": {},
   "source": [
    "Diferencias finita central UpWind"
   ]
  },
  {
   "cell_type": "code",
   "execution_count": null,
   "metadata": {},
   "outputs": [],
   "source": [
    "def solver_ii(a, b, ua,ub, eps,n):\n",
    "    u=np.zeros(n+1) #solutions\n",
    "    u[0]=ua\n",
    "    u[-1]=ub\n",
    "    #discretiazacion\n",
    "    h=(b-a)/n\n",
    "    steps=np.linspace(a,b,n+1)\n",
    "    \n",
    "    #definimos A\n",
    "    A=-1*np.diag(np.ones(n-1))\n",
    "    A=A*(((2*eps)/(h**2)) + (1/h))\n",
    "    A= A + np.diag(np.ones(n-2), -1)*((eps/(h**2)) + (1/h))\n",
    "    A= A + np.diag(np.ones(n-2), 1)*(eps/(h**2))\n",
    "    #definimos f\n",
    "    f=-1*np.ones(n-1)\n",
    "    f[0]=f[0]-((eps/(h**2)) + (1/h))\n",
    "    f[-1]=f[-1]-3*(eps/(h**2))\n",
    "    \n",
    "    \n",
    "    #Resolvemos Au[1:-1]=f\n",
    "    u[1:-1]=np.linalg.solve(A,f) #A is def neg => -A is def pos\n",
    "    return u,steps,eps"
   ]
  },
  {
   "cell_type": "code",
   "execution_count": null,
   "metadata": {},
   "outputs": [],
   "source": [
    "for eps in [0.3, 0.1, 0.05, 0.0005]:\n",
    "    title=eps\n",
    "    sol, steps,eps=solver_ii(0, 1, 1, 3, eps, 100)\n",
    "    fig,ax=plt.subplots()\n",
    "    ax.plot(steps,sol,color=\"orange\", label='Numeric Solution')\n",
    "    if eps==0.0005: #u function doesnt work well with eps=0.0005\n",
    "        eps=0.005\n",
    "        title=0.0005\n",
    "    ax.plot(steps,u(steps,eps),color=\"lightblue\", label='Analitic Solution')\n",
    "    title=\"ε=\"+str(title)\n",
    "    plt.suptitle(title)\n",
    "    plt.legend()\n",
    "    plt.show()"
   ]
  }
 ],
 "metadata": {
  "kernelspec": {
   "display_name": "Python 3",
   "language": "python",
   "name": "python3"
  },
  "language_info": {
   "codemirror_mode": {
    "name": "ipython",
    "version": 3
   },
   "file_extension": ".py",
   "mimetype": "text/x-python",
   "name": "python",
   "nbconvert_exporter": "python",
   "pygments_lexer": "ipython3",
   "version": "3.11.5"
  },
  "orig_nbformat": 4
 },
 "nbformat": 4,
 "nbformat_minor": 2
}
