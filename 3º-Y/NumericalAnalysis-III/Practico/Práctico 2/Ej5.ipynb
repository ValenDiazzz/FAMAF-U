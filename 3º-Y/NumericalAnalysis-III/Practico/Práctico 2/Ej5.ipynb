{
 "cells": [
  {
   "cell_type": "code",
   "execution_count": null,
   "metadata": {},
   "outputs": [],
   "source": [
    "import numpy as np\n",
    "import matplotlib.pyplot as plt\n",
    "from ipynb.fs.full.SelfAdjoint_BVP import self_adjoint_bvp\n",
    "from math import e"
   ]
  },
  {
   "cell_type": "code",
   "execution_count": null,
   "metadata": {},
   "outputs": [],
   "source": [
    "def u(x):\n",
    "    return (e**(-x))*((x**2) -(2*x)+1)\n",
    "def fun(x):\n",
    "    u=(e**(-x))*((x**2) -(2*x)+1)\n",
    "    p1=2*x\n",
    "    p=1 + x**2\n",
    "    u1=(e**(-x))*(-(x**2) +(4*x)-3)\n",
    "    u2=(e**(-x))*((x**2) -(6*x)+7)\n",
    "    q=x\n",
    "    return p1*u1 + p*u2 - q*u \n",
    "def p(x):\n",
    "    return 1 + x**2\n",
    "def q(x):\n",
    "    return x"
   ]
  },
  {
   "cell_type": "code",
   "execution_count": null,
   "metadata": {},
   "outputs": [],
   "source": [
    "sol,steps=self_adjoint_bvp(fun, p, q, 0, 1, 1,2, -3, 0, 80)"
   ]
  },
  {
   "cell_type": "code",
   "execution_count": null,
   "metadata": {},
   "outputs": [],
   "source": [
    "plt.style.use(\"dark_background\")\n",
    "fig,ax=plt.subplots()\n",
    "ax.plot(steps,sol,color=\"orange\", label='Numeric Solution')\n",
    "ax.plot(steps,u(steps),color=\"lightblue\", label='Analitic Solution')\n",
    "plt.suptitle('Ejercicio 5a')\n",
    "plt.legend()\n",
    "plt.show()"
   ]
  }
 ],
 "metadata": {
  "kernelspec": {
   "display_name": "Python 3",
   "language": "python",
   "name": "python3"
  },
  "language_info": {
   "codemirror_mode": {
    "name": "ipython",
    "version": 3
   },
   "file_extension": ".py",
   "mimetype": "text/x-python",
   "name": "python",
   "nbconvert_exporter": "python",
   "pygments_lexer": "ipython3",
   "version": "3.11.5"
  },
  "orig_nbformat": 4
 },
 "nbformat": 4,
 "nbformat_minor": 2
}
