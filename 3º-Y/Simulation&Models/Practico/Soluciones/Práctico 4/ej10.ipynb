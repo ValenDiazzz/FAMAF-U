{
 "cells": [
  {
   "cell_type": "code",
   "execution_count": 1,
   "metadata": {},
   "outputs": [],
   "source": [
    "import random as rd\n",
    "import numpy as np"
   ]
  },
  {
   "attachments": {},
   "cell_type": "markdown",
   "metadata": {},
   "source": [
    "Generador de la variable aleatoria"
   ]
  },
  {
   "cell_type": "code",
   "execution_count": 2,
   "metadata": {},
   "outputs": [],
   "source": [
    "#p_j= q_j + k_j\n",
    "#q_j+1 = (1/2)q_j (Recursividad de q)\n",
    "#k_j+1 = (2/3)k_j (Recursividad de k)\n",
    "def tr_inv():\n",
    "    q=0.25      #q_1\n",
    "    k=1/6       #k_1\n",
    "    F=q+k       #p_1\n",
    "    u=rd.random()\n",
    "    i=1\n",
    "    while u>=F:\n",
    "        i+=1    \n",
    "        q=0.5*q\n",
    "        k=(2/3)*k\n",
    "        F+=q+k\n",
    "    return i"
   ]
  },
  {
   "cell_type": "code",
   "execution_count": 3,
   "metadata": {},
   "outputs": [],
   "source": [
    "def Esp(n):\n",
    "    sum=0\n",
    "    for i in range(n):\n",
    "        sum+=tr_inv()\n",
    "    return sum/n"
   ]
  },
  {
   "cell_type": "code",
   "execution_count": null,
   "metadata": {},
   "outputs": [],
   "source": [
    "Esp(1000)"
   ]
  }
 ],
 "metadata": {
  "kernelspec": {
   "display_name": "Python 3",
   "language": "python",
   "name": "python3"
  },
  "language_info": {
   "codemirror_mode": {
    "name": "ipython",
    "version": 3
   },
   "file_extension": ".py",
   "mimetype": "text/x-python",
   "name": "python",
   "nbconvert_exporter": "python",
   "pygments_lexer": "ipython3",
   "version": "3.11.5"
  },
  "orig_nbformat": 4
 },
 "nbformat": 4,
 "nbformat_minor": 2
}
