{
 "cells": [
  {
   "cell_type": "code",
   "execution_count": 1,
   "metadata": {},
   "outputs": [],
   "source": [
    "import time\n",
    "import random as rd\n",
    "import numpy as np\n",
    "import matplotlib.pyplot as plt\n",
    "from scipy.interpolate import interp1d\n",
    "from scipy.stats import binom"
   ]
  },
  {
   "cell_type": "code",
   "execution_count": 2,
   "metadata": {},
   "outputs": [],
   "source": [
    "def Bin_tr_inv1(n,p):\n",
    "    u=rd.random()\n",
    "    prob=(1-p)**n   #pues p0=(1-p)^n\n",
    "    F=prob          #La acumulada\n",
    "    c= p/(1-p)      #Constante para la formula recursiva de pi\n",
    "    i=0\n",
    "    while u>=F:\n",
    "        prob= prob*c*((n-i)/(1+i))      #p_i+1 = [(n-i)/(i+1)]*c*p_i\n",
    "        F+=prob\n",
    "        i+=1\n",
    "    return i"
   ]
  },
  {
   "cell_type": "code",
   "execution_count": 3,
   "metadata": {},
   "outputs": [],
   "source": [
    "def Bin_ensayos(n,p):\n",
    "    u=np.random.uniform(size=n) #array con n variables uniformes generadas\n",
    "    sum=0           #Cuento la cantidad de ensayos\n",
    "    for j in range(n):\n",
    "        if u[j]<p:\n",
    "            sum+=1\n",
    "    return sum\n",
    "\n"
   ]
  },
  {
   "cell_type": "code",
   "execution_count": 4,
   "metadata": {},
   "outputs": [],
   "source": [
    "def sim_bin_tr_inv1(n,p,it):\n",
    "    start_time = time.time()\n",
    "    a=np.zeros(n)\n",
    "    for j in range(it):\n",
    "        u=Bin_tr_inv1(n,p)\n",
    "        a[u-1]+=1\n",
    "    end_time = time.time()\n",
    "    return (a/it,end_time - start_time)"
   ]
  },
  {
   "cell_type": "code",
   "execution_count": null,
   "metadata": {},
   "outputs": [],
   "source": [
    "sim_bin_tr_inv1(10,0.3,10000)[1]"
   ]
  },
  {
   "cell_type": "code",
   "execution_count": 6,
   "metadata": {},
   "outputs": [],
   "source": [
    "#Version mejorada para algunos casos de p.\n",
    "#Suponemos p>0.5\n",
    "def sim_bin_tr_inv2(n,p,it):\n",
    "    start_time = time.time()\n",
    "    a=np.zeros(n)\n",
    "    for j in range(it):\n",
    "        u= n-Bin_tr_inv1(n,1-p) \n",
    "        a[u-1]+=1\n",
    "    end_time = time.time()\n",
    "    return (a/it,end_time - start_time)\n",
    "\n"
   ]
  },
  {
   "cell_type": "code",
   "execution_count": 7,
   "metadata": {},
   "outputs": [],
   "source": [
    "def sim_bin_tr_inv3(n,p,it):\n",
    "    start_time = time.time()\n",
    "    a=np.zeros(n)\n",
    "    for j in range(it):\n",
    "        u=Bin_ensayos(n,p)\n",
    "        a[u-1]+=1\n",
    "    end_time = time.time()\n",
    "    return (a/it,end_time - start_time)"
   ]
  },
  {
   "cell_type": "code",
   "execution_count": 8,
   "metadata": {},
   "outputs": [],
   "source": [
    "#Para p>0.5 el metodo 2 un poco mas rapido:\n",
    "\n",
    "#print(sim_bin_tr_inv2(15,0.6,10000)[1])\n",
    "#print(sim_bin_tr_inv1(15,0.6,10000)[1])\n"
   ]
  },
  {
   "attachments": {},
   "cell_type": "markdown",
   "metadata": {},
   "source": [
    "Veamos si es parecida a la generacion de scipy"
   ]
  },
  {
   "cell_type": "code",
   "execution_count": 9,
   "metadata": {},
   "outputs": [],
   "source": [
    "def sim_scipy_bin(n,p,it):\n",
    "    a=np.zeros(n)\n",
    "    for j in range(it):\n",
    "        u=binom(n,p).rvs()\n",
    "        a[u-1]+=1\n",
    "    return a/it"
   ]
  },
  {
   "cell_type": "code",
   "execution_count": 10,
   "metadata": {},
   "outputs": [],
   "source": [
    "def graph():\n",
    "    n=20\n",
    "    p=0.3\n",
    "    it=5000\n",
    "    \n",
    "    y1= sim_bin_tr_inv1(n,p,it)[0] #simulacion propia\n",
    "    y2=sim_scipy_bin(n,p,it) #simulacion de scipy\n",
    "    \n",
    "    x1= np.arange(0,n,1,dtype=int) #Im(X)   \n",
    "\n",
    "    #Hago un grafico continuo\n",
    "    x1_interp= np.linspace(x1.min(), x1.max(), 10000)\n",
    "\n",
    "    f1= interp1d(x1, y1, kind='cubic')\n",
    "    y1_interp= f1(x1_interp)\n",
    "    \n",
    "    f2= interp1d(x1, y2, kind='cubic')\n",
    "    y2_interp=f2(x1_interp)\n",
    "\n",
    "    fig,ax=plt.subplots()\n",
    "    plt.plot(x1_interp,y1_interp,color=\"blue\",label=\"propia\")\n",
    "    plt.plot(x1_interp,y2_interp,color=\"green\",label=\"scipy\")\n",
    "    plt.scatter(x1,y1,color=\"black\",label=\"Valores Discretos\")\n",
    "    ax.set_xlabel(\"Número generado\")\n",
    "    ax.set_ylabel(\"Probabilidad de ser generado\")\n",
    "    ax.set_title(\"Simulación v.a Binomial\") \n",
    "    plt.legend()\n",
    "    plt.show()"
   ]
  },
  {
   "cell_type": "code",
   "execution_count": 11,
   "metadata": {},
   "outputs": [],
   "source": [
    "#graph()"
   ]
  }
 ],
 "metadata": {
  "kernelspec": {
   "display_name": "Python 3",
   "language": "python",
   "name": "python3"
  },
  "language_info": {
   "codemirror_mode": {
    "name": "ipython",
    "version": 3
   },
   "file_extension": ".py",
   "mimetype": "text/x-python",
   "name": "python",
   "nbconvert_exporter": "python",
   "pygments_lexer": "ipython3",
   "version": "3.11.5"
  },
  "orig_nbformat": 4
 },
 "nbformat": 4,
 "nbformat_minor": 2
}
