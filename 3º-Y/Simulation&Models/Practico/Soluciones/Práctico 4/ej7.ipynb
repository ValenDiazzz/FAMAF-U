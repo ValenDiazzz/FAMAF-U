{
 "cells": [
  {
   "cell_type": "code",
   "execution_count": 1,
   "metadata": {},
   "outputs": [],
   "source": [
    "import random as rd\n",
    "import numpy as np\n",
    "from math import e"
   ]
  },
  {
   "cell_type": "code",
   "execution_count": 2,
   "metadata": {},
   "outputs": [],
   "source": [
    "def poisson_tr_inv1(l):\n",
    "    p=e**(-l)\n",
    "    F=p\n",
    "    u=rd.random()\n",
    "    i=0\n",
    "    while u>=F:\n",
    "        i+=1\n",
    "        p*=(l/i)\n",
    "        F+=p\n",
    "    return i"
   ]
  },
  {
   "cell_type": "code",
   "execution_count": 3,
   "metadata": {},
   "outputs": [],
   "source": [
    "#Versión optimizada\n",
    "def poisson_tr_inv2(l):\n",
    "    p = e**(-l)\n",
    "    F = p\n",
    "    for j in range(1, int(l) + 1):\n",
    "        p *= l / j\n",
    "        F += p\n",
    "    u= rd.random()\n",
    "    #Busqueda por encima de lambda\n",
    "    if u>= F:\n",
    "        j = int(l) + 1\n",
    "        while u>=F:\n",
    "            p*= l/j\n",
    "            F += p\n",
    "            j += 1\n",
    "        return j - 1\n",
    "    #Busqueda por debajo de lambda\n",
    "    else:\n",
    "        j = int(l)\n",
    "        while u<F:\n",
    "            F-=p\n",
    "            p*= j/l\n",
    "            j-= 1\n",
    "        return j+1"
   ]
  },
  {
   "cell_type": "code",
   "execution_count": 4,
   "metadata": {},
   "outputs": [],
   "source": [
    "#P(Y>2)=1-P(Y<=2)=1-(P(Y=0)+P(Y=1)+P(Y=2))\n",
    "def simulacion1(n):\n",
    "    a=np.zeros(3)       #a[i]/n = P(Y=i)\n",
    "    for i in range(n):\n",
    "        u=poisson_tr_inv1(0.7)\n",
    "        if u<3:\n",
    "            a[u-1]+=1\n",
    "    return 1-np.sum(a/n)"
   ]
  },
  {
   "cell_type": "code",
   "execution_count": 5,
   "metadata": {},
   "outputs": [],
   "source": [
    "def simulacion2(n):\n",
    "    a=np.zeros(3)    \n",
    "    for i in range(n):\n",
    "        u=poisson_tr_inv2(0.7)\n",
    "        if u<3:\n",
    "            a[u-1]+=1\n",
    "    return 1-np.sum(a/n)"
   ]
  },
  {
   "cell_type": "code",
   "execution_count": null,
   "metadata": {},
   "outputs": [],
   "source": [
    "simulacion1(1000)"
   ]
  },
  {
   "cell_type": "code",
   "execution_count": null,
   "metadata": {},
   "outputs": [],
   "source": [
    "simulacion2(1000)"
   ]
  }
 ],
 "metadata": {
  "kernelspec": {
   "display_name": "Python 3",
   "language": "python",
   "name": "python3"
  },
  "language_info": {
   "codemirror_mode": {
    "name": "ipython",
    "version": 3
   },
   "file_extension": ".py",
   "mimetype": "text/x-python",
   "name": "python",
   "nbconvert_exporter": "python",
   "pygments_lexer": "ipython3",
   "version": "3.11.5"
  },
  "orig_nbformat": 4
 },
 "nbformat": 4,
 "nbformat_minor": 2
}
