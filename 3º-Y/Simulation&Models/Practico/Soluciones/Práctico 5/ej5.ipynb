{
 "cells": [
  {
   "cell_type": "code",
   "execution_count": 1,
   "metadata": {},
   "outputs": [],
   "source": [
    "import random as rd\n",
    "import numpy as np\n",
    "from math import log"
   ]
  },
  {
   "cell_type": "code",
   "execution_count": 2,
   "metadata": {},
   "outputs": [],
   "source": [
    "#Generador de exponencial.\n",
    "def exp(lam):\n",
    "    u=1-rd.random()\n",
    "    return -log(u)/lam"
   ]
  },
  {
   "cell_type": "code",
   "execution_count": 3,
   "metadata": {},
   "outputs": [],
   "source": [
    "#X_M\n",
    "def gen_M():\n",
    "    x=np.array([exp(1),exp(1/2),exp(1/3)], dtype=float) #genero las exp\n",
    "    return np.max(x)\n",
    "\n",
    "#X_m\n",
    "def gen_m():\n",
    "    x=np.array([exp(1),exp(1/2),exp(1/3)], dtype=float) #genero las exp\n",
    "    return 1-np.min(x)\n"
   ]
  },
  {
   "cell_type": "code",
   "execution_count": 4,
   "metadata": {},
   "outputs": [],
   "source": [
    "M=[]\n",
    "m=[]\n",
    "for i in range(10):\n",
    "    M.append(gen_M())\n",
    "    m.append(gen_m())\n",
    "\n",
    "#print(M)\n",
    "#print(m)"
   ]
  }
 ],
 "metadata": {
  "kernelspec": {
   "display_name": "Python 3",
   "language": "python",
   "name": "python3"
  },
  "language_info": {
   "codemirror_mode": {
    "name": "ipython",
    "version": 3
   },
   "file_extension": ".py",
   "mimetype": "text/x-python",
   "name": "python",
   "nbconvert_exporter": "python",
   "pygments_lexer": "ipython3",
   "version": "3.11.5"
  },
  "orig_nbformat": 4
 },
 "nbformat": 4,
 "nbformat_minor": 2
}
