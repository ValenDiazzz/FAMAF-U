{
 "cells": [
  {
   "cell_type": "code",
   "execution_count": 1,
   "metadata": {},
   "outputs": [],
   "source": [
    "import random as rd\n",
    "from scipy.stats import chi2\n",
    "import numpy as np"
   ]
  },
  {
   "attachments": {},
   "cell_type": "markdown",
   "metadata": {},
   "source": [
    "a)"
   ]
  },
  {
   "cell_type": "code",
   "execution_count": 2,
   "metadata": {},
   "outputs": [],
   "source": [
    "#Estadistico\n",
    "def T(muestra:dict):\n",
    "    n=muestra[\"size\"]\n",
    "    N=muestra[\"N_i\"]\n",
    "    p=muestra[\"p_i\"]\n",
    "    k=len(N)\n",
    "\n",
    "    t=0\n",
    "    for i in range(k):\n",
    "        t+=((N[i]-(n*p[i]))**2) / (n*p[i])\n",
    "    return t"
   ]
  },
  {
   "cell_type": "code",
   "execution_count": null,
   "metadata": {},
   "outputs": [],
   "source": [
    "muestra={\"size\":1000,\"N_i\":[158, 172, 164, 181, 160, 165] ,\"p_i\":[1/6, 1/6, 1/6, 1/6, 1/6, 1/6]}\n",
    "t=T(muestra)\n",
    "t"
   ]
  },
  {
   "cell_type": "code",
   "execution_count": null,
   "metadata": {},
   "outputs": [],
   "source": [
    "#P_H0(Estadistico>t)=P(chi_2 con k-1 grados >= t) = 1 - P(chi_2 con k-1 grados < t)\n",
    "print(\"p-valor= {}\".format(1 - chi2.cdf(t,5)))\n",
    "\n",
    "#El p-valor no es bajo, no rechazamos la H_0 (tampoco aceptamos)"
   ]
  },
  {
   "attachments": {},
   "cell_type": "markdown",
   "metadata": {},
   "source": [
    "b)"
   ]
  },
  {
   "cell_type": "code",
   "execution_count": 5,
   "metadata": {},
   "outputs": [],
   "source": [
    "#Genero la va\n",
    "def gen():\n",
    "    return rd.randint(0,5)\n",
    "#Genero los p_i\n",
    "def sim_muestra(it):\n",
    "    muestra=np.zeros(6)\n",
    "    for i in range(it):\n",
    "        x=gen()\n",
    "        muestra[x]+=1\n",
    "    return muestra\n"
   ]
  },
  {
   "cell_type": "code",
   "execution_count": 6,
   "metadata": {},
   "outputs": [],
   "source": [
    "def est_p_value(muestra,it):\n",
    "    n=muestra[\"size\"]\n",
    "    p_i=muestra[\"p_i\"]\n",
    "    t_est=0\n",
    "    t=T(muestra)\n",
    "    for i in range(it):\n",
    "        #Simulo muestra\n",
    "        N_i=sim_muestra(n)\n",
    "        #Valuo el estadistico\n",
    "        muestra_sim={\"size\":n,\"N_i\":N_i ,\"p_i\":p_i}\n",
    "        t1=T(muestra_sim)\n",
    "        if t1>=t:\n",
    "            t_est+=1\n",
    "    return t_est/it"
   ]
  },
  {
   "cell_type": "code",
   "execution_count": null,
   "metadata": {},
   "outputs": [],
   "source": [
    "est_p_value(muestra,1000)"
   ]
  }
 ],
 "metadata": {
  "kernelspec": {
   "display_name": "Python 3",
   "language": "python",
   "name": "python3"
  },
  "language_info": {
   "codemirror_mode": {
    "name": "ipython",
    "version": 3
   },
   "file_extension": ".py",
   "mimetype": "text/x-python",
   "name": "python",
   "nbconvert_exporter": "python",
   "pygments_lexer": "ipython3",
   "version": "3.11.5"
  },
  "orig_nbformat": 4
 },
 "nbformat": 4,
 "nbformat_minor": 2
}
