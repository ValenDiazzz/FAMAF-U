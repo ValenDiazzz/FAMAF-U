{
 "cells": [
  {
   "cell_type": "code",
   "execution_count": 1,
   "metadata": {},
   "outputs": [],
   "source": [
    "import numpy as np\n",
    "import random as rd\n",
    "from math import log, exp"
   ]
  },
  {
   "cell_type": "code",
   "execution_count": 2,
   "metadata": {},
   "outputs": [],
   "source": [
    "#Notar que acá trabajamos con parámetros especificados.\n",
    "#H0: Los datos provienen de una exponencial con lambda=1"
   ]
  },
  {
   "cell_type": "code",
   "execution_count": 3,
   "metadata": {},
   "outputs": [],
   "source": [
    "def exp_gen(lam):\n",
    "    return -lam*log(1 - rd.random())\n",
    "#Acumulada de la exponencial\n",
    "def F(x,lam):\n",
    "    return 1 - exp(-x*lam)"
   ]
  },
  {
   "cell_type": "code",
   "execution_count": 4,
   "metadata": {},
   "outputs": [],
   "source": [
    "data=np.array([exp_gen(1) for i in range(30)],dtype=float)"
   ]
  },
  {
   "cell_type": "code",
   "execution_count": 5,
   "metadata": {},
   "outputs": [],
   "source": [
    "def K_S_un(data):\n",
    "    data=np.sort(data) #Ordeno\n",
    "    n=len(data)\n",
    "    d=0\n",
    "    for j in range(n):\n",
    "        x=data[j]\n",
    "        d=max(d ,((j+1)/n)-x , x - j/n)\n",
    "    return d"
   ]
  },
  {
   "cell_type": "code",
   "execution_count": 6,
   "metadata": {},
   "outputs": [],
   "source": [
    "def K_S_exp(data):\n",
    "    lam=1\n",
    "    data=np.sort(data)\n",
    "    n=len(data)\n",
    "    d=0\n",
    "    for j in range(n):\n",
    "        x=data[j]\n",
    "        d=max(d ,((j+1)/n)-F(x,lam) , F(x,lam) - j/n)\n",
    "    return d"
   ]
  },
  {
   "cell_type": "code",
   "execution_count": 7,
   "metadata": {},
   "outputs": [],
   "source": [
    "def est_p_value(data,it):\n",
    "    n=len(data)\n",
    "    d_KS=K_S_exp(data)\n",
    "    pvalue=0\n",
    "    \n",
    "    for i in range(it):\n",
    "        u=[rd.uniform(0,1) for i in range(n)] #Genero muestra\n",
    "        d=K_S_un(u)    #Calculo el estadistico de la muestra\n",
    "        if d>=d_KS:\n",
    "            pvalue+=1\n",
    "    return pvalue/it\n",
    "\n",
    "#Notar que utilizo el teorema de que P_f(D>=d) es la misma para cualquier \n",
    "#...distribución f"
   ]
  },
  {
   "cell_type": "code",
   "execution_count": null,
   "metadata": {},
   "outputs": [],
   "source": [
    "est_p_value(data,10000)"
   ]
  },
  {
   "cell_type": "code",
   "execution_count": 9,
   "metadata": {},
   "outputs": [],
   "source": [
    "#El p-valor es alto, no rechazamos la H0"
   ]
  }
 ],
 "metadata": {
  "kernelspec": {
   "display_name": "Python 3",
   "language": "python",
   "name": "python3"
  },
  "language_info": {
   "codemirror_mode": {
    "name": "ipython",
    "version": 3
   },
   "file_extension": ".py",
   "mimetype": "text/x-python",
   "name": "python",
   "nbconvert_exporter": "python",
   "pygments_lexer": "ipython3",
   "version": "3.11.5"
  },
  "orig_nbformat": 4
 },
 "nbformat": 4,
 "nbformat_minor": 2
}
