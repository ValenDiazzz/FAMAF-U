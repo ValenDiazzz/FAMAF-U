{
 "cells": [
  {
   "cell_type": "code",
   "execution_count": 1,
   "metadata": {},
   "outputs": [],
   "source": [
    "#congruencial generator\n",
    "def cong_gen(a:int, c:int, M:int, seed:int, n:int):\n",
    "    pre=type(a)==int and type(c)==int and type(M)==int and type(seed)==int and type(n)==int\n",
    "    assert pre, \"Error: Los parámetros deben ser enteros\"\n",
    "    seq=[seed]\n",
    "    y=seed\n",
    "    for i in range(n-1):\n",
    "        y=((a*y)+c) % M\n",
    "        seq.append(y)\n",
    "    return seq"
   ]
  },
  {
   "cell_type": "code",
   "execution_count": null,
   "metadata": {},
   "outputs": [],
   "source": [
    "cong_gen(a=5,c=45,M=2**5,seed=50,n=10)"
   ]
  },
  {
   "cell_type": "code",
   "execution_count": null,
   "metadata": {},
   "outputs": [],
   "source": [
    "print(cong_gen(a=7,c=0,M=71,seed=1,n=71))"
   ]
  }
 ],
 "metadata": {
  "kernelspec": {
   "display_name": "Python 3",
   "language": "python",
   "name": "python3"
  },
  "language_info": {
   "codemirror_mode": {
    "name": "ipython",
    "version": 3
   },
   "file_extension": ".py",
   "mimetype": "text/x-python",
   "name": "python",
   "nbconvert_exporter": "python",
   "pygments_lexer": "ipython3",
   "version": "3.11.5"
  },
  "orig_nbformat": 4,
  "vscode": {
   "interpreter": {
    "hash": "8846a69f2c50b9d72b98556550453b9650bfe7c2d38b105ef2df610ba22885fc"
   }
  }
 },
 "nbformat": 4,
 "nbformat_minor": 2
}
