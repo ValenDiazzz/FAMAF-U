{
 "cells": [
  {
   "cell_type": "code",
   "execution_count": 1,
   "metadata": {},
   "outputs": [],
   "source": [
    "import random as rd\n",
    "from math import log"
   ]
  },
  {
   "attachments": {},
   "cell_type": "markdown",
   "metadata": {},
   "source": [
    "Ejercicio 1"
   ]
  },
  {
   "cell_type": "code",
   "execution_count": 2,
   "metadata": {},
   "outputs": [],
   "source": [
    "#Generador de la variable aleatoria X mediante el metodo de la transformada inversa.\n",
    "def ejercicio1():\n",
    "    u=rd.random()\n",
    "    if u<0.36:\n",
    "        return 3\n",
    "    elif u<0.67:\n",
    "        return 2\n",
    "    elif u<0.91:\n",
    "        return 0\n",
    "    else:\n",
    "        return 1"
   ]
  },
  {
   "attachments": {},
   "cell_type": "markdown",
   "metadata": {},
   "source": [
    "Ejercicio 2"
   ]
  },
  {
   "cell_type": "code",
   "execution_count": 3,
   "metadata": {},
   "outputs": [],
   "source": [
    "#Generador de la variable aleatoria X mediante el metodo de la transformada inversa.\n",
    "def gen_ej2():\n",
    "    while True:\n",
    "        u=rd.random()\n",
    "        if u<0.5:\n",
    "            return 4*u\n",
    "        else:\n",
    "            return 1/(1-u)"
   ]
  },
  {
   "cell_type": "code",
   "execution_count": 4,
   "metadata": {},
   "outputs": [],
   "source": [
    "def ejercicio2(n):\n",
    "    sum=0           #contaré cuantas veces se generan números menores o iguales que 3.\n",
    "    for i in range(n):\n",
    "        v=gen_ej2()\n",
    "        if v<=3:\n",
    "            sum+=1\n",
    "    return sum/n"
   ]
  },
  {
   "cell_type": "code",
   "execution_count": null,
   "metadata": {},
   "outputs": [],
   "source": [
    "print(\"La estimacion de P(X<=3) con 10000 simulaciones es:{}\".format(ejercicio2(10000)))"
   ]
  },
  {
   "attachments": {},
   "cell_type": "markdown",
   "metadata": {},
   "source": [
    "Ejercicio 3"
   ]
  },
  {
   "cell_type": "code",
   "execution_count": 6,
   "metadata": {},
   "outputs": [],
   "source": [
    "#Generador de geometrica por transformada inversa\n",
    "def geom_tr_inv1(p):\n",
    "    u=rd.random()\n",
    "    return int(log(1-u)/log(1-p)) + 1"
   ]
  },
  {
   "cell_type": "code",
   "execution_count": 7,
   "metadata": {},
   "outputs": [],
   "source": [
    "#Generador de la variable aleatoria X.\n",
    "def rejection(p):\n",
    "    y=geom_tr_inv1(p)\n",
    "    while True:\n",
    "        if 1<=y<=20:       #a=1,b=20\n",
    "            return y"
   ]
  },
  {
   "attachments": {},
   "cell_type": "markdown",
   "metadata": {},
   "source": [
    "Ejercicio 4"
   ]
  },
  {
   "cell_type": "code",
   "execution_count": 8,
   "metadata": {},
   "outputs": [],
   "source": [
    "#Generador de Binomial mediante el metodo de la transformada inversa\n",
    "def Bin_tr_inv1(n,p):\n",
    "    u=rd.random()\n",
    "    prob=(1-p)**n   #pues p0=(1-p)^n\n",
    "    F=prob          #La acumulada\n",
    "    c= p/(1-p)      #Constante para la formula recursiva de pi\n",
    "    i=0\n",
    "    while u>=F:\n",
    "        prob= prob*c*((n-i)/(1+i))      #p_i+1 = [(n-i)/(i+1)]*c*p_i\n",
    "        F+=prob\n",
    "        i+=1\n",
    "    return i\n",
    "\n",
    "#Generador de la exponencial mediante el metodo de la transformada inversa\n",
    "def exp(lam):\n",
    "    u=1-rd.random()\n",
    "    return -log(u)/lam"
   ]
  },
  {
   "cell_type": "code",
   "execution_count": 9,
   "metadata": {},
   "outputs": [],
   "source": [
    "#Funcion que simula el monto reclamado.\n",
    "def monto():\n",
    "    monto=0\n",
    "    y=Bin_tr_inv1(1000,0.05)    #n=1000, p=0.05\n",
    "    for j in range(y):\n",
    "        monto+=exp(1/800)       #lambda=1/800\n",
    "    return monto"
   ]
  },
  {
   "cell_type": "code",
   "execution_count": 10,
   "metadata": {},
   "outputs": [],
   "source": [
    "#Funcion que simula it veces los montos reclamados y calcula la probabilidad.\n",
    "def ejercicio4(it):\n",
    "    prob=0          #Cuento cuantas veces se supera el monto.\n",
    "    for i in range(it):\n",
    "        if monto()>50000:\n",
    "            prob+=1\n",
    "    return prob/it"
   ]
  },
  {
   "cell_type": "code",
   "execution_count": null,
   "metadata": {},
   "outputs": [],
   "source": [
    "print(\"La probabilidad de que la suma de los reclamos exceda $50000 es aproximadamente:{}\".format(ejercicio4(10000)))"
   ]
  }
 ],
 "metadata": {
  "kernelspec": {
   "display_name": "Python 3",
   "language": "python",
   "name": "python3"
  },
  "language_info": {
   "codemirror_mode": {
    "name": "ipython",
    "version": 3
   },
   "file_extension": ".py",
   "mimetype": "text/x-python",
   "name": "python",
   "nbconvert_exporter": "python",
   "pygments_lexer": "ipython3",
   "version": "3.11.5"
  },
  "orig_nbformat": 4
 },
 "nbformat": 4,
 "nbformat_minor": 2
}
