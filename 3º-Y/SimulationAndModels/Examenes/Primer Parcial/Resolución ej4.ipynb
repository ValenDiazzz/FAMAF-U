{
  "cells": [
    {
      "cell_type": "code",
      "execution_count": 1,
      "metadata": {
        "id": "wvrWfr4AVKvJ"
      },
      "outputs": [],
      "source": [
        "import random as rd\n",
        "import math\n",
        "from scipy import integrate"
      ]
    },
    {
      "cell_type": "code",
      "execution_count": 2,
      "metadata": {
        "id": "cb_6hA8A1dYT"
      },
      "outputs": [],
      "source": [
        "def integral_ab(n,fun,a,b):\n",
        "    sum=0\n",
        "    integral=0\n",
        "    for i in range(n):\n",
        "        x=rd.random()\n",
        "        integral+=(b-a)*fun((x*(b-a))+a)\n",
        "    return integral/n"
      ]
    },
    {
      "cell_type": "code",
      "execution_count": 3,
      "metadata": {
        "id": "cSdFmh6u1foT"
      },
      "outputs": [],
      "source": [
        "def fun_parcial_a(x):\n",
        "    return x/(x-math.exp(x))"
      ]
    },
    {
      "cell_type": "code",
      "execution_count": null,
      "metadata": {
        "colab": {
          "base_uri": "https://localhost:8080/"
        },
        "id": "LWWhu2tr1hh0",
        "outputId": "8a00c046-e4e5-45a1-b565-b1fc01e959ec"
      },
      "outputs": [],
      "source": [
        "for j in [10**3,10**4,10**5,10**6]:\n",
        "    print(\"La aproximacion con {} aproximaciones es: {}\".format(j, integral_ab(j,fun_parcial_a,-3,3)) )"
      ]
    },
    {
      "cell_type": "code",
      "execution_count": 5,
      "metadata": {
        "id": "HLj6fvYp1jb0"
      },
      "outputs": [],
      "source": [
        "def fun_parcial_b(x):\n",
        "    return (-1/x) * ((math.log(x)+1)**3) * math.exp((math.log(x)+1)**3)"
      ]
    },
    {
      "cell_type": "code",
      "execution_count": 6,
      "metadata": {
        "id": "rY7fcLVL1llS"
      },
      "outputs": [],
      "source": [
        "#calcula la integral en el intervalo (0,1)\n",
        "def integral_01(n,fun):\n",
        "    sum=0\n",
        "    integral=0\n",
        "    for i in range(n):\n",
        "        x=rd.random()\n",
        "        integral+=fun(x)\n",
        "    return integral/n"
      ]
    },
    {
      "cell_type": "code",
      "execution_count": null,
      "metadata": {
        "colab": {
          "base_uri": "https://localhost:8080/"
        },
        "id": "BrE3U3Vq1nm2",
        "outputId": "8be9f241-eabd-48d6-dcc5-8aca080eddc3"
      },
      "outputs": [],
      "source": [
        "for j in [10**3,10**4,10**5,10**6]:\n",
        "    print(\"La aproximacion con {} aproximaciones es: {}\".format(j, integral_01(j,fun_parcial_b)) )"
      ]
    }
  ],
  "metadata": {
    "colab": {
      "provenance": []
    },
    "kernelspec": {
      "display_name": "Python 3",
      "name": "python3"
    },
    "language_info": {
      "codemirror_mode": {
        "name": "ipython",
        "version": 3
      },
      "file_extension": ".py",
      "mimetype": "text/x-python",
      "name": "python",
      "nbconvert_exporter": "python",
      "pygments_lexer": "ipython3",
      "version": "3.11.5"
    }
  },
  "nbformat": 4,
  "nbformat_minor": 0
}
