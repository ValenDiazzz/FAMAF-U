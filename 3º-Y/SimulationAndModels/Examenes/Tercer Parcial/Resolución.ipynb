{
 "cells": [
  {
   "cell_type": "code",
   "execution_count": 1,
   "metadata": {},
   "outputs": [],
   "source": [
    "import numpy as np\n",
    "import random as rd\n",
    "from scipy.stats import chi2\n",
    "from math import log, sqrt"
   ]
  },
  {
   "attachments": {},
   "cell_type": "markdown",
   "metadata": {},
   "source": [
    "EJERCICIO 1"
   ]
  },
  {
   "cell_type": "code",
   "execution_count": 2,
   "metadata": {},
   "outputs": [],
   "source": [
    "frec_obs=np.array([120,114,92,85,34,33,45,11,5],dtype=float)\n",
    "p=np.array([0.22,0.20,0.19,0.12,0.09,0.08,0.07,0.02,0.01], dtype=float)\n",
    "n=int(np.sum(frec_obs))\n",
    "frec=n*p"
   ]
  },
  {
   "cell_type": "code",
   "execution_count": 3,
   "metadata": {},
   "outputs": [],
   "source": [
    "#Estadístico\n",
    "def T(n,frec,p):\n",
    "    k=len(frec)\n",
    "    t=0\n",
    "    for i in range(k):\n",
    "        t+=((frec[i]-(n*p[i]))**2) / (n*p[i])\n",
    "    return t"
   ]
  },
  {
   "cell_type": "code",
   "execution_count": 4,
   "metadata": {},
   "outputs": [],
   "source": [
    "#Genero una v.a con la distribucion global\n",
    "def gen():\n",
    "    u=rd.random()\n",
    "    if u < 0.22:\n",
    "        return 0\n",
    "    if u < 0.42:\n",
    "        return 1 \n",
    "    if u < 0.61:\n",
    "        return 2\n",
    "    if u < 0.73:\n",
    "        return 3\n",
    "    if u < 0.82:\n",
    "        return 4\n",
    "    if u < 0.9:\n",
    "        return 5\n",
    "    if u < 0.97:\n",
    "        return 6\n",
    "    if u < 0.99:\n",
    "        return 7\n",
    "    else:\n",
    "        return 8"
   ]
  },
  {
   "cell_type": "code",
   "execution_count": 5,
   "metadata": {},
   "outputs": [],
   "source": [
    "#Retorna la frecuencia de cada color de una muestra de la \n",
    "#variable global de n datos.\n",
    "def gen_muestra(n):\n",
    "    muestra=np.zeros(9, dtype=float)\n",
    "    for i in range(n):\n",
    "        muestra[gen()]+=1\n",
    "    return muestra\n"
   ]
  },
  {
   "cell_type": "code",
   "execution_count": 6,
   "metadata": {},
   "outputs": [],
   "source": [
    "def est_p_valor(n, frec, p,it):\n",
    "    k=len(frec)\n",
    "    t_est=0\n",
    "    t=T(n, frec, p)\n",
    "    for i in range(it):\n",
    "        #Simulo muestra\n",
    "        frec_sim=gen_muestra(n)  #frecuencia de n datos con distr F\n",
    "    \n",
    "        #Calculo un nuevo estadistico\n",
    "        t1=T(n,frec_sim, p) \n",
    "        if t1>=t:\n",
    "            t_est+=1\n",
    "    return t_est/it"
   ]
  },
  {
   "cell_type": "code",
   "execution_count": 7,
   "metadata": {},
   "outputs": [],
   "source": [
    "p_value=est_p_valor(n, frec_obs, p,10000)\n",
    "t=T(n,frec_obs,p)"
   ]
  },
  {
   "cell_type": "code",
   "execution_count": null,
   "metadata": {},
   "outputs": [],
   "source": [
    "print(\"Estimacion del p-valor con aproximacion Chi2: p-valor={}\".format(1 - chi2.cdf(t,len(frec_obs)-1)))\n",
    "print(\"Estimacion del p-valor con 10000 simulaciones: p-valor={}\".format(p_value))"
   ]
  },
  {
   "cell_type": "code",
   "execution_count": null,
   "metadata": {},
   "outputs": [],
   "source": [
    "print(\"En ambos casos rechazamos la hipótesis nula\")"
   ]
  },
  {
   "attachments": {},
   "cell_type": "markdown",
   "metadata": {},
   "source": [
    "EJERCICIO 2"
   ]
  },
  {
   "cell_type": "code",
   "execution_count": 10,
   "metadata": {},
   "outputs": [],
   "source": [
    "def fun(t):\n",
    "    return (t-3)**2"
   ]
  },
  {
   "cell_type": "code",
   "execution_count": 11,
   "metadata": {},
   "outputs": [],
   "source": [
    "def Poisson_adelgazamiento_mejorado(T, interv, lam, fun):\n",
    "    j = 0 \n",
    "    t = -log (1 - rd.random()) / lam[j]\n",
    "    NT = 0\n",
    "    Eventos = []\n",
    "    while t <= T:\n",
    "        if t <= interv[j]:\n",
    "            V = rd.random()\n",
    "            if V < fun(t) / lam[j]:\n",
    "                NT += 1\n",
    "                Eventos.append(t)\n",
    "            t += -log(1 - rd.random()) / lam[j]\n",
    "        else:\n",
    "            t = interv[j] + (t - interv[j]) * lam[j] / lam[j + 1]\n",
    "            j += 1\n",
    "    return NT, Eventos"
   ]
  },
  {
   "cell_type": "code",
   "execution_count": null,
   "metadata": {},
   "outputs": [],
   "source": [
    "t_eventos=Poisson_adelgazamiento_mejorado(6, [1,2,4,5,6], [9,4,1,4,9], fun)[1]\n",
    "print(\"Lista de los tiempos de eventos:\\n{}\".format(t_eventos))"
   ]
  },
  {
   "attachments": {},
   "cell_type": "markdown",
   "metadata": {},
   "source": [
    "EJERCICIO 4"
   ]
  },
  {
   "attachments": {},
   "cell_type": "markdown",
   "metadata": {},
   "source": [
    "b)"
   ]
  },
  {
   "cell_type": "code",
   "execution_count": 13,
   "metadata": {},
   "outputs": [],
   "source": [
    "#Generaremos puntos en el primer cuadrante \n",
    "#con cota x<=2, y<=1\n",
    "\n",
    "def point(): #Retorna 1 si esta dentro de la elipse, 0 en caso contrario\n",
    "    x=np.random.uniform(0,2)\n",
    "    y=rd.random()\n",
    "    if ((x/2)**2) + (y**2) <=1:\n",
    "        return 1\n",
    "    else:\n",
    "        return 0"
   ]
  },
  {
   "cell_type": "code",
   "execution_count": 14,
   "metadata": {},
   "outputs": [],
   "source": [
    "def area_rec(it):\n",
    "    punto=0\n",
    "    for i in range(it):\n",
    "        punto+=point()\n",
    "    return 8*punto/it \n",
    "#*8 debido al area del rectangulo"
   ]
  },
  {
   "cell_type": "code",
   "execution_count": null,
   "metadata": {},
   "outputs": [],
   "source": [
    "area_rec(10000)\n",
    "print(\"El area estimada es: {}\".format(area_rec(10000)))"
   ]
  },
  {
   "attachments": {},
   "cell_type": "markdown",
   "metadata": {},
   "source": [
    "c)"
   ]
  },
  {
   "cell_type": "code",
   "execution_count": 16,
   "metadata": {},
   "outputs": [],
   "source": [
    "#Para IC de 95% tenemos que z_alfa_2= 1.96\n",
    "#tol es la maxima longitud que le permito al IC\n",
    "#Si L=2*a_alfa_2*S /sqrt(n) \n",
    "# => it_necesarias=(2*dev*z_alfa_2/tol)^2\n",
    "def est_area(tol,z_alfa_2,max_it):\n",
    "    n=1\n",
    "    mean_n=point()\n",
    "    dev=0\n",
    "    ancho=0\n",
    "\n",
    "    while n<max_it and (n<=100 or ancho>=tol):\n",
    "        #Genero un nuevo dato\n",
    "        dato=point()\n",
    "        \n",
    "        #Actualizo la media\n",
    "        mean_n1= mean_n + ((dato-mean_n)/(n+1))\n",
    "        \n",
    "        #Actualizo la desviacion\n",
    "        dev= (1-(1/n))*(dev**2) + (n+1)*((mean_n1 - mean_n)**2)\n",
    "        dev=dev**0.5\n",
    "\n",
    "        ancho= 2*z_alfa_2*dev/sqrt(n)\n",
    "        mean_n=mean_n1\n",
    "        n+=1\n",
    "    \n",
    "    return (8*mean_n - ancho, 8*mean_n + ancho), int((2*dev*z_alfa_2/tol)**2), n-1\n",
    "#*8 debido al area del rectangulo"
   ]
  },
  {
   "cell_type": "code",
   "execution_count": null,
   "metadata": {},
   "outputs": [],
   "source": [
    "IC, it_t, it=est_area(0.1,1.96,10000)\n",
    "print(\"El IC es:[{},{}]\".format(IC[0], IC[1]))\n",
    "print(\"Las simulaciones teoricas necesarias: {}\".format(it_t))\n",
    "print(\"Las simulaciones necesarias en este caso: {}\".format(it))"
   ]
  }
 ],
 "metadata": {
  "kernelspec": {
   "display_name": "Python 3",
   "language": "python",
   "name": "python3"
  },
  "language_info": {
   "codemirror_mode": {
    "name": "ipython",
    "version": 3
   },
   "file_extension": ".py",
   "mimetype": "text/x-python",
   "name": "python",
   "nbconvert_exporter": "python",
   "pygments_lexer": "ipython3",
   "version": "3.11.5"
  },
  "orig_nbformat": 4
 },
 "nbformat": 4,
 "nbformat_minor": 2
}
