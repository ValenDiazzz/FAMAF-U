{
 "cells": [
  {
   "cell_type": "code",
   "execution_count": 1,
   "metadata": {},
   "outputs": [],
   "source": [
    "import random as rd\n",
    "import numpy as np\n",
    "from math import log, pi, sqrt, sin, cos, exp"
   ]
  },
  {
   "attachments": {},
   "cell_type": "markdown",
   "metadata": {},
   "source": [
    "METHOD 1"
   ]
  },
  {
   "cell_type": "code",
   "execution_count": 2,
   "metadata": {},
   "outputs": [],
   "source": [
    "#Generator of standard normal variable.\n",
    "def std_normal_gen_Ross():\n",
    "    while True:\n",
    "        y1=-log(1-rd.random())  #Exp(1)\n",
    "        y2=-log(1-rd.random())  #Exp(1)\n",
    "        if y2>((y1-1)**2)/2:\n",
    "            return y2-(((y1-1)**2)/2)"
   ]
  },
  {
   "cell_type": "code",
   "execution_count": 3,
   "metadata": {},
   "outputs": [],
   "source": [
    "#Generator of normal variable parameters sigma and mu.\n",
    "def normal_gen_Ross(sigma, mu):\n",
    "    while True:\n",
    "        y1=-log(1-rd.random())  #Exp(1)\n",
    "        y2=-log(1-rd.random())  #Exp(1)\n",
    "        if y2>((y1-1)**2)/2:\n",
    "            if rd.random()<0.5:\n",
    "                return (y1*sigma)+ mu\n",
    "            else:\n",
    "                return (-y1*sigma)+ mu"
   ]
  },
  {
   "attachments": {},
   "cell_type": "markdown",
   "metadata": {},
   "source": [
    "METHOD 2"
   ]
  },
  {
   "cell_type": "code",
   "execution_count": 4,
   "metadata": {},
   "outputs": [],
   "source": [
    "#Generator of normal variable parameters sigma and mu with polar method\n",
    "def polar_method(sigma, mu):\n",
    "    r_2=-2*log(1-rd.random())     #Exp(1/2)\n",
    "    theta=2*pi*rd.random()        #U(0,2pi)\n",
    "    x=sqrt(r_2)*cos(theta)\n",
    "    y=sqrt(r_2)*sin(theta)\n",
    "    x=(x*sigma)+ mu\n",
    "    y=(y*sigma)+ mu\n",
    "    return (x, y)"
   ]
  },
  {
   "attachments": {},
   "cell_type": "markdown",
   "metadata": {},
   "source": [
    "METHOD 3"
   ]
  },
  {
   "cell_type": "code",
   "execution_count": 5,
   "metadata": {},
   "outputs": [],
   "source": [
    "#Generator of normal variable parameters sigma and mu using\n",
    "#... the ratio of uniform deviates.\n",
    "NV_MAGICCONST=4*exp(-0.5)/sqrt(2)\n",
    "\n",
    "def ratio_deviates_method(sigma, mu):\n",
    "    while True:\n",
    "        u=rd.random()\n",
    "        v=1-rd.random()\n",
    "        z=NV_MAGICCONST*(u-0.5)/v\n",
    "        zz=z*z/4\n",
    "        if zz<=-log(v):\n",
    "            return (z*sigma)+ mu"
   ]
  },
  {
   "attachments": {},
   "cell_type": "markdown",
   "metadata": {},
   "source": [
    "MEAN OF THE GENERATED VARIABLES"
   ]
  },
  {
   "cell_type": "code",
   "execution_count": 6,
   "metadata": {},
   "outputs": [],
   "source": [
    "def mean1(n,sigma,mu):\n",
    "    a=np.zeros(n)\n",
    "    for i in range(n):\n",
    "        a[i]=normal_gen_Ross(sigma, mu)\n",
    "    return np.sum(a)/n"
   ]
  },
  {
   "cell_type": "code",
   "execution_count": 7,
   "metadata": {},
   "outputs": [],
   "source": [
    "def mean2(n,sigma,mu):\n",
    "    a=np.zeros(n)\n",
    "    for i in range(n):\n",
    "        a[i]=polar_method(sigma, mu)[0] #The algorithm returns 2 normals.\n",
    "    return np.sum(a)/n"
   ]
  },
  {
   "cell_type": "code",
   "execution_count": 8,
   "metadata": {},
   "outputs": [],
   "source": [
    "def mean3(n,sigma,mu):\n",
    "    a=np.zeros(n)\n",
    "    for i in range(n):\n",
    "        a[i]=ratio_deviates_method(sigma, mu)\n",
    "    return np.sum(a)/n"
   ]
  },
  {
   "cell_type": "code",
   "execution_count": null,
   "metadata": {},
   "outputs": [],
   "source": [
    "print(mean1(10000,1,2))\n",
    "print(mean2(10000,1,2))\n",
    "print(mean3(10000,1,2))"
   ]
  }
 ],
 "metadata": {
  "kernelspec": {
   "display_name": "Python 3",
   "language": "python",
   "name": "python3"
  },
  "language_info": {
   "codemirror_mode": {
    "name": "ipython",
    "version": 3
   },
   "file_extension": ".py",
   "mimetype": "text/x-python",
   "name": "python",
   "nbconvert_exporter": "python",
   "pygments_lexer": "ipython3",
   "version": "3.11.5"
  },
  "orig_nbformat": 4
 },
 "nbformat": 4,
 "nbformat_minor": 2
}
