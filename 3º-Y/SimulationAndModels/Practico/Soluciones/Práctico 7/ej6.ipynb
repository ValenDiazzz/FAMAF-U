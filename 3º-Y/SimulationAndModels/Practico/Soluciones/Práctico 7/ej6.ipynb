{
 "cells": [
  {
   "cell_type": "code",
   "execution_count": null,
   "metadata": {},
   "outputs": [],
   "source": [
    "from tabulate import tabulate\n",
    "import numpy as np\n",
    "from scipy.stats import chi2\n",
    "import random as rd"
   ]
  },
  {
   "cell_type": "code",
   "execution_count": null,
   "metadata": {},
   "outputs": [],
   "source": [
    "frec_obs=np.array([188, 138, 87, 65, 48, 32, 30, 34, 13, 2],dtype=float)\n",
    "p=np.array([0.31, 0.22, 0.12, 0.10, 0.08, 0.06, 0.04, 0.04, 0.02, 0.01],dtype=float)\n",
    "\n",
    "n=int(np.sum(frec_obs))\n",
    "frec=n*p\n"
   ]
  },
  {
   "attachments": {},
   "cell_type": "markdown",
   "metadata": {},
   "source": [
    "a)"
   ]
  },
  {
   "cell_type": "code",
   "execution_count": null,
   "metadata": {},
   "outputs": [],
   "source": [
    "table = [[\"Premio\", \"Frecuencia esperada\", \"Frecuencia observada\"], \n",
    "          [1, frec[0], frec_obs[0]], [2, frec[1], frec_obs[1]], \n",
    "          [3, frec[2], frec_obs[2]], [4, frec[3], frec_obs[3]],\n",
    "          [5, frec[4], frec_obs[4]], [6, frec[5], frec_obs[5]], \n",
    "          [7, frec[6], frec_obs[6]], [8, frec[7], frec_obs[7]], \n",
    "          [9, frec[8], frec_obs[8]], [10, frec[9], frec_obs[9]]]\n",
    "\n",
    "#print(tabulate(table, headers = \"firstrow\", tablefmt = \"fancy_grid\"))"
   ]
  },
  {
   "attachments": {},
   "cell_type": "markdown",
   "metadata": {},
   "source": [
    "b)"
   ]
  },
  {
   "cell_type": "code",
   "execution_count": 4,
   "metadata": {},
   "outputs": [],
   "source": [
    "#H0: La v.a X=\"ganadores de la rueda\" tiene una distribución cuyas frecuencias\n",
    "#son las anteriores\n",
    "\n",
    "#H1: No se cumple la H0"
   ]
  },
  {
   "attachments": {},
   "cell_type": "markdown",
   "metadata": {},
   "source": [
    "d)"
   ]
  },
  {
   "cell_type": "code",
   "execution_count": 5,
   "metadata": {},
   "outputs": [],
   "source": [
    "def T(n, frec,p):\n",
    "    k=len(frec)\n",
    "    t=0\n",
    "    for i in range(k):\n",
    "        t+=((frec[i]-(n*p[i]))**2) / (n*p[i])\n",
    "    return t"
   ]
  },
  {
   "cell_type": "code",
   "execution_count": null,
   "metadata": {},
   "outputs": [],
   "source": [
    "t=T(n, frec_obs,p)\n",
    "p_value=1 - chi2.cdf(t,len(frec_obs)-1)\n",
    "print(\"p-valor bajo H0= {}\".format(np.round(p_value, 4)))"
   ]
  },
  {
   "attachments": {},
   "cell_type": "markdown",
   "metadata": {},
   "source": [
    "e)"
   ]
  },
  {
   "cell_type": "code",
   "execution_count": 7,
   "metadata": {},
   "outputs": [],
   "source": [
    "def gen():\n",
    "    u = rd.random()\n",
    "    if u < 0.31:\n",
    "        return 0\n",
    "    elif u < 0.56:\n",
    "        return 1\n",
    "    elif u < 0.65:\n",
    "        return 2\n",
    "    elif u < 0.75:\n",
    "        return 3\n",
    "    elif u < 0.83:\n",
    "        return 4\n",
    "    elif u < 0.89:\n",
    "        return 5\n",
    "    elif u < 0.93:\n",
    "        return 6\n",
    "    elif u < 0.97:\n",
    "        return 7\n",
    "    elif u < 0.99:\n",
    "        return 8\n",
    "    else:\n",
    "        return 9"
   ]
  },
  {
   "cell_type": "code",
   "execution_count": 8,
   "metadata": {},
   "outputs": [],
   "source": [
    "def gen_muestra(n):\n",
    "    muestra=[gen() for i in range(n)]\n",
    "    muestra=np.array(muestra, dtype=int)\n",
    "    return muestra"
   ]
  },
  {
   "cell_type": "code",
   "execution_count": 9,
   "metadata": {},
   "outputs": [],
   "source": [
    "def est_p_valor(n, frec, p,it):\n",
    "    k=len(frec)\n",
    "    t_est=0\n",
    "    t=T(n, frec, p)\n",
    "    for i in range(it):\n",
    "        #Simulo muestra\n",
    "        frec_sim=np.bincount(gen_muestra(n))  #frecuencia de n datos con distr F\n",
    "    \n",
    "        #Calculo un nuevo estadistico\n",
    "        t1=T(n,frec_sim, p) \n",
    "        if t1>=t:\n",
    "            t_est+=1\n",
    "    return t_est/it"
   ]
  },
  {
   "cell_type": "code",
   "execution_count": null,
   "metadata": {},
   "outputs": [],
   "source": [
    "est_p_valor(n, frec, p,10000)"
   ]
  }
 ],
 "metadata": {
  "kernelspec": {
   "display_name": "Python 3",
   "language": "python",
   "name": "python3"
  },
  "language_info": {
   "codemirror_mode": {
    "name": "ipython",
    "version": 3
   },
   "file_extension": ".py",
   "mimetype": "text/x-python",
   "name": "python",
   "nbconvert_exporter": "python",
   "pygments_lexer": "ipython3",
   "version": "3.11.5"
  },
  "orig_nbformat": 4
 },
 "nbformat": 4,
 "nbformat_minor": 2
}
