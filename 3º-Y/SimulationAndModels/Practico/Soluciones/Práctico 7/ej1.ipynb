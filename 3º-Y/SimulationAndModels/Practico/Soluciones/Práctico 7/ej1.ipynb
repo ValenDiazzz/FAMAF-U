{
 "cells": [
  {
   "cell_type": "code",
   "execution_count": 1,
   "metadata": {},
   "outputs": [],
   "source": [
    "import random as rd\n",
    "from scipy.stats import chi2\n",
    "import numpy as np"
   ]
  },
  {
   "attachments": {},
   "cell_type": "markdown",
   "metadata": {},
   "source": [
    "a)"
   ]
  },
  {
   "cell_type": "code",
   "execution_count": 2,
   "metadata": {},
   "outputs": [],
   "source": [
    "#Estadistico\n",
    "def T(muestra:dict):\n",
    "    n=muestra[\"size\"]\n",
    "    N=muestra[\"N_i\"]\n",
    "    p=muestra[\"p_i\"]\n",
    "    k=len(N)\n",
    "\n",
    "    t=0\n",
    "    for i in range(k):\n",
    "        t+=((N[i]-(n*p[i]))**2) / (n*p[i])\n",
    "    return t"
   ]
  },
  {
   "cell_type": "code",
   "execution_count": null,
   "metadata": {},
   "outputs": [],
   "source": [
    "muestra={\"size\":564,\"N_i\":[141,291,132] ,\"p_i\":[1/4,1/2,1/4]}\n",
    "t=T(muestra)\n",
    "t"
   ]
  },
  {
   "cell_type": "code",
   "execution_count": null,
   "metadata": {},
   "outputs": [],
   "source": [
    "#P_H0(Estadistico>t)=P(chi_2 con k-1 grados >= t) = 1 - P(chi_2 con k-1 grados < t)\n",
    "p_v=np.round(1 - chi2.cdf(t,2),5)\n",
    "print(\"p-valor= {}\".format(p_v))"
   ]
  },
  {
   "attachments": {},
   "cell_type": "markdown",
   "metadata": {},
   "source": [
    "b)"
   ]
  },
  {
   "cell_type": "code",
   "execution_count": 5,
   "metadata": {},
   "outputs": [],
   "source": [
    "#Genero la va\n",
    "def gen():\n",
    "    u=rd.random()\n",
    "    if u<1/2:\n",
    "        return 1\n",
    "    elif u<3/4:\n",
    "        return 0\n",
    "    else:\n",
    "        return 2\n",
    "\n",
    "#Genero los p_i\n",
    "def sim_muestra(it):\n",
    "    p=np.zeros(3)\n",
    "    for i in range(it):\n",
    "        x=gen()\n",
    "        p[x]+=1\n",
    "    return p"
   ]
  },
  {
   "cell_type": "code",
   "execution_count": 6,
   "metadata": {},
   "outputs": [],
   "source": [
    "def est_p_value(muestra:dict,it):\n",
    "    n=muestra[\"size\"]\n",
    "    p_i=muestra[\"p_i\"]\n",
    "    t_est=0\n",
    "    t=T(muestra)\n",
    "    for i in range(it):\n",
    "        #Simulo muestra\n",
    "        N_i=sim_muestra(n)\n",
    "        #Valuo el estadistico\n",
    "        muestra_sim={\"size\":n,\"N_i\":N_i ,\"p_i\":p_i}\n",
    "        t1=T(muestra_sim)\n",
    "        if t1>=t:\n",
    "            t_est+=1\n",
    "    return t_est/it\n",
    "            "
   ]
  },
  {
   "cell_type": "code",
   "execution_count": null,
   "metadata": {},
   "outputs": [],
   "source": [
    "muestra={\"size\":564,\"N_i\":[141,291,132] ,\"p_i\":[1/4,1/2,1/4]}\n",
    "print(\"p-valor= {}\".format(est_p_value(muestra,1000)))"
   ]
  }
 ],
 "metadata": {
  "kernelspec": {
   "display_name": "Python 3",
   "language": "python",
   "name": "python3"
  },
  "language_info": {
   "codemirror_mode": {
    "name": "ipython",
    "version": 3
   },
   "file_extension": ".py",
   "mimetype": "text/x-python",
   "name": "python",
   "nbconvert_exporter": "python",
   "pygments_lexer": "ipython3",
   "version": "3.11.5"
  },
  "orig_nbformat": 4
 },
 "nbformat": 4,
 "nbformat_minor": 2
}
