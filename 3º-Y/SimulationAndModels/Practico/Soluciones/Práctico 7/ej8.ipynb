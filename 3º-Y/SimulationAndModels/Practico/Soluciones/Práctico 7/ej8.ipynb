{
 "cells": [
  {
   "cell_type": "code",
   "execution_count": 1,
   "metadata": {},
   "outputs": [],
   "source": [
    "import random as rd\n",
    "import numpy as np\n",
    "from scipy.stats import norm\n",
    "from math import sqrt"
   ]
  },
  {
   "cell_type": "code",
   "execution_count": 2,
   "metadata": {},
   "outputs": [],
   "source": [
    "#generador v.a t-student con df grados de libertad\n",
    "def rt(df): \n",
    "    x = rd.gauss(0.0, 1.0)\n",
    "    y = 2.0*rd.gammavariate(0.5*df, 2.0)\n",
    "    return x / (sqrt(y/df))\n"
   ]
  },
  {
   "cell_type": "code",
   "execution_count": 3,
   "metadata": {},
   "outputs": [],
   "source": [
    "def K_S_un(data):\n",
    "    data=np.sort(data) #Ordeno\n",
    "    n=len(data)\n",
    "    d=0\n",
    "    for j in range(n):\n",
    "        x=data[j]\n",
    "        d=max(d ,((j+1)/n)-x , x - j/n)\n",
    "    return d"
   ]
  },
  {
   "cell_type": "code",
   "execution_count": 4,
   "metadata": {},
   "outputs": [],
   "source": [
    "#Densidad acumulada de la normal estandar.\n",
    "def F(x):\n",
    "    return norm.cdf(x)\n",
    "\n",
    "#Estadistico normal estandar\n",
    "def K_S_norm_std(data):\n",
    "    data=np.sort(data)\n",
    "    n=len(data)\n",
    "    d=0\n",
    "    for j in range(n):\n",
    "        x=data[j]\n",
    "        d=max(d ,((j+1)/n)-F(x) , F(x) - j/n)\n",
    "    return d"
   ]
  },
  {
   "cell_type": "code",
   "execution_count": 5,
   "metadata": {},
   "outputs": [],
   "source": [
    "def est_p_value(data,it):\n",
    "    n=len(data)\n",
    "    d_KS=K_S_norm_std(data)\n",
    "    pvalue=0\n",
    "    \n",
    "    for i in range(it):\n",
    "        u=[rd.uniform(0,1) for i in range(n)] #Genero muestra\n",
    "        d=K_S_un(u)    #Calculo el estadistico de la muestra\n",
    "        if d>=d_KS:\n",
    "            pvalue+=1\n",
    "    return pvalue/it\n",
    "\n",
    "#Notar que utilizo el teorema de que P_f(D>=d) es la misma para cualquier \n",
    "#...distribución "
   ]
  },
  {
   "cell_type": "code",
   "execution_count": null,
   "metadata": {},
   "outputs": [],
   "source": [
    "for n in [10,20,100,1000]:\n",
    "    data=np.array([rt(11) for i in range(n)], dtype=float)\n",
    "    print(\"n={}, p-valor={}\".format(n,est_p_value(data,10000)))"
   ]
  }
 ],
 "metadata": {
  "kernelspec": {
   "display_name": "Python 3",
   "language": "python",
   "name": "python3"
  },
  "language_info": {
   "codemirror_mode": {
    "name": "ipython",
    "version": 3
   },
   "file_extension": ".py",
   "mimetype": "text/x-python",
   "name": "python",
   "nbconvert_exporter": "python",
   "pygments_lexer": "ipython3",
   "version": "3.11.5"
  },
  "orig_nbformat": 4
 },
 "nbformat": 4,
 "nbformat_minor": 2
}
