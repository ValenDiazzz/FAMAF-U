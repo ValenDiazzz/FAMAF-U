{
 "cells": [
  {
   "cell_type": "code",
   "execution_count": 1,
   "metadata": {},
   "outputs": [],
   "source": [
    "import numpy as np"
   ]
  },
  {
   "cell_type": "code",
   "execution_count": 2,
   "metadata": {},
   "outputs": [],
   "source": [
    "#Calcula la desviacion estandar\n",
    "def deviation(datos,mean):\n",
    "    n=len(datos)\n",
    "    sum=0\n",
    "    for i in range(n):\n",
    "        sum+=(datos[i]-mean)**2\n",
    "    return (sum/n)**0.5\n"
   ]
  },
  {
   "cell_type": "code",
   "execution_count": 3,
   "metadata": {},
   "outputs": [],
   "source": [
    "#Utilizo las formulas recursivas para calculas el primedio y varianza del nuevo set de datos.\n",
    "def simulation():\n",
    "    n=1\n",
    "    datos=[np.random.normal(0,1)]\n",
    "    mean_n=datos[0]\n",
    "    dev=0\n",
    "\n",
    "    while n<=100 or dev/(n**0.5)>=0.1:\n",
    "        #Actualizo los datos\n",
    "        dato=np.random.normal(0,1)\n",
    "        datos.append(dato)\n",
    "        \n",
    "        #Actualizo la media\n",
    "        mean_n1= mean_n + ((dato-mean_n)/(n+1))\n",
    "\n",
    "        #Actualizo la desviacion\n",
    "        dev= (1-(1/n))*(dev**2) + (n+1)*((mean_n1 - mean_n)**2)\n",
    "        dev=dev**0.5\n",
    "\n",
    "        mean_n=mean_n1\n",
    "        n+=1\n",
    "    return n,np.array(datos,dtype=float)"
   ]
  },
  {
   "cell_type": "code",
   "execution_count": null,
   "metadata": {},
   "outputs": [],
   "source": [
    "datos_generados=0\n",
    "for i in range(150):\n",
    "    datos_generados+=simulation()[0]\n",
    "print(\"Datos generados:{}\".format(datos_generados/150))"
   ]
  },
  {
   "cell_type": "code",
   "execution_count": null,
   "metadata": {},
   "outputs": [],
   "source": [
    "np.mean(simulation()[1]) #Media de datos generados"
   ]
  },
  {
   "cell_type": "code",
   "execution_count": null,
   "metadata": {},
   "outputs": [],
   "source": [
    "np.var(simulation()[1]) #Varianzaa de datos generados"
   ]
  }
 ],
 "metadata": {
  "kernelspec": {
   "display_name": "Python 3",
   "language": "python",
   "name": "python3"
  },
  "language_info": {
   "codemirror_mode": {
    "name": "ipython",
    "version": 3
   },
   "file_extension": ".py",
   "mimetype": "text/x-python",
   "name": "python",
   "nbconvert_exporter": "python",
   "pygments_lexer": "ipython3",
   "version": "3.11.5"
  },
  "orig_nbformat": 4
 },
 "nbformat": 4,
 "nbformat_minor": 2
}
