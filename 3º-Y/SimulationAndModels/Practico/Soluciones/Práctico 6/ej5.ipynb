{
 "cells": [
  {
   "cell_type": "code",
   "execution_count": 1,
   "metadata": {},
   "outputs": [],
   "source": [
    "import random as rd\n",
    "from math import sqrt\n"
   ]
  },
  {
   "attachments": {},
   "cell_type": "markdown",
   "metadata": {},
   "source": [
    "c)"
   ]
  },
  {
   "cell_type": "code",
   "execution_count": 2,
   "metadata": {},
   "outputs": [],
   "source": [
    "def M():\n",
    "    n=2\n",
    "    u1=rd.random()\n",
    "    u2=rd.random()\n",
    "    while u1<=u2:\n",
    "        u1=u2\n",
    "        u2=rd.random()\n",
    "        n+=1\n",
    "    return n\n",
    "\n",
    "def sim_M(max_it):\n",
    "    n=1\n",
    "    mean_n=M()\n",
    "    scuad=0\n",
    "\n",
    "    while n<max_it and (n<=100 or scuad>=0.001):\n",
    "        #Actualizo los datos\n",
    "        dato=M()\n",
    "        \n",
    "        #Actualizo la media\n",
    "        mean_n1= mean_n + ((dato-mean_n)/(n+1))\n",
    "\n",
    "        #Actualizo la desviacion\n",
    "        scuad= (1-(1/n))*(scuad) + (n+1)*((mean_n1 - mean_n)**2)\n",
    "\n",
    "        mean_n=mean_n1\n",
    "        n+=1\n",
    "\n",
    "    return mean_n1,n,scuad"
   ]
  },
  {
   "cell_type": "code",
   "execution_count": null,
   "metadata": {},
   "outputs": [],
   "source": [
    "sim_M(10000)"
   ]
  },
  {
   "attachments": {},
   "cell_type": "markdown",
   "metadata": {},
   "source": [
    "d)"
   ]
  },
  {
   "cell_type": "code",
   "execution_count": 4,
   "metadata": {},
   "outputs": [],
   "source": [
    "#Para IC de 95% tenemos que z_alfa_2= 1.96\n",
    "#tol es la maxima longitud que le permito al IC\n",
    "def var_est_M(tol,z_alfa_2,max_it):\n",
    "    n=1\n",
    "    mean_n=M()\n",
    "    dev=0\n",
    "    ancho=0\n",
    "\n",
    "    while n<max_it and (n<=100 or ancho>=tol):\n",
    "        #Genero un nuevo dato\n",
    "        dato=M()\n",
    "        \n",
    "        #Actualizo la media\n",
    "        mean_n1= mean_n + ((dato-mean_n)/(n+1))\n",
    "        \n",
    "        #Actualizo la desviacion\n",
    "        dev= (1-(1/n))*(dev**2) + (n+1)*((mean_n1 - mean_n)**2)\n",
    "        dev=dev**0.5\n",
    "\n",
    "        ancho= 2*z_alfa_2*dev/sqrt(n)\n",
    "        mean_n=mean_n1\n",
    "        n+=1\n",
    "    return mean_n1,n"
   ]
  },
  {
   "cell_type": "code",
   "execution_count": null,
   "metadata": {},
   "outputs": [],
   "source": [
    "var_est_M(0.1,1.96,1300)"
   ]
  }
 ],
 "metadata": {
  "kernelspec": {
   "display_name": "Python 3",
   "language": "python",
   "name": "python3"
  },
  "language_info": {
   "codemirror_mode": {
    "name": "ipython",
    "version": 3
   },
   "file_extension": ".py",
   "mimetype": "text/x-python",
   "name": "python",
   "nbconvert_exporter": "python",
   "pygments_lexer": "ipython3",
   "version": "3.11.5"
  },
  "orig_nbformat": 4
 },
 "nbformat": 4,
 "nbformat_minor": 2
}
