{
 "cells": [
  {
   "cell_type": "code",
   "execution_count": 1,
   "metadata": {},
   "outputs": [],
   "source": [
    "import numpy as np\n",
    "import random as rd\n",
    "from math import sqrt,e"
   ]
  },
  {
   "cell_type": "code",
   "execution_count": 2,
   "metadata": {},
   "outputs": [],
   "source": [
    "def g1(x):\n",
    "    return (e**x)/sqrt(2*x)\n",
    "def g2(x):\n",
    "    return (x**2)*(e**-(x**2))\n"
   ]
  },
  {
   "cell_type": "code",
   "execution_count": 3,
   "metadata": {},
   "outputs": [],
   "source": [
    "def integral_ab(fun,a,b,tol):\n",
    "    n=1\n",
    "    mean_n=fun(a+((b-a)*rd.random())) * (b-a)\n",
    "    dev=0\n",
    "\n",
    "    while n<=100 or dev/(n**0.5)>=tol:\n",
    "        #Genero un nuevo dato\n",
    "        x=fun(a+((b-a)*rd.random())) * (b-a)\n",
    "        \n",
    "        #Actualizo la media\n",
    "        mean_n1= mean_n + ((x-mean_n)/(n+1))\n",
    "        \n",
    "        #Actualizo la desviacion\n",
    "        dev= (1-(1/n))*(dev**2) + (n+1)*((mean_n1 - mean_n)**2)\n",
    "        dev=dev**0.5\n",
    "\n",
    "        mean_n=mean_n1\n",
    "        n+=1\n",
    "    return mean_n1,n"
   ]
  },
  {
   "cell_type": "code",
   "execution_count": null,
   "metadata": {},
   "outputs": [],
   "source": [
    "print(integral_ab(g1,0,1,0.01))"
   ]
  },
  {
   "cell_type": "code",
   "execution_count": 5,
   "metadata": {},
   "outputs": [],
   "source": [
    "#par boolean is true when the integral is from -inf to ing and the function is even\n",
    "def integral_0inf(fun,tol,par:bool):\n",
    "    n=1\n",
    "    y=rd.random()\n",
    "    mean_n=fun(-1+(1/y)) / ((y**2)) #Ver por qué no necesita signo -\n",
    "    dev=0\n",
    "\n",
    "    while n<=100 or dev/(n**0.5)>=tol:\n",
    "        #Genero un nuevo dato\n",
    "        y=rd.random()\n",
    "        y=fun(-1+(1/y)) / ((y**2))\n",
    "        \n",
    "        #Actualizo la media\n",
    "        mean_n1= mean_n + ((y-mean_n)/(n+1))\n",
    "        \n",
    "        #Actualizo la desviacion\n",
    "        dev= (1-(1/n))*(dev**2) + (n+1)*((mean_n1 - mean_n)**2)\n",
    "        dev=dev**0.5\n",
    "\n",
    "        mean_n=mean_n1\n",
    "        n+=1\n",
    "    if par:\n",
    "        mean_n1*=2\n",
    "    return mean_n1,n"
   ]
  },
  {
   "cell_type": "code",
   "execution_count": null,
   "metadata": {},
   "outputs": [],
   "source": [
    "print(integral_0inf(g2,0.01,True))"
   ]
  }
 ],
 "metadata": {
  "kernelspec": {
   "display_name": "Python 3",
   "language": "python",
   "name": "python3"
  },
  "language_info": {
   "codemirror_mode": {
    "name": "ipython",
    "version": 3
   },
   "file_extension": ".py",
   "mimetype": "text/x-python",
   "name": "python",
   "nbconvert_exporter": "python",
   "pygments_lexer": "ipython3",
   "version": "3.11.5"
  },
  "orig_nbformat": 4
 },
 "nbformat": 4,
 "nbformat_minor": 2
}
