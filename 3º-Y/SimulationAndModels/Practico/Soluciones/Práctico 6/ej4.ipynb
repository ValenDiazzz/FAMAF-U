{
 "cells": [
  {
   "cell_type": "code",
   "execution_count": 1,
   "metadata": {},
   "outputs": [],
   "source": [
    "import random as rd\n",
    "from math import sqrt"
   ]
  },
  {
   "cell_type": "code",
   "execution_count": 2,
   "metadata": {},
   "outputs": [],
   "source": [
    "def N():\n",
    "    n=0\n",
    "    sum=0\n",
    "    while sum<=1:\n",
    "        sum+=rd.random()\n",
    "        n+=1\n",
    "    return n"
   ]
  },
  {
   "attachments": {},
   "cell_type": "markdown",
   "metadata": {},
   "source": [
    "a)"
   ]
  },
  {
   "cell_type": "code",
   "execution_count": 3,
   "metadata": {},
   "outputs": [],
   "source": [
    "def sim_N(it):\n",
    "    sum=0\n",
    "    for i in range(it):\n",
    "        sum+=N()\n",
    "    return sum/it\n"
   ]
  },
  {
   "cell_type": "code",
   "execution_count": null,
   "metadata": {},
   "outputs": [],
   "source": [
    "sim_N(10000)"
   ]
  },
  {
   "attachments": {},
   "cell_type": "markdown",
   "metadata": {},
   "source": [
    "b)"
   ]
  },
  {
   "cell_type": "code",
   "execution_count": 5,
   "metadata": {},
   "outputs": [],
   "source": [
    "#Sea Ñ(n) el promedio de N con n valores de N.\n",
    "#Var(Ñ(n))= sigma^2 / n\n",
    "#Como no conocemos sigma estimamos como ((S_n-1)^2)/n  (es lo que retornamos)\n",
    "def sim_N_est(it):\n",
    "    n=1\n",
    "    mean_n=N()\n",
    "    dev=0\n",
    "\n",
    "    while n<=it:\n",
    "        #Actualizo los datos\n",
    "        dato=N()\n",
    "        \n",
    "        #Actualizo la media\n",
    "        mean_n1= mean_n + ((dato-mean_n)/(n+1))\n",
    "\n",
    "        #Actualizo la desviacion\n",
    "        dev= (1-(1/n))*(dev**2) + (n+1)*((mean_n1 - mean_n)**2)\n",
    "        dev=dev**0.5\n",
    "\n",
    "        mean_n=mean_n1\n",
    "        n+=1\n",
    "    return (dev**2)/it"
   ]
  },
  {
   "cell_type": "code",
   "execution_count": null,
   "metadata": {},
   "outputs": [],
   "source": [
    "sim_N_est(1000)"
   ]
  },
  {
   "attachments": {},
   "cell_type": "markdown",
   "metadata": {},
   "source": [
    "c)"
   ]
  },
  {
   "cell_type": "code",
   "execution_count": 7,
   "metadata": {},
   "outputs": [],
   "source": [
    "#Para IC de 95% tenemos que z_alfa_2= 1.96\n",
    "#tol es la maxima longitud que le permito al IC\n",
    "def var_est_N(tol,z_alfa_2,max_it):\n",
    "    n=1\n",
    "    mean_n=N()\n",
    "    dev=0\n",
    "    iancho=0\n",
    "\n",
    "    while n<max_it and (n<=100 or ancho>=tol):\n",
    "        #Genero un nuevo dato\n",
    "        dato=N()\n",
    "        \n",
    "        #Actualizo la media\n",
    "        mean_n1= mean_n + ((dato-mean_n)/(n+1))\n",
    "        \n",
    "        #Actualizo la desviacion\n",
    "        dev= (1-(1/n))*(dev**2) + (n+1)*((mean_n1 - mean_n)**2)\n",
    "        dev=dev**0.5\n",
    "\n",
    "        ancho= 2*z_alfa_2*dev/sqrt(n)\n",
    "        mean_n=mean_n1\n",
    "        n+=1\n",
    "    return dev"
   ]
  },
  {
   "cell_type": "code",
   "execution_count": null,
   "metadata": {},
   "outputs": [],
   "source": [
    "var_est_N(0.025,1.96,1000)"
   ]
  }
 ],
 "metadata": {
  "kernelspec": {
   "display_name": "Python 3",
   "language": "python",
   "name": "python3"
  },
  "language_info": {
   "codemirror_mode": {
    "name": "ipython",
    "version": 3
   },
   "file_extension": ".py",
   "mimetype": "text/x-python",
   "name": "python",
   "nbconvert_exporter": "python",
   "pygments_lexer": "ipython3",
   "version": "3.11.5"
  },
  "orig_nbformat": 4
 },
 "nbformat": 4,
 "nbformat_minor": 2
}
