{
 "cells": [
  {
   "cell_type": "code",
   "execution_count": 1,
   "metadata": {},
   "outputs": [],
   "source": [
    "import random as rd\n",
    "from math import sqrt,pi"
   ]
  },
  {
   "cell_type": "code",
   "execution_count": 2,
   "metadata": {},
   "outputs": [],
   "source": [
    "#No es necesario generar en (-1,1) pues al elevar\n",
    "#al cuadrado se pierde el signo. Con generar en \n",
    "#(0,1) alcanza\n",
    "\n",
    "def point():\n",
    "    u1=rd.random()\n",
    "    u2=rd.random()\n",
    "    if u1**2 + u2**2 <=1:\n",
    "        return 1\n",
    "    else:\n",
    "        return 0"
   ]
  },
  {
   "cell_type": "code",
   "execution_count": 3,
   "metadata": {},
   "outputs": [],
   "source": [
    "def est_pi(max_it):\n",
    "    n=1\n",
    "    mean_n=point()\n",
    "    dev=0\n",
    "\n",
    "    while n<max_it and (n<=100 or dev**2>=0.01):\n",
    "        #Actualizo los datos\n",
    "        dato=point()\n",
    "        \n",
    "        #Actualizo la media\n",
    "        mean_n1= mean_n + ((dato-mean_n)/(n+1))\n",
    "\n",
    "        #Actualizo la desviacion\n",
    "        dev= (1-(1/n))*(dev**2) + (n+1)*((mean_n1 - mean_n)**2)\n",
    "\n",
    "        mean_n=mean_n1\n",
    "        n+=1\n",
    "\n",
    "    return 4*mean_n1,n,dev  \n",
    "#Multiplicamos por 4 dado que mean_n es el area de 1/4 de circulo\n",
    "#Pues solo estamos generando puntos en el primer cuadrante"
   ]
  },
  {
   "cell_type": "code",
   "execution_count": null,
   "metadata": {},
   "outputs": [],
   "source": [
    "est_pi(300)"
   ]
  },
  {
   "attachments": {},
   "cell_type": "markdown",
   "metadata": {},
   "source": [
    "b)"
   ]
  },
  {
   "cell_type": "code",
   "execution_count": 5,
   "metadata": {},
   "outputs": [],
   "source": [
    "#Para IC de 95% tenemos que z_alfa_2= 1.96\n",
    "#tol es la maxima longitud que le permito al IC\n",
    "#Si L=2*a_añfa_2*S /sqrt(n) \n",
    "# ?> it_necesarias=(2*dev*z_alfa_2/tol)^2\n",
    "def est_IC_pi(tol,z_alfa_2,max_it):\n",
    "    n=1\n",
    "    mean_n=point()\n",
    "    dev=0\n",
    "    iancho=0\n",
    "\n",
    "    while n<max_it and (n<=100 or ancho>=tol):\n",
    "        #Genero un nuevo dato\n",
    "        dato=point()\n",
    "        \n",
    "        #Actualizo la media\n",
    "        mean_n1= mean_n + ((dato-mean_n)/(n+1))\n",
    "        \n",
    "        #Actualizo la desviacion\n",
    "        dev= (1-(1/n))*(dev**2) + (n+1)*((mean_n1 - mean_n)**2)\n",
    "        dev=dev**0.5\n",
    "\n",
    "        ancho= 2*z_alfa_2*dev/sqrt(n)\n",
    "        mean_n=mean_n1\n",
    "        n+=1\n",
    "    \n",
    "    return (2*dev*z_alfa_2/tol)**2"
   ]
  },
  {
   "cell_type": "code",
   "execution_count": null,
   "metadata": {},
   "outputs": [],
   "source": [
    "est_IC_pi(0.1,1.96,300)\n"
   ]
  }
 ],
 "metadata": {
  "kernelspec": {
   "display_name": "Python 3",
   "language": "python",
   "name": "python3"
  },
  "language_info": {
   "codemirror_mode": {
    "name": "ipython",
    "version": 3
   },
   "file_extension": ".py",
   "mimetype": "text/x-python",
   "name": "python",
   "nbconvert_exporter": "python",
   "pygments_lexer": "ipython3",
   "version": "3.11.5"
  },
  "orig_nbformat": 4
 },
 "nbformat": 4,
 "nbformat_minor": 2
}
