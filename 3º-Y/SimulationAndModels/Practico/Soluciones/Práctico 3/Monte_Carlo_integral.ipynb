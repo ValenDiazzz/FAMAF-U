{
 "cells": [
  {
   "cell_type": "code",
   "execution_count": 1,
   "metadata": {},
   "outputs": [],
   "source": [
    "import random as rd\n",
    "import math\n",
    "from scipy import integrate"
   ]
  },
  {
   "cell_type": "code",
   "execution_count": 2,
   "metadata": {},
   "outputs": [],
   "source": [
    "def fun1(x):\n",
    "    return math.e**(-(x**2))"
   ]
  },
  {
   "cell_type": "code",
   "execution_count": 3,
   "metadata": {},
   "outputs": [],
   "source": [
    "#calcula la integral en el intervalo (0,1)\n",
    "def integral_01(n,fun):\n",
    "    sum=0\n",
    "    integral=0\n",
    "    for i in range(n):\n",
    "        x=rd.random()\n",
    "        integral+=fun(x)\n",
    "    return integral/n, integrate.quad(fun,0,1)[0]"
   ]
  },
  {
   "cell_type": "code",
   "execution_count": null,
   "metadata": {},
   "outputs": [],
   "source": [
    "integral_01(100,fun1)"
   ]
  },
  {
   "cell_type": "code",
   "execution_count": 5,
   "metadata": {},
   "outputs": [],
   "source": [
    "def integral_ab(n,fun,a,b):\n",
    "    sum=0\n",
    "    integral=0\n",
    "    for i in range(n):\n",
    "        x=rd.random()\n",
    "        integral+=(b-a)*fun((x*(b-a))+a)\n",
    "    return integral/n, integrate.quad(fun,a,b)[0]"
   ]
  },
  {
   "cell_type": "code",
   "execution_count": null,
   "metadata": {},
   "outputs": [],
   "source": [
    "integral_ab(1000,fun1,0,1)"
   ]
  },
  {
   "cell_type": "code",
   "execution_count": 7,
   "metadata": {},
   "outputs": [],
   "source": [
    "def pi(n):\n",
    "    area=0\n",
    "    for i in range(n):\n",
    "        x=rd.random()\n",
    "        y=rd.random()\n",
    "        if x**2 + y**2 < 1:\n",
    "            area+=1\n",
    "    area/=n\n",
    "    return area*4"
   ]
  },
  {
   "cell_type": "code",
   "execution_count": null,
   "metadata": {},
   "outputs": [],
   "source": [
    "pi(100000)"
   ]
  },
  {
   "attachments": {},
   "cell_type": "markdown",
   "metadata": {},
   "source": [
    "FUNCIONES EJ5"
   ]
  },
  {
   "cell_type": "code",
   "execution_count": 9,
   "metadata": {},
   "outputs": [],
   "source": [
    "def fun_a(x):\n",
    "    return (1-(x**2))**(3/2)\n",
    "def fun_b(x):\n",
    "    return x/((x**2)-1)\n"
   ]
  },
  {
   "cell_type": "code",
   "execution_count": null,
   "metadata": {},
   "outputs": [],
   "source": [
    "integral_ab(1000,fun_a,0,1)"
   ]
  },
  {
   "cell_type": "code",
   "execution_count": null,
   "metadata": {},
   "outputs": [],
   "source": [
    "integral_ab(1000,fun_b,2,3)"
   ]
  }
 ],
 "metadata": {
  "kernelspec": {
   "display_name": "Python 3",
   "language": "python",
   "name": "python3"
  },
  "language_info": {
   "codemirror_mode": {
    "name": "ipython",
    "version": 3
   },
   "file_extension": ".py",
   "mimetype": "text/x-python",
   "name": "python",
   "nbconvert_exporter": "python",
   "pygments_lexer": "ipython3",
   "version": "3.11.5"
  },
  "orig_nbformat": 4
 },
 "nbformat": 4,
 "nbformat_minor": 2
}
