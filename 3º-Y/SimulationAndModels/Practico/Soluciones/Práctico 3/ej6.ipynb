{
 "cells": [
  {
   "cell_type": "code",
   "execution_count": 1,
   "metadata": {},
   "outputs": [],
   "source": [
    "import random as rd"
   ]
  },
  {
   "cell_type": "code",
   "execution_count": 2,
   "metadata": {},
   "outputs": [],
   "source": [
    "def simulation(n):\n",
    "    rd.seed(1234)\n",
    "    N=0 \n",
    "    for i in range(n):\n",
    "        sum=0\n",
    "        j=0 #Cuenta cuantos n son necesarios en la simulacion i\n",
    "        while sum<=1:\n",
    "            u=rd.random()\n",
    "            sum+=u\n",
    "            j+=1 \n",
    "        N+=j\n",
    "    N=N/n \n",
    "    return N"
   ]
  },
  {
   "cell_type": "code",
   "execution_count": null,
   "metadata": {},
   "outputs": [],
   "source": [
    "simulation(1000000)"
   ]
  }
 ],
 "metadata": {
  "kernelspec": {
   "display_name": "Python 3",
   "language": "python",
   "name": "python3"
  },
  "language_info": {
   "codemirror_mode": {
    "name": "ipython",
    "version": 3
   },
   "file_extension": ".py",
   "mimetype": "text/x-python",
   "name": "python",
   "nbconvert_exporter": "python",
   "pygments_lexer": "ipython3",
   "version": "3.11.5"
  },
  "orig_nbformat": 4
 },
 "nbformat": 4,
 "nbformat_minor": 2
}
