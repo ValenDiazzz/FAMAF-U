{
 "cells": [
  {
   "cell_type": "code",
   "execution_count": 1,
   "metadata": {},
   "outputs": [],
   "source": [
    "import random as rd\n",
    "import numpy as np"
   ]
  },
  {
   "cell_type": "code",
   "execution_count": 2,
   "metadata": {},
   "outputs": [],
   "source": [
    "def simulation_a():\n",
    "    N=0\n",
    "    results=list(np.arange(2,13))\n",
    "    j=0\n",
    "    while len(results)!=0:\n",
    "        dado=rd.randint(1,6)\n",
    "        dado+=rd.randint(1,6)\n",
    "        if dado in results:\n",
    "            results.remove(dado)\n",
    "        j+=1\n",
    "    N+=j\n",
    "    return N"
   ]
  },
  {
   "cell_type": "code",
   "execution_count": null,
   "metadata": {},
   "outputs": [],
   "source": [
    "simulation_a()"
   ]
  },
  {
   "cell_type": "code",
   "execution_count": 4,
   "metadata": {},
   "outputs": [],
   "source": [
    "def media(n):\n",
    "    N=0\n",
    "    for j in range(n):\n",
    "        results=list(np.arange(2,13))\n",
    "        j=0\n",
    "        while len(results)!=0:\n",
    "            dado=rd.randint(1,6)\n",
    "            dado+=rd.randint(1,6)\n",
    "            if dado in results:\n",
    "                results.remove(dado)\n",
    "            j+=1\n",
    "        N+=j\n",
    "    return N/n"
   ]
  },
  {
   "cell_type": "code",
   "execution_count": null,
   "metadata": {},
   "outputs": [],
   "source": [
    "media(1000)"
   ]
  },
  {
   "cell_type": "code",
   "execution_count": 6,
   "metadata": {},
   "outputs": [],
   "source": [
    "def dev(n):\n",
    "    m=media(n)\n",
    "    var=0\n",
    "    for j in range(n):\n",
    "        results=list(np.arange(2,13))\n",
    "        j=0\n",
    "        while len(results)!=0:\n",
    "            dado=rd.randint(1,6)\n",
    "            dado+=rd.randint(1,6)\n",
    "            if dado in results:\n",
    "                results.remove(dado)\n",
    "            j+=1\n",
    "        var+=(j-m)**2\n",
    "    return (var/n)**0.5"
   ]
  },
  {
   "cell_type": "code",
   "execution_count": null,
   "metadata": {},
   "outputs": [],
   "source": [
    "dev(1000)"
   ]
  }
 ],
 "metadata": {
  "kernelspec": {
   "display_name": "Python 3",
   "language": "python",
   "name": "python3"
  },
  "language_info": {
   "codemirror_mode": {
    "name": "ipython",
    "version": 3
   },
   "file_extension": ".py",
   "mimetype": "text/x-python",
   "name": "python",
   "nbconvert_exporter": "python",
   "pygments_lexer": "ipython3",
   "version": "3.11.5"
  },
  "orig_nbformat": 4
 },
 "nbformat": 4,
 "nbformat_minor": 2
}
