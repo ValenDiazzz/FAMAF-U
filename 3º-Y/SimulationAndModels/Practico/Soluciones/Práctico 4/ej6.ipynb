{
 "cells": [
  {
   "cell_type": "code",
   "execution_count": 1,
   "metadata": {},
   "outputs": [],
   "source": [
    "import random as rd\n",
    "import numpy as np\n",
    "import time\n",
    "import math\n",
    "from ipynb.fs.full.ej5 import Bin_tr_inv1\n",
    "from scipy.stats import binom"
   ]
  },
  {
   "cell_type": "code",
   "execution_count": 2,
   "metadata": {},
   "outputs": [],
   "source": [
    "def transf_inv():\n",
    "    u=rd.random()\n",
    "    if u<0.35:\n",
    "        return 3\n",
    "    elif u<0.55:\n",
    "        return 1\n",
    "    elif u<0.75:\n",
    "        return 4\n",
    "    elif u<0.90:\n",
    "        return 0\n",
    "    else:\n",
    "        return 2"
   ]
  },
  {
   "cell_type": "code",
   "execution_count": 3,
   "metadata": {},
   "outputs": [],
   "source": [
    "def rejection():\n",
    "    p=[0.15,0.2,0.1,0.35,0.2]\n",
    "    while True:\n",
    "        y=Bin_tr_inv1(4,0.45)\n",
    "        c=0.35/0.04100625 #pmax/qmin donde q_min=P(X=4)\n",
    "        u=rd.random()\n",
    "        if u<(p[y-1]/(c*binom.pmf(y, 4,0.45))):#u<(p[y-1]/(c*q[y]))\n",
    "            return y"
   ]
  },
  {
   "cell_type": "code",
   "execution_count": 4,
   "metadata": {},
   "outputs": [],
   "source": [
    "def sim_trinv(n):\n",
    "    start_time= time.time()\n",
    "    a=np.zeros(5)\n",
    "    for j in range(n):\n",
    "        u=transf_inv()\n",
    "        a[u]+=1 \n",
    "    a=a/n\n",
    "    end_time= time.time()\n",
    "    return (a,end_time-start_time)"
   ]
  },
  {
   "cell_type": "code",
   "execution_count": 5,
   "metadata": {},
   "outputs": [],
   "source": [
    "def sim_rej(n):\n",
    "    start_time= time.time()\n",
    "    a=np.zeros(5)\n",
    "    for j in range(n):\n",
    "        u=rejection()\n",
    "        a[u-1]+=1 \n",
    "    a=a/n\n",
    "    end_time= time.time()\n",
    "    return (a,end_time-start_time)"
   ]
  },
  {
   "cell_type": "code",
   "execution_count": 6,
   "metadata": {},
   "outputs": [],
   "source": [
    "#print(sim_trinv(10000)[1])\n",
    "#print(sim_rej(10000)[1]) #Este es lentísimo por tener que calcular qj\n"
   ]
  }
 ],
 "metadata": {
  "kernelspec": {
   "display_name": "Python 3",
   "language": "python",
   "name": "python3"
  },
  "language_info": {
   "codemirror_mode": {
    "name": "ipython",
    "version": 3
   },
   "file_extension": ".py",
   "mimetype": "text/x-python",
   "name": "python",
   "nbconvert_exporter": "python",
   "pygments_lexer": "ipython3",
   "version": "3.11.5"
  },
  "orig_nbformat": 4
 },
 "nbformat": 4,
 "nbformat_minor": 2
}
