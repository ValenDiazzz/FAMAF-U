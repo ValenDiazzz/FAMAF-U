{
 "cells": [
  {
   "cell_type": "code",
   "execution_count": 1,
   "metadata": {},
   "outputs": [],
   "source": [
    "import random as rd\n",
    "from math import log\n",
    "import time\n",
    "import numpy as np\n",
    "from scipy.stats import geom"
   ]
  },
  {
   "cell_type": "code",
   "execution_count": 2,
   "metadata": {},
   "outputs": [],
   "source": [
    "def geom_tr_inv1(p):\n",
    "    u=rd.random()\n",
    "    return int(log(1-u)/log(1-p)) + 1"
   ]
  },
  {
   "cell_type": "code",
   "execution_count": 3,
   "metadata": {},
   "outputs": [],
   "source": [
    "#Utilizando la forumla recursiva\n",
    "def geom_tr_inv2(p):\n",
    "    u=rd.random()\n",
    "    F=p          #La acumulada \n",
    "    i=1\n",
    "    while u>=F:\n",
    "        i+=1\n",
    "        p*=(1-p)**(i-1)        #p_i=\n",
    "        F+=p\n",
    "    return i"
   ]
  },
  {
   "cell_type": "code",
   "execution_count": 4,
   "metadata": {},
   "outputs": [],
   "source": [
    "def ensayo(p):\n",
    "    u=rd.random()\n",
    "    if u<p:\n",
    "        return True\n",
    "    else:\n",
    "        return False"
   ]
  },
  {
   "cell_type": "code",
   "execution_count": 5,
   "metadata": {},
   "outputs": [],
   "source": [
    "def geom_ensayos(p):\n",
    "    i=1\n",
    "    while ensayo(p):\n",
    "        i+=1\n",
    "    return i"
   ]
  },
  {
   "attachments": {},
   "cell_type": "markdown",
   "metadata": {},
   "source": [
    "Comparemos las 2 generadores con el de scipy"
   ]
  },
  {
   "cell_type": "code",
   "execution_count": 6,
   "metadata": {},
   "outputs": [],
   "source": [
    "def sim_geom_tr_inv1(p,it):\n",
    "    a=np.zeros(10)\n",
    "    for j in range(it):\n",
    "        u=geom_tr_inv1(p)\n",
    "        if u<=10:\n",
    "            a[u-1]+=1\n",
    "    return a/it"
   ]
  },
  {
   "cell_type": "code",
   "execution_count": 7,
   "metadata": {},
   "outputs": [],
   "source": [
    "def sim_geom_tr_inv2(p,it):\n",
    "    a=np.zeros(10)\n",
    "    for j in range(it):\n",
    "        u=geom_tr_inv2(p)\n",
    "        if u<=10:\n",
    "            a[u-1]+=1\n",
    "    return a/it"
   ]
  },
  {
   "cell_type": "code",
   "execution_count": 8,
   "metadata": {},
   "outputs": [],
   "source": [
    "def sim_geom_ensayos(p,it):\n",
    "    a=np.zeros(10)\n",
    "    for j in range(it):\n",
    "        u=geom_ensayos(p)\n",
    "        if u<=10:\n",
    "            a[u-1]+=1\n",
    "    return a/it"
   ]
  },
  {
   "cell_type": "code",
   "execution_count": 9,
   "metadata": {},
   "outputs": [],
   "source": [
    "def sim_scipy_geom(p,it):\n",
    "    a=np.zeros(10)\n",
    "    for j in range(it):\n",
    "        u=geom.rvs(p)\n",
    "        if u<=10:\n",
    "            a[u-1]+=1\n",
    "    return a/it"
   ]
  },
  {
   "cell_type": "code",
   "execution_count": null,
   "metadata": {},
   "outputs": [],
   "source": [
    "sim_geom_tr_inv1(0.8,10000)"
   ]
  },
  {
   "cell_type": "code",
   "execution_count": null,
   "metadata": {},
   "outputs": [],
   "source": [
    "sim_geom_tr_inv2(0.8,10000)"
   ]
  },
  {
   "cell_type": "code",
   "execution_count": null,
   "metadata": {},
   "outputs": [],
   "source": [
    "sim_geom_ensayos(0.8,10000)"
   ]
  },
  {
   "cell_type": "code",
   "execution_count": null,
   "metadata": {},
   "outputs": [],
   "source": [
    "sim_scipy_geom(0.8,10000)"
   ]
  }
 ],
 "metadata": {
  "kernelspec": {
   "display_name": "Python 3",
   "language": "python",
   "name": "python3"
  },
  "language_info": {
   "codemirror_mode": {
    "name": "ipython",
    "version": 3
   },
   "file_extension": ".py",
   "mimetype": "text/x-python",
   "name": "python",
   "nbconvert_exporter": "python",
   "pygments_lexer": "ipython3",
   "version": "3.11.5"
  },
  "orig_nbformat": 4
 },
 "nbformat": 4,
 "nbformat_minor": 2
}
