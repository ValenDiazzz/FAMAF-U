{
 "cells": [
  {
   "cell_type": "code",
   "execution_count": 1,
   "metadata": {},
   "outputs": [],
   "source": [
    "import numpy as np"
   ]
  },
  {
   "cell_type": "code",
   "execution_count": 2,
   "metadata": {},
   "outputs": [],
   "source": [
    "A=np.array([\n",
    "    [9,-2,0],\n",
    "    [-2,4,-1],\n",
    "    [0,-1,1]\n",
    "], dtype=float)\n",
    "b=np.array([5,1,-5/6], dtype=float)"
   ]
  },
  {
   "cell_type": "code",
   "execution_count": 3,
   "metadata": {},
   "outputs": [],
   "source": [
    "def sol_gradopt(M,y,it):\n",
    "    A=M.copy()\n",
    "    b=y.copy()\n",
    "    n=b.shape\n",
    "    x=np.zeros(n)\n",
    "    r=b-(A@x)\n",
    "    k=0\n",
    "    \n",
    "    while np.linalg.norm(r,2)>=1e-9 and k<it:\n",
    "        v=A@r\n",
    "        a=(np.linalg.norm(r,2)**2)/np.inner(v,r)\n",
    "        x=x+ (r*a)\n",
    "        r=r-(a*v)\n",
    "        k+=1\n",
    "    return x"
   ]
  }
 ],
 "metadata": {
  "kernelspec": {
   "display_name": "Python 3.9.2 64-bit",
   "language": "python",
   "name": "python3"
  },
  "language_info": {
   "codemirror_mode": {
    "name": "ipython",
    "version": 3
   },
   "file_extension": ".py",
   "mimetype": "text/x-python",
   "name": "python",
   "nbconvert_exporter": "python",
   "pygments_lexer": "ipython3",
   "version": "3.11.5"
  },
  "orig_nbformat": 4,
  "vscode": {
   "interpreter": {
    "hash": "8846a69f2c50b9d72b98556550453b9650bfe7c2d38b105ef2df610ba22885fc"
   }
  }
 },
 "nbformat": 4,
 "nbformat_minor": 2
}
