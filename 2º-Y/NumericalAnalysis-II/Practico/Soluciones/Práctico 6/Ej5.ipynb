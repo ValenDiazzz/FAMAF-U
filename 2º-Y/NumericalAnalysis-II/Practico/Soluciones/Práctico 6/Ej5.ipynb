{
 "cells": [
  {
   "cell_type": "code",
   "execution_count": 1,
   "metadata": {},
   "outputs": [],
   "source": [
    "import numpy as np\n",
    "from ipynb.fs.full.Ej4 import aut_potencias,aut_rayleigh\n",
    "from ipynb.fs.full.Ej6 import aut_inversas"
   ]
  },
  {
   "cell_type": "code",
   "execution_count": null,
   "metadata": {},
   "outputs": [],
   "source": [
    "A=np.array([\n",
    "    [2,1,2],\n",
    "    [1,3,2],\n",
    "    [2,4,1]\n",
    "], dtype=float)\n",
    "print(aut_potencias(A,np.ones(3),10e-10,400))\n",
    "print(aut_inversas(A,np.ones(3),1,10e-10,400)) \n",
    "print(aut_rayleigh(A,np.ones(3),10e-4,400))"
   ]
  },
  {
   "cell_type": "code",
   "execution_count": null,
   "metadata": {},
   "outputs": [],
   "source": [
    "#notar que el autovector de rayleigh es un múltiplo\n",
    "#Si dividimos el autovector por el ultimo elemento:\n",
    "print(aut_rayleigh(A,np.ones(3),10e-4,400)[0]/aut_rayleigh(A,np.ones(3),10e-4,400)[0][-1])"
   ]
  }
 ],
 "metadata": {
  "kernelspec": {
   "display_name": "Python 3",
   "language": "python",
   "name": "python3"
  },
  "language_info": {
   "codemirror_mode": {
    "name": "ipython",
    "version": 3
   },
   "file_extension": ".py",
   "mimetype": "text/x-python",
   "name": "python",
   "nbconvert_exporter": "python",
   "pygments_lexer": "ipython3",
   "version": "3.11.5"
  },
  "orig_nbformat": 4,
  "vscode": {
   "interpreter": {
    "hash": "8846a69f2c50b9d72b98556550453b9650bfe7c2d38b105ef2df610ba22885fc"
   }
  }
 },
 "nbformat": 4,
 "nbformat_minor": 2
}
