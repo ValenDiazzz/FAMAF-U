{
 "cells": [
  {
   "cell_type": "code",
   "execution_count": 1,
   "metadata": {},
   "outputs": [],
   "source": [
    "import numpy as np"
   ]
  },
  {
   "cell_type": "code",
   "execution_count": 2,
   "metadata": {},
   "outputs": [],
   "source": [
    "def aut_potencias(M,y,tol,it):\n",
    "    A=M.copy()\n",
    "    q0=y.copy()\n",
    "    n=A.shape[0]\n",
    "    error=np.ones(n)\n",
    "\n",
    "    k=0\n",
    "    while np.linalg.norm(error,2)>tol and k<it:\n",
    "        q1=A@q0 \n",
    "        s=np.max(np.abs(q1))\n",
    "        q1=q1/s\n",
    "        error=q1-q0\n",
    "        q0=q1\n",
    "        k+=1\n",
    "    return q0,s,k"
   ]
  },
  {
   "cell_type": "code",
   "execution_count": 3,
   "metadata": {},
   "outputs": [],
   "source": [
    "#Este metodo depende del q inicial, es necesario tener... \n",
    "#...alguna aproximación del mismo(no necesariamente muy buena)\n",
    "\n",
    "def aut_rayleigh(M,y,tol,it):\n",
    "    A=M.copy()\n",
    "    q0=y.copy()\n",
    "    n=A.shape[0]\n",
    "    error=np.ones(n)\n",
    "    q0=q0/np.linalg.norm(q0,2) #normalizo el vector\n",
    "    k=0\n",
    "    while np.linalg.norm(error,2)>tol and k<it:\n",
    "        p=np.dot(q0, A @ q0)\n",
    "        q1=np.linalg.solve(A-(p*np.eye(n)),q0)\n",
    "        s=np.linalg.norm(q1,2)\n",
    "        q1=q1/s\n",
    "        error=q1-q0\n",
    "        q0=q1\n",
    "        k+=1\n",
    "    s=(1+(p*s))/s\n",
    "    return q0,s,k \n",
    "#preguntar: A veces los q1,q0 son iguales pero de diferente signo...\n",
    "#... entonces error=q1-q0=2*q1, y por lo tanto no se me hace 0 el error"
   ]
  }
 ],
 "metadata": {
  "kernelspec": {
   "display_name": "Python 3",
   "language": "python",
   "name": "python3"
  },
  "language_info": {
   "codemirror_mode": {
    "name": "ipython",
    "version": 3
   },
   "file_extension": ".py",
   "mimetype": "text/x-python",
   "name": "python",
   "nbconvert_exporter": "python",
   "pygments_lexer": "ipython3",
   "version": "3.11.5"
  },
  "orig_nbformat": 4,
  "vscode": {
   "interpreter": {
    "hash": "8846a69f2c50b9d72b98556550453b9650bfe7c2d38b105ef2df610ba22885fc"
   }
  }
 },
 "nbformat": 4,
 "nbformat_minor": 2
}
