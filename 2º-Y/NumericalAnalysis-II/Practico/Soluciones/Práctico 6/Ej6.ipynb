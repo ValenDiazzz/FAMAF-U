{
 "cells": [
  {
   "cell_type": "code",
   "execution_count": 1,
   "metadata": {},
   "outputs": [],
   "source": [
    "import numpy as np"
   ]
  },
  {
   "cell_type": "code",
   "execution_count": 2,
   "metadata": {},
   "outputs": [],
   "source": [
    "#Este método es bueno cuando ya se tiene una buena aproximación del autovalor\n",
    "#De no ser así el método es bastante malo\n",
    "def aut_inversas(A,q0,p,tol,it):\n",
    "    n=A.shape[0]\n",
    "    B=A-(p*np.eye(n))\n",
    "    error=np.ones(n)\n",
    "    k=0\n",
    "    while np.linalg.norm(error,2)>tol and k<it:\n",
    "        q1=np.linalg.solve(B,q0)  #Esto hay q hacerlo mas eficiente\n",
    "        s=np.max(np.abs(q1))\n",
    "        q1=q1/s\n",
    "        error=q1-q0\n",
    "        q0=q1\n",
    "        k+=1\n",
    "    s=(1+(p*s))/s\n",
    "    return q0,s,k "
   ]
  }
 ],
 "metadata": {
  "kernelspec": {
   "display_name": "Python 3",
   "language": "python",
   "name": "python3"
  },
  "language_info": {
   "codemirror_mode": {
    "name": "ipython",
    "version": 3
   },
   "file_extension": ".py",
   "mimetype": "text/x-python",
   "name": "python",
   "nbconvert_exporter": "python",
   "pygments_lexer": "ipython3",
   "version": "3.11.5"
  },
  "orig_nbformat": 4,
  "vscode": {
   "interpreter": {
    "hash": "8846a69f2c50b9d72b98556550453b9650bfe7c2d38b105ef2df610ba22885fc"
   }
  }
 },
 "nbformat": 4,
 "nbformat_minor": 2
}
