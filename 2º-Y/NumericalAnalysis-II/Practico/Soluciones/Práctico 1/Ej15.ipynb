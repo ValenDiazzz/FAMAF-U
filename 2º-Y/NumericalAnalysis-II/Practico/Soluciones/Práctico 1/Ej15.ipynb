{
 "cells": [
  {
   "cell_type": "code",
   "execution_count": null,
   "metadata": {},
   "outputs": [],
   "source": [
    "import numpy as np\n",
    "import matplotlib.pyplot as plt\n",
    "from ipynb.fs.full.Ej12 import cholesky\n",
    "from ipynb.fs.full.Ej13 import tribanda\n",
    "from ipynb.fs.full.Ej14 import sol_defpos"
   ]
  },
  {
   "cell_type": "code",
   "execution_count": 2,
   "metadata": {},
   "outputs": [],
   "source": [
    "A1=tribanda(500)"
   ]
  },
  {
   "cell_type": "code",
   "execution_count": 3,
   "metadata": {},
   "outputs": [],
   "source": [
    "def solver_ej15(B):    \n",
    "    A=B.copy()\n",
    "    n = 500  \n",
    "    b=np.array([np.zeros(n), np.zeros(n), np.zeros(n)], dtype=\"float\")\n",
    "    c=[n/10, n/2, (9*n)/10]\n",
    "    for k in range(3):\n",
    "        for j in range(1,n+1):\n",
    "            b[k][j-1]= np.exp(-((j-c[k])**2)/100) \n",
    "        x=sol_defpos(A, b[k])\n",
    "\n",
    "        #Gráfico\n",
    "        fig, ax= plt.subplots()\n",
    "        dominio = np.linspace(0, 1, 500)\n",
    "        plt.plot(dominio, b[k],color=\"black\", label=\"b\")\n",
    "        plt.plot(dominio, x,color=\"green\", label=\"x\")\n",
    "        ax.set_xlabel(\"Eje X\")\n",
    "        ax.set_ylabel(\"Eje Y\")\n",
    "        ax.legend()\n",
    "        plt.show()\n"
   ]
  },
  {
   "cell_type": "code",
   "execution_count": null,
   "metadata": {},
   "outputs": [],
   "source": [
    "solver_ej15(A1)"
   ]
  }
 ],
 "metadata": {
  "kernelspec": {
   "display_name": "Python 3.9.2 64-bit",
   "language": "python",
   "name": "python3"
  },
  "language_info": {
   "codemirror_mode": {
    "name": "ipython",
    "version": 3
   },
   "file_extension": ".py",
   "mimetype": "text/x-python",
   "name": "python",
   "nbconvert_exporter": "python",
   "pygments_lexer": "ipython3",
   "version": "3.11.5"
  },
  "orig_nbformat": 4,
  "vscode": {
   "interpreter": {
    "hash": "8846a69f2c50b9d72b98556550453b9650bfe7c2d38b105ef2df610ba22885fc"
   }
  }
 },
 "nbformat": 4,
 "nbformat_minor": 2
}
