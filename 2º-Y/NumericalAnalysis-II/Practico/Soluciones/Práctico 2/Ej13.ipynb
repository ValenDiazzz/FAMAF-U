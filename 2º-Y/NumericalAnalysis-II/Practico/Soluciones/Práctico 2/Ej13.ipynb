{
 "cells": [
  {
   "cell_type": "code",
   "execution_count": 1,
   "metadata": {},
   "outputs": [],
   "source": [
    "import numpy as np\n"
   ]
  },
  {
   "cell_type": "code",
   "execution_count": 2,
   "metadata": {},
   "outputs": [],
   "source": [
    "#Modifico la funcion del ej9 para que me cuente los cambios de fila\n",
    "def dlup(B):\n",
    "    A=B.copy()\n",
    "    n = A.shape[0]\n",
    "    p=np.arange(n) #Te dice que filas quedaron cambiadas\n",
    "    det_sign = 1\n",
    "    for k in range(n-1):\n",
    "        kmax = np.argmax(np.abs(A[k:n, k])) + k \n",
    "        if kmax != k: #Hay que pivotear las filas\n",
    "            p[[k, kmax]] = p[[kmax, k]]\n",
    "            A[[k, kmax], :] = A[[kmax, k], :]\n",
    "            det_sign=det_sign*(-1)\n",
    "        A[k+1:n,k]=A[k+1:n,k]/A[k,k]\n",
    "        A[k+1:n,k+1:n]=A[k+1:n,k+1:n]- np.outer(A[k+1:n,k],A[k, k+1:n])\n",
    "    U=np.triu(A)\n",
    "    L=np.tril(A,-1)+ np.eye(n)\n",
    "    return (L,U,p, det_sign)"
   ]
  },
  {
   "cell_type": "code",
   "execution_count": 3,
   "metadata": {},
   "outputs": [],
   "source": [
    "A1 = np.array([\n",
    "    [0, 1, 0],\n",
    "    [1, 2, 0],\n",
    "    [0, 0, 1]\n",
    "], dtype=float)\n",
    "A2 = np.array([\n",
    "    [2, 10, 8, 8, 6], \n",
    "    [1, 4, -2, 4, -1],\n",
    "    [0, 2, 3, 2, 1],\n",
    "    [3, 8, 3, 10, 9],\n",
    "    [1, 4, 1, 2, 1]\n",
    "], dtype=\"float\")"
   ]
  },
  {
   "cell_type": "code",
   "execution_count": 4,
   "metadata": {},
   "outputs": [],
   "source": [
    "def det_lu(B):\n",
    "    A= B.copy()\n",
    "    L, U, p, det_sign= dlup(A)\n",
    "    det= np.prod(np.diag(U))*det_sign\n",
    "    return det"
   ]
  },
  {
   "cell_type": "code",
   "execution_count": null,
   "metadata": {},
   "outputs": [],
   "source": [
    "print(np.linalg.det(A1))\n",
    "print(det_lu(A1))\n"
   ]
  },
  {
   "cell_type": "code",
   "execution_count": null,
   "metadata": {},
   "outputs": [],
   "source": [
    "print(np.linalg.det(A2))\n",
    "print(det_lu(A2))"
   ]
  }
 ],
 "metadata": {
  "kernelspec": {
   "display_name": "Python 3.9.2 64-bit",
   "language": "python",
   "name": "python3"
  },
  "language_info": {
   "codemirror_mode": {
    "name": "ipython",
    "version": 3
   },
   "file_extension": ".py",
   "mimetype": "text/x-python",
   "name": "python",
   "nbconvert_exporter": "python",
   "pygments_lexer": "ipython3",
   "version": "3.11.5"
  },
  "orig_nbformat": 4,
  "vscode": {
   "interpreter": {
    "hash": "8846a69f2c50b9d72b98556550453b9650bfe7c2d38b105ef2df610ba22885fc"
   }
  }
 },
 "nbformat": 4,
 "nbformat_minor": 2
}
