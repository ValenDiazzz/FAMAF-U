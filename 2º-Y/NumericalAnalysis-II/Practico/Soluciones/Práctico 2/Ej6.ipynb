{
 "cells": [
  {
   "cell_type": "code",
   "execution_count": 1,
   "metadata": {},
   "outputs": [],
   "source": [
    "import numpy as np"
   ]
  },
  {
   "cell_type": "code",
   "execution_count": 2,
   "metadata": {},
   "outputs": [],
   "source": [
    "A1 = np.array([\n",
    "    [2, -1, 0],\n",
    "    [4, 1, 1],\n",
    "    [2, 5, 6],\n",
    "], dtype=\"float\")"
   ]
  },
  {
   "cell_type": "code",
   "execution_count": 3,
   "metadata": {},
   "outputs": [],
   "source": [
    "A4 = np.array([\n",
    "    [3,2,4],\n",
    "    [1,1,2],\n",
    "    [4,3,2]\n",
    "], dtype=\"float\")"
   ]
  },
  {
   "cell_type": "code",
   "execution_count": 4,
   "metadata": {},
   "outputs": [],
   "source": [
    "def dlu(B):\n",
    "    A=B.copy()\n",
    "    n=len(A[0])\n",
    "    for k in range(n-1):\n",
    "        A[k+1:n,k]=A[k+1:n,k]/A[k,k]\n",
    "        A[k+1:n,k+1:n]=A[k+1:n,k+1:n]- np.outer(A[k+1:n,k],A[k, k+1:n])\n",
    "    U=np.triu(A)\n",
    "    L=np.tril(A,-1)+ np.eye(n)\n",
    "    return (U,L)"
   ]
  },
  {
   "cell_type": "code",
   "execution_count": null,
   "metadata": {},
   "outputs": [],
   "source": [
    "print(dlu(A4)[1])\n",
    "print(dlu(A4)[0])\n",
    "#print(A4)"
   ]
  },
  {
   "cell_type": "code",
   "execution_count": null,
   "metadata": {},
   "outputs": [],
   "source": [
    "print(dlu(A1)[1]@dlu(A1)[0])\n",
    "print(A1)\n"
   ]
  }
 ],
 "metadata": {
  "kernelspec": {
   "display_name": "Python 3.9.2 64-bit",
   "language": "python",
   "name": "python3"
  },
  "language_info": {
   "codemirror_mode": {
    "name": "ipython",
    "version": 3
   },
   "file_extension": ".py",
   "mimetype": "text/x-python",
   "name": "python",
   "nbconvert_exporter": "python",
   "pygments_lexer": "ipython3",
   "version": "3.11.5"
  },
  "orig_nbformat": 4,
  "vscode": {
   "interpreter": {
    "hash": "8846a69f2c50b9d72b98556550453b9650bfe7c2d38b105ef2df610ba22885fc"
   }
  }
 },
 "nbformat": 4,
 "nbformat_minor": 2
}
