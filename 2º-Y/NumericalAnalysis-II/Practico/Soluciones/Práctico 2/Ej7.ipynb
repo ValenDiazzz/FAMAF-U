{
 "cells": [
  {
   "cell_type": "code",
   "execution_count": 1,
   "metadata": {},
   "outputs": [],
   "source": [
    "import numpy as np\n",
    "from numpy import random as rd\n"
   ]
  },
  {
   "cell_type": "code",
   "execution_count": 2,
   "metadata": {},
   "outputs": [],
   "source": [
    "#Crea una matriz tribanda de tamaño nxn con enteros aleatorios\n",
    "def tribanda(n):\n",
    "    x=rd.randint(1,9,size=(n)) #arrays random con enteros del 1 al 9\n",
    "    y=rd.randint(1,9,size=(n-1))\n",
    "    z=rd.randint(1,9,size=(n-1))\n",
    "    A= np.diag(x)\n",
    "    A= A + np.diag(y, -1) \n",
    "    A= A + np.diag(z, 1)\n",
    "    return A"
   ]
  },
  {
   "cell_type": "code",
   "execution_count": null,
   "metadata": {},
   "outputs": [],
   "source": [
    "A1=tribanda(6)\n",
    "J=np.zeros((6,6))\n",
    "J[5,0], J[0,5]=7,5 #Esto los elijo al azar\n",
    "A1=A1+J #Matriz del ejercicio\n",
    "print(A1, np.linalg.det(A1))"
   ]
  },
  {
   "cell_type": "code",
   "execution_count": 4,
   "metadata": {},
   "outputs": [],
   "source": [
    "def egauss(B, y):\n",
    "    A=B.copy()\n",
    "    b=y.copy()\n",
    "    n = len(b)\n",
    "    v=np.zeros(n)\n",
    "    \n",
    "    for k in range(n-1):\n",
    "        v[k+1:n] = A[k+1:n,k]/A[k,k] #I={k+1,...,n} J={k,...,n} \n",
    "        A[k+1:n,k:n] = A[k+1:n,k:n] - np.outer(v[k+1:n],A[k,k:n])\n",
    "        b[k+1:n]=b[k+1:n]- v[k+1:n]*b[k]\n",
    "        print(np.around(A,2))\n",
    "        print(\"\\n\")\n",
    "    return A,b"
   ]
  },
  {
   "cell_type": "code",
   "execution_count": null,
   "metadata": {},
   "outputs": [],
   "source": [
    "t,b2=egauss(A1,np.ones(6))\n"
   ]
  },
  {
   "attachments": {},
   "cell_type": "markdown",
   "metadata": {},
   "source": [
    "Con esto nos fijamos qué sucede en cada paso de la eliminacion gaussiana\n",
    "debajo de la diagonal. Notar que, por ejemplo, luego del primer paso \n",
    "el elemento de la ultima fila de la segunda columna deja de ser nulo.\n",
    "Luego en el segundo paso el elemento de la ultima fila y tercera columna deja\n",
    "de ser nulo... y asi sucesivamente.\n",
    "Por lo tanto en nuestro algoritmo buscaremos que en cada paso se haga nulo el \n",
    "elemento inmediatamente abajo de la diagonal, y el elemento de la última fila.\n",
    "Por último notar que por encima de la diagonal, los únicos elementos que se \n",
    "modifican están en la última columna."
   ]
  },
  {
   "cell_type": "code",
   "execution_count": null,
   "metadata": {},
   "outputs": [],
   "source": [
    "\n",
    "print(b2) #vector modificado por gauss "
   ]
  },
  {
   "cell_type": "code",
   "execution_count": 7,
   "metadata": {},
   "outputs": [],
   "source": [
    "\"\"\"\n",
    "Por lo analizado arriba, no haremos un vector para anular\n",
    "toda la columna, pues solo necesitaremos anular solo 2 elementos \n",
    "por columna. Por lo tanto trabajaremos directamente con los\n",
    "2 multiplicadores que necesitamos para anular dichos 2 elementos.\n",
    "\"\"\"\n",
    "def ej7(M,y):\n",
    "    A=M.copy()\n",
    "    b=y.copy()\n",
    "    n=A.shape[0]\n",
    "    for k in range(n-1):\n",
    "        m=A[k+1,k]/A[k,k] #multiplicador para anular el elemento debajo de la diagonal\n",
    "        A[k+1,k]= 0 #No realizamos la operacion porq ya sabemos cuanto da\n",
    "        A[k+1,k+1]=A[k+1,k+1]-(m*A[k,k+1])\n",
    "        if k!=n-2: #Notar que para k=n-2, esta asignacion se hace también más abajo\n",
    "            A[k+1,n-1]=A[k+1,n-1]-(m*A[k,n-1])\n",
    "        b[k+1]=b[k+1]-(m*b[k])\n",
    "\n",
    "        m=A[n-1,k]/A[k,k] #multiplicador para anular el elemento de la ultima fila\n",
    "        A[n-1,k]=0\n",
    "        A[n-1,k+1]=A[n-1,k+1]-(m*A[k,k+1]) #Modificamos un elemento de la ultima columna\n",
    "        A[n-1,n-1]=A[n-1,n-1]-(m*A[k,n-1])\n",
    "        b[n-1]=b[n-1]-(m*b[k])\n",
    "    \n",
    "    return A,b"
   ]
  },
  {
   "cell_type": "code",
   "execution_count": null,
   "metadata": {},
   "outputs": [],
   "source": [
    "#Chequeo que las eliminaciones de el algoritmo simplificado \n",
    "# sean las mismas que con el algoritmo completo\n",
    "M,b=ej7(A1,np.ones(6))\n",
    "print(np.around(M,2),b)"
   ]
  }
 ],
 "metadata": {
  "kernelspec": {
   "display_name": "Python 3",
   "language": "python",
   "name": "python3"
  },
  "language_info": {
   "codemirror_mode": {
    "name": "ipython",
    "version": 3
   },
   "file_extension": ".py",
   "mimetype": "text/x-python",
   "name": "python",
   "nbconvert_exporter": "python",
   "pygments_lexer": "ipython3",
   "version": "3.11.5"
  },
  "orig_nbformat": 4,
  "vscode": {
   "interpreter": {
    "hash": "8846a69f2c50b9d72b98556550453b9650bfe7c2d38b105ef2df610ba22885fc"
   }
  }
 },
 "nbformat": 4,
 "nbformat_minor": 2
}
