{
 "cells": [
  {
   "cell_type": "code",
   "execution_count": 1,
   "metadata": {},
   "outputs": [],
   "source": [
    "import numpy as np\n",
    "import matplotlib.pyplot as plt\n",
    "import math"
   ]
  },
  {
   "cell_type": "code",
   "execution_count": 2,
   "metadata": {},
   "outputs": [],
   "source": [
    "def matriz_a():\n",
    "    dets=[]\n",
    "    conds=[]\n",
    "\n",
    "    for j in range(1,100):\n",
    "        eps = 1/(j*j)\n",
    "\n",
    "        A=np.array([\n",
    "            [1, 1-eps],\n",
    "            [0, 1]\n",
    "        ], dtype=float)\n",
    "\n",
    "        det = A[0, 0]*A[1, 1]-A[1, 0]*A[0, 1]\n",
    "        cond = np.linalg.cond(A, 2) #Segundo parametro es la norma\n",
    "        dets.append(det)\n",
    "        conds.append(cond)\n",
    "    #Grafico\n",
    "    fig, ax= plt.subplots()\n",
    "    plt.plot(dets,color=\"black\", label=\"Determinante\")\n",
    "    plt.plot(conds,color=\"yellow\", label=\"Número de Condicion\")\n",
    "    plt.legend()\n",
    "    plt.show()"
   ]
  },
  {
   "cell_type": "code",
   "execution_count": 3,
   "metadata": {},
   "outputs": [],
   "source": [
    "def matriz_b():\n",
    "    dets=[]\n",
    "    conds=[]\n",
    "\n",
    "    for j in range(1,100):\n",
    "        eps = 1/(j*j)\n",
    "\n",
    "        A=np.array([\n",
    "            [1/eps, 0],\n",
    "            [0, eps]\n",
    "        ], dtype=float)\n",
    "\n",
    "        det = A[0, 0]*A[1, 1]-A[1, 0]*A[0, 1]\n",
    "        cond = np.linalg.cond(A, 2) #Segundo parametro es la norma\n",
    "        dets.append(det)\n",
    "        conds.append(cond)\n",
    "    #Grafico\n",
    "    fig, ax= plt.subplots()\n",
    "    plt.plot(dets,color=\"black\", label=\"Determinante\")\n",
    "    plt.plot(conds,color=\"red\", label=\"Número de Condicion\")\n",
    "    plt.legend()\n",
    "    plt.show()"
   ]
  },
  {
   "cell_type": "code",
   "execution_count": null,
   "metadata": {},
   "outputs": [],
   "source": [
    "matriz_a()\n",
    "matriz_b()"
   ]
  },
  {
   "cell_type": "code",
   "execution_count": 5,
   "metadata": {},
   "outputs": [],
   "source": [
    "def ej_c(eps):\n",
    "    angle=np.linspace(0, 2*math.pi,300) \n",
    "    fig, ax= plt.subplots()\n",
    "    x=np.sin(angle)\n",
    "    y=np.cos(angle)\n",
    "    plt.plot(x,y,color=\"blue\", label=\"Esfera Unidad (EU)\")\n",
    "    plt.plot(x+(1-eps)*y,y,color=\"orange\", label=\"EU deformada por Aa\")\n",
    "    plt.plot(x/eps, y,color=\"green\", label=\"EU deformada por Ab\")\n",
    "    plt.axis(\"equal\")\n",
    "    plt.legend()\n",
    "    plt.show()"
   ]
  },
  {
   "cell_type": "code",
   "execution_count": null,
   "metadata": {},
   "outputs": [],
   "source": [
    "for eps in [0.25, 0.125, 0.0625, 1e-5]:\n",
    "    ej_c(eps)   "
   ]
  }
 ],
 "metadata": {
  "kernelspec": {
   "display_name": "Python 3.9.2 64-bit",
   "language": "python",
   "name": "python3"
  },
  "language_info": {
   "codemirror_mode": {
    "name": "ipython",
    "version": 3
   },
   "file_extension": ".py",
   "mimetype": "text/x-python",
   "name": "python",
   "nbconvert_exporter": "python",
   "pygments_lexer": "ipython3",
   "version": "3.11.5"
  },
  "orig_nbformat": 4,
  "vscode": {
   "interpreter": {
    "hash": "8846a69f2c50b9d72b98556550453b9650bfe7c2d38b105ef2df610ba22885fc"
   }
  }
 },
 "nbformat": 4,
 "nbformat_minor": 2
}
