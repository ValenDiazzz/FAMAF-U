{
 "cells": [
  {
   "cell_type": "code",
   "execution_count": 1,
   "metadata": {},
   "outputs": [],
   "source": [
    "import numpy as np\n",
    "from ipynb.fs.full.Ej7 import sol_cuadmin"
   ]
  },
  {
   "cell_type": "code",
   "execution_count": 2,
   "metadata": {},
   "outputs": [],
   "source": [
    "def dlup(M):\n",
    "    A=M.copy()\n",
    "    n=A.shape[0]\n",
    "    p=np.arange(n) #[0, 1, 2, ..., n], dice que filas quedaron cambiadas.\n",
    "    for k in range(n-1):\n",
    "        kmax=np.argmax(np.abs(A[k:n,k]))+k \n",
    "        if kmax!=k:\n",
    "            p[[k,kmax]]=p[[kmax,k]]\n",
    "            A[[k,kmax],:]=A[[kmax,k],:]\n",
    "        A[k+1:n,k]=A[k+1:n,k]/A[k,k]\n",
    "        A[k+1:n,k+1:n]=A[k+1:n,k+1:n]-np.outer(A[k+1:n,k],A[k,k+1:n])\n",
    "    U=np.triu(A)\n",
    "    L=np.tril(A,-1)+np.eye(n)\n",
    "    return (L,U,p)\n",
    "\n",
    "def sol_trincol(A, b):\n",
    "    assert np.prod(np.diag(A)) != 0,\"Error: la matriz es singular\"\n",
    "    n = len(b)\n",
    "    x = b.copy()\n",
    "\n",
    "    if n==1:\n",
    "        x[0]=x[0]/A[0, 0]\n",
    "    else:\n",
    "        k=0\n",
    "        while x[k]==0 and k<n-1: #Si b_i = 0 => x_i = 0\n",
    "            k+=1\n",
    "        for i in range(k,n): #Ya calculé los x hasta k\n",
    "            x[i] = x[i]/A[i,i] \n",
    "            x[i+1:n] = (x[i+1:n] - A[i+1:n,i]*x[i])\n",
    "    return x \n",
    "\n",
    "def sol_trsupfil(A, b):    \n",
    "    assert np.prod(np.diag(A)) != 0,\"Error: la matriz es singular\"\n",
    "    n = len(b)-1\n",
    "    x = b.copy() \n",
    "    k=n\n",
    "    while x[k]==0 and k>0: #Si b_i = 0 => x_i = 0\n",
    "        k-=1\n",
    "\n",
    "    for i in reversed(range(0,k+1)): #Ya calculé los x desde k hasta n.\n",
    "        x[i] = (x[i]-(A[i,i+1:n+1]@x[i+1:n+1])) / A[i,i]\n",
    "    return x"
   ]
  },
  {
   "cell_type": "code",
   "execution_count": 3,
   "metadata": {},
   "outputs": [],
   "source": [
    "def mtrx(x):\n",
    "    A=np.array([\n",
    "        [1,1],\n",
    "        [x, 0],\n",
    "        [0, x]\n",
    "    ],dtype=float)\n",
    "    return A\n",
    "\n",
    "b = np.array([1,1,1], dtype=float)"
   ]
  },
  {
   "cell_type": "code",
   "execution_count": 4,
   "metadata": {},
   "outputs": [],
   "source": [
    "def sol_sis1(x, b):\n",
    "    A = mtrx(x)\n",
    "    b = A.T@b\n",
    "    A = A.T@A\n",
    "    L,U = dlup(A)[0], dlup(A)[1]\n",
    "    y = sol_trincol(L,b)\n",
    "    x = sol_trsupfil(U,y)\n",
    "    return x"
   ]
  },
  {
   "cell_type": "code",
   "execution_count": 5,
   "metadata": {},
   "outputs": [],
   "source": [
    "def sol_sis2(x, b):\n",
    "    A= mtrx(x)\n",
    "    x = sol_cuadmin(A, b)[0]\n",
    "    return x"
   ]
  },
  {
   "cell_type": "code",
   "execution_count": null,
   "metadata": {},
   "outputs": [],
   "source": [
    "for j in range(1,20):\n",
    "    print(sol_sis1(1/(2**j),b))"
   ]
  },
  {
   "cell_type": "code",
   "execution_count": null,
   "metadata": {},
   "outputs": [],
   "source": [
    "for j in range(1,20):\n",
    "    print(sol_sis2(1/(2**j),b))"
   ]
  }
 ],
 "metadata": {
  "kernelspec": {
   "display_name": "Python 3.9.2 64-bit",
   "language": "python",
   "name": "python3"
  },
  "language_info": {
   "codemirror_mode": {
    "name": "ipython",
    "version": 3
   },
   "file_extension": ".py",
   "mimetype": "text/x-python",
   "name": "python",
   "nbconvert_exporter": "python",
   "pygments_lexer": "ipython3",
   "version": "3.11.5"
  },
  "orig_nbformat": 4,
  "vscode": {
   "interpreter": {
    "hash": "8846a69f2c50b9d72b98556550453b9650bfe7c2d38b105ef2df610ba22885fc"
   }
  }
 },
 "nbformat": 4,
 "nbformat_minor": 2
}
