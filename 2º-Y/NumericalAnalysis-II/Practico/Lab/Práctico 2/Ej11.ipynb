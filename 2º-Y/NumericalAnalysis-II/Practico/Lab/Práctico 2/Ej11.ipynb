{
 "cells": [
  {
   "cell_type": "code",
   "execution_count": 1,
   "metadata": {},
   "outputs": [],
   "source": [
    "import numpy as np\n",
    "from ipynb.fs.full.Ej9 import dlup\n"
   ]
  },
  {
   "cell_type": "code",
   "execution_count": 2,
   "metadata": {},
   "outputs": [],
   "source": [
    "A1 = np.array([\n",
    "    [1, 2, 0],\n",
    "    [0, 1, 0],\n",
    "    [0, 0, 1]\n",
    "], dtype=float)"
   ]
  },
  {
   "cell_type": "code",
   "execution_count": 3,
   "metadata": {},
   "outputs": [],
   "source": [
    "A2 = np.array([\n",
    "    [2, 10, 8, 8, 6], \n",
    "    [1, 4, -2, 4, -1],\n",
    "    [0, 2, 3, 2, 1],\n",
    "    [3, 8, 3, 10, 9],\n",
    "    [1, 4, 1, 2, 1]\n",
    "], dtype=\"float\")"
   ]
  },
  {
   "cell_type": "code",
   "execution_count": null,
   "metadata": {},
   "outputs": [],
   "source": [
    "print(np.linalg.inv(A2))"
   ]
  },
  {
   "cell_type": "code",
   "execution_count": 5,
   "metadata": {},
   "outputs": [],
   "source": [
    "#Resuelve sistemas triangulares superiores\n",
    "def sol_trsupfil(A, b):    \n",
    "    assert np.prod(np.diag(A)) != 0,\"Error: la matriz es singular\"\n",
    "    n = len(b)-1\n",
    "    x = b.copy() \n",
    "    k=n\n",
    "    while x[k]==0 and k>0: #Si b_i = 0 => x_i = 0\n",
    "        k-=1\n",
    "\n",
    "    for i in reversed(range(0,k+1)): #Ya calculé los x desde k hasta n.\n",
    "        x[i] = (x[i]-(A[i,i+1:n+1]@x[i+1:n+1])) / A[i,i]\n",
    "    return x\n",
    "#Resuelve sistemas triangulares inferiores\n",
    "def sol_trinffil(A, b):    \n",
    "    assert np.prod(np.diag(A)) != 0,\"Error: la matriz es singular\"\n",
    "    \n",
    "    n = len(b)\n",
    "    x = b.copy()\n",
    "\n",
    "    if n==1:\n",
    "        x[0]=x[0]/A[0, 0]\n",
    "    else:\n",
    "        k=0\n",
    "        while x[k]==0 and k<n-1: #Si b_i = 0 => x_i = 0\n",
    "            k+=1\n",
    "    \n",
    "        for i in range(k,n): #Ya calculé los x hasta k\n",
    "            x[i] = (x[i]-A[i,0:i]@x[0:i]) / A[i,i]\n",
    "    \n",
    "    return x"
   ]
  },
  {
   "attachments": {},
   "cell_type": "markdown",
   "metadata": {},
   "source": [
    "A(A^-1)=I\n",
    "\n",
    "LU(A^-1)=I\n",
    "\n",
    "LU.x_i=e_i\n",
    "\n",
    "\n",
    "{U.x_i = y\n",
    " \n",
    "{L.y = e_i"
   ]
  },
  {
   "cell_type": "code",
   "execution_count": 6,
   "metadata": {},
   "outputs": [],
   "source": [
    "def inv_lu(B):\n",
    "    n= len(B)\n",
    "    I= np.eye(n) #De acá saco los vectores canónicos\n",
    "    A= B.copy()\n",
    "    X= np.zeros((n,n), dtype=float) \n",
    "    L, U, p, b= dlup(A, np.zeros(n))           \n",
    "    \n",
    "    for j in range(n): #L.U = Â, En este ciclo encuentro la inversa de Â\n",
    "        X[:,j] = sol_trinffil(L, I[:,j]) #Almaceno las soluciones de los sist tri inf en las columnas de X\n",
    "        X[:,j]= sol_trsupfil(U, X[:,j]) #Reescribo la columna con las soluciones que en realidad busco \n",
    "    for j in range(n): #Intercambio las columnas de la inv de Â, para obtenes la inv de A.\n",
    "        X[:,[p[j], j]] = X[:, [j, p[j]]]\n",
    "        p[[p[j], j]]=p[[j, p[j]]]\n",
    "    return X"
   ]
  },
  {
   "cell_type": "code",
   "execution_count": null,
   "metadata": {},
   "outputs": [],
   "source": [
    "print(np.linalg.inv(A2))"
   ]
  },
  {
   "cell_type": "code",
   "execution_count": null,
   "metadata": {},
   "outputs": [],
   "source": [
    "print(inv_lu(A2))"
   ]
  },
  {
   "cell_type": "code",
   "execution_count": null,
   "metadata": {},
   "outputs": [],
   "source": [
    "np.allclose(np.linalg.inv(A2), inv_lu(A2))\n"
   ]
  }
 ],
 "metadata": {
  "kernelspec": {
   "display_name": "Python 3.9.2 64-bit",
   "language": "python",
   "name": "python3"
  },
  "language_info": {
   "codemirror_mode": {
    "name": "ipython",
    "version": 3
   },
   "file_extension": ".py",
   "mimetype": "text/x-python",
   "name": "python",
   "nbconvert_exporter": "python",
   "pygments_lexer": "ipython3",
   "version": "3.11.5"
  },
  "orig_nbformat": 4,
  "vscode": {
   "interpreter": {
    "hash": "8846a69f2c50b9d72b98556550453b9650bfe7c2d38b105ef2df610ba22885fc"
   }
  }
 },
 "nbformat": 4,
 "nbformat_minor": 2
}
