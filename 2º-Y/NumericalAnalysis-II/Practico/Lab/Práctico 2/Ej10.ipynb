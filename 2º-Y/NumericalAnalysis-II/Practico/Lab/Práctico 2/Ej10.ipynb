{
 "cells": [
  {
   "cell_type": "code",
   "execution_count": 1,
   "metadata": {},
   "outputs": [],
   "source": [
    "import numpy as np\n",
    "from ipynb.fs.full.Ej9 import egaussp, dlup\n"
   ]
  },
  {
   "cell_type": "code",
   "execution_count": 2,
   "metadata": {},
   "outputs": [],
   "source": [
    "A1 = np.array([\n",
    "    [2, 10, 8, 8, 6], \n",
    "    [1, 4, -2, 4, -1],\n",
    "    [0, 2, 3, 2, 1],\n",
    "    [3, 8, 3, 10, 9],\n",
    "    [1, 4, 1, 2, 1]\n",
    "], dtype=\"float\")\n",
    "b1 = np.array([52, 14, 12, 51, 15], dtype=\"float\")\n",
    "b2 = np.array([50, 4, 12, 48, 12], dtype=\"float\")"
   ]
  },
  {
   "cell_type": "code",
   "execution_count": 3,
   "metadata": {},
   "outputs": [],
   "source": [
    "#Esta funcion resolvia sistemas triangulares superiores\n",
    "def sol_trsupfil(A, b):    \n",
    "    assert np.prod(np.diag(A)) != 0,\"Error: la matriz es singular\"\n",
    "    n = len(b)-1\n",
    "    x = b.copy() \n",
    "    k=n\n",
    "    while x[k]==0 and k>0: #Si b_i = 0 => x_i = 0\n",
    "        k-=1\n",
    "\n",
    "    for i in reversed(range(0,k+1)): #Ya calculé los x desde k hasta n.\n",
    "        x[i] = (x[i]-(A[i,i+1:n+1]@x[i+1:n+1])) / A[i,i]\n",
    "    return x"
   ]
  },
  {
   "cell_type": "code",
   "execution_count": 4,
   "metadata": {},
   "outputs": [],
   "source": [
    "def sol_egauss(B, y):\n",
    "    C=B.copy()\n",
    "    c = y.copy()\n",
    "    A, b, p= egaussp(C, c)\n",
    "    x = sol_trsupfil(A, b)\n",
    "    return x\n",
    "#Recordar que resolver Ax=b es lo mismo que Âx=b^ donde (^) significa con filas permutadas\n"
   ]
  },
  {
   "cell_type": "code",
   "execution_count": null,
   "metadata": {},
   "outputs": [],
   "source": [
    "print(sol_egauss(A1, b1))\n",
    "print(sol_egauss(A1, b2))"
   ]
  },
  {
   "cell_type": "code",
   "execution_count": 6,
   "metadata": {},
   "outputs": [],
   "source": [
    "def sol_trincol(A, b):\n",
    "    assert np.prod(np.diag(A)) != 0,\"Error: la matriz es singular\"\n",
    "    n = len(b)\n",
    "    x = b.copy()\n",
    "\n",
    "    if n==1:\n",
    "        x[0]=x[0]/A[0, 0]\n",
    "    else:\n",
    "        k=0\n",
    "        while x[k]==0 and k<n-1: #Si b_i = 0 => x_i = 0\n",
    "            k+=1\n",
    "        for i in range(k,n): #Ya calculé los x hasta k\n",
    "            x[i] = x[i]/A[i,i] \n",
    "            x[i+1:n] = (x[i+1:n] - A[i+1:n,i]*x[i])\n",
    "    return x"
   ]
  },
  {
   "cell_type": "code",
   "execution_count": 7,
   "metadata": {},
   "outputs": [],
   "source": [
    "def sol_dlup(B,y):\n",
    "    C=B.copy()\n",
    "    c = y.copy()\n",
    "    L=dlup(C,c)[0]\n",
    "    U=dlup(C,c)[1]\n",
    "    b=dlup(C,c)[3]\n",
    "    y=sol_trincol(L, b)\n",
    "    x=sol_trsupfil(U, y)\n",
    "    return x\n",
    "    "
   ]
  },
  {
   "cell_type": "code",
   "execution_count": null,
   "metadata": {},
   "outputs": [],
   "source": [
    "print(sol_dlup(A1, b1))\n",
    "print(sol_dlup(A1, b2))"
   ]
  }
 ],
 "metadata": {
  "kernelspec": {
   "display_name": "Python 3.9.2 64-bit",
   "language": "python",
   "name": "python3"
  },
  "language_info": {
   "codemirror_mode": {
    "name": "ipython",
    "version": 3
   },
   "file_extension": ".py",
   "mimetype": "text/x-python",
   "name": "python",
   "nbconvert_exporter": "python",
   "pygments_lexer": "ipython3",
   "version": "3.11.5"
  },
  "orig_nbformat": 4,
  "vscode": {
   "interpreter": {
    "hash": "8846a69f2c50b9d72b98556550453b9650bfe7c2d38b105ef2df610ba22885fc"
   }
  }
 },
 "nbformat": 4,
 "nbformat_minor": 2
}
