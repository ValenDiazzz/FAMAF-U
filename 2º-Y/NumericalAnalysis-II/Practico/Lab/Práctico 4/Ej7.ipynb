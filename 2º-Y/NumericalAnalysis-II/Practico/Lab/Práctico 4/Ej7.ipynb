{
 "cells": [
  {
   "cell_type": "code",
   "execution_count": 1,
   "metadata": {},
   "outputs": [],
   "source": [
    "import numpy as np\n",
    "from ipynb.fs.full.Ej3HH import qrhholder"
   ]
  },
  {
   "cell_type": "code",
   "execution_count": 2,
   "metadata": {},
   "outputs": [],
   "source": [
    "def sol_trsupfil(A, b):    \n",
    "    assert np.prod(np.diag(A)) != 0,\"Error: la matriz es singular\"\n",
    "    n = len(b)-1\n",
    "    x = b.copy() \n",
    "    k=n\n",
    "    while x[k]==0 and k>0: #Si b_i = 0 => x_i = 0\n",
    "        k-=1\n",
    "\n",
    "    for i in reversed(range(0,k+1)): #Ya calculé los x desde k hasta n.\n",
    "        x[i] = (x[i]-(A[i,i+1:n+1]@x[i+1:n+1])) / A[i,i]\n",
    "    return x"
   ]
  },
  {
   "cell_type": "code",
   "execution_count": 3,
   "metadata": {},
   "outputs": [],
   "source": [
    "def sol_cuadmin(A, b):\n",
    "    m, n = A.shape\n",
    "\n",
    "    #Asumimos que A tiene rango completo\n",
    "    p = np.min([m,n])\n",
    "    y_sol = np.zeros(n)\n",
    "    Q, R = qrhholder(A) #Luego cambiarlo por householder\n",
    "    q = Q.T @ b\n",
    "    y_sol[:p] = sol_trsupfil(R[:p,:p], q[:p]) #Resolvemos el sistema pxp, el resto de las soluciones asumimos 0.\n",
    "\n",
    "    residuo = np.linalg.norm(q[p:])\n",
    "\n",
    "    return y_sol, residuo"
   ]
  }
 ],
 "metadata": {
  "kernelspec": {
   "display_name": "Python 3.9.2 64-bit",
   "language": "python",
   "name": "python3"
  },
  "language_info": {
   "codemirror_mode": {
    "name": "ipython",
    "version": 3
   },
   "file_extension": ".py",
   "mimetype": "text/x-python",
   "name": "python",
   "nbconvert_exporter": "python",
   "pygments_lexer": "ipython3",
   "version": "3.11.5"
  },
  "orig_nbformat": 4,
  "vscode": {
   "interpreter": {
    "hash": "8846a69f2c50b9d72b98556550453b9650bfe7c2d38b105ef2df610ba22885fc"
   }
  }
 },
 "nbformat": 4,
 "nbformat_minor": 2
}
