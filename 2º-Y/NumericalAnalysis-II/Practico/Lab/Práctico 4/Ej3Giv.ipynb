{
 "cells": [
  {
   "cell_type": "code",
   "execution_count": 1,
   "metadata": {},
   "outputs": [],
   "source": [
    "import numpy as np"
   ]
  },
  {
   "cell_type": "code",
   "execution_count": 2,
   "metadata": {},
   "outputs": [],
   "source": [
    "#G de givens para la submatriz 2x2\n",
    "def givens(a, b):\n",
    "    c = a / np.sqrt(a**2 + b**2)\n",
    "    s = b / np.sqrt(a**2 + b**2)\n",
    "    return c, s\n",
    "\n",
    "def qrgivens(A):\n",
    "    m, n = A.shape\n",
    "    Q = np.eye(m)\n",
    "    R = A.copy()\n",
    "    rango = min(m-1, n)\n",
    "\n",
    "    for j in range(rango): #columnas\n",
    "        for i in range(j+1, m): #filas\n",
    "            # calculo givens\n",
    "            c, s = givens(R[j, j], R[i, j])\n",
    "            G = np.array([\n",
    "                [c, s],\n",
    "                [-s, c]\n",
    "            ])\n",
    "\n",
    "            R[[j, i], j:] = G @ R[[j, i], j:] #Actualizo las filas de A\n",
    "            Q[:, [j, i]] = Q[:, [j, i]] @ G.T #Actualizo las filas de Q\n",
    "            \n",
    "    return Q, R"
   ]
  },
  {
   "cell_type": "code",
   "execution_count": null,
   "metadata": {},
   "outputs": [],
   "source": [
    "A1=np.array([\n",
    "    [2,3],\n",
    "    [5,7]\n",
    "], dtype=float)\n",
    "\n",
    "A2=np.array([\n",
    "        [1,1],\n",
    "        [1,0],\n",
    "        [0,1]\n",
    "    ],dtype=float)\n",
    "\n",
    "Q,R=qrgivens(A2)\n",
    "print(Q@R)"
   ]
  }
 ],
 "metadata": {
  "kernelspec": {
   "display_name": "Python 3.9.2 64-bit",
   "language": "python",
   "name": "python3"
  },
  "language_info": {
   "codemirror_mode": {
    "name": "ipython",
    "version": 3
   },
   "file_extension": ".py",
   "mimetype": "text/x-python",
   "name": "python",
   "nbconvert_exporter": "python",
   "pygments_lexer": "ipython3",
   "version": "3.11.5"
  },
  "orig_nbformat": 4,
  "vscode": {
   "interpreter": {
    "hash": "8846a69f2c50b9d72b98556550453b9650bfe7c2d38b105ef2df610ba22885fc"
   }
  }
 },
 "nbformat": 4,
 "nbformat_minor": 2
}
