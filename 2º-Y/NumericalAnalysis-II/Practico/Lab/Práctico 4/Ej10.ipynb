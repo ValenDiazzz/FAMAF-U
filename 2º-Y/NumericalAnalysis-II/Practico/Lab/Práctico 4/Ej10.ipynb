{
 "cells": [
  {
   "cell_type": "code",
   "execution_count": 2,
   "metadata": {},
   "outputs": [],
   "source": [
    "import numpy as np\n",
    "from ipynb.fs.full.Ej7 import sol_cuadmin\n",
    "import matplotlib.pyplot as plt\n",
    "from scipy.optimize import linprog"
   ]
  },
  {
   "cell_type": "code",
   "execution_count": null,
   "metadata": {},
   "outputs": [],
   "source": [
    "x=np.arange(1, 11, dtype=float)\n",
    "y=np.arange(1, 11, dtype=float)\n",
    "y[-1]=0\n",
    "print(x.shape)"
   ]
  },
  {
   "cell_type": "code",
   "execution_count": 4,
   "metadata": {},
   "outputs": [],
   "source": [
    "def sol_a(x, y):\n",
    "    #Defino el sistema. A = (x,1) es una matriz, a.T = (a1, a0) es un vector. Se resuelve A.a=y\n",
    "    #A es 10x2, su primera columna es el vector x y su segunda columna son todos 1\n",
    "    #a es 2x1, a1 es la pendiente y a0 es la ordenada al origen\n",
    "    n= x.shape[0]\n",
    "    A= np.ones((n,2))\n",
    "    A[:, 0]= x\n",
    "    b= y.copy()\n",
    "    pendiente, ord_orig= sol_cuadmin(A, b)[0]  #=np.polyfit(x,y)\n",
    "    return (pendiente, ord_orig)"
   ]
  },
  {
   "cell_type": "code",
   "execution_count": 5,
   "metadata": {},
   "outputs": [],
   "source": [
    "\"\"\"\n",
    "Hay que minimizar (c.T)y, sujeto a:\n",
    "\n",
    "[A, -I] [x]  [b]\n",
    "[A, -I] [y]<=[-b]\n",
    "donde x:n, y:m, A:mx2, b:m, c.T=[1,...1]:m pero en \n",
    "este caso lo haremos c.T=[0,0,1,...,1]:m+2\n",
    "donde las primeras dos coordenadas van a \n",
    "representar a la pendiente y ordenada al origen\n",
    "\"\"\"\n",
    "\n",
    "def sol_b(x,y):\n",
    "    #Creo el sistema\n",
    "    #matriz\n",
    "    m, n= y.shape[0], 2  #El 2 viene de la cantidad de columnas de la martriz A de la funcion anterior\n",
    "    A=np.zeros((2*m, n+m), dtype=float)    \n",
    "    A[:m, 0], A[:m, 1]= x, np.ones(m)\n",
    "    A[m:, 0], A[m:, 1] = -x, -np.ones(m)\n",
    "    A[:m,n:]=-np.eye(m)\n",
    "    A[m:,n:]=-np.eye(m)\n",
    "    #vector de costo y vector b´\n",
    "    c=np.ones(m+2)\n",
    "    c[:2]=0\n",
    "    b=np.zeros(2*m)\n",
    "    b[:m], b[m:]= y, -y\n",
    "    #Reselvo\n",
    "    sol=linprog(c, A, b).x #el .x te devuelve la solución\n",
    "    pendiente, ord_orig= sol[0], sol[1]\n",
    "    return pendiente, ord_orig"
   ]
  },
  {
   "cell_type": "code",
   "execution_count": 6,
   "metadata": {},
   "outputs": [],
   "source": [
    "\"\"\"\n",
    "Hay que minimizar c.T, sujeto a:\n",
    "\n",
    "[A, -e] [x]  [b]\n",
    "[A, -e] [t]<=[-b]\n",
    "donde x:n, t:1, A:mx3, b:m, c.T=[0,0,t]:3\n",
    "donde las primeras dos coordenadas van a \n",
    "representar a la pendiente y ordenada al origen\n",
    "\"\"\"\n",
    "def sol_c(x, y):\n",
    "    #Creo el sistema\n",
    "    #matriz\n",
    "    m, n= x.shape[0], 2  #El 2 viene de la cantidad de columnas de la martriz A de la funcion anterior\n",
    "    A=np.zeros((2*m, 2+1), dtype=float)    \n",
    "    A[:m, 0], A[:m, 1]= x, np.ones(m)\n",
    "    A[m:, 0], A[m:, 1] = -x, -np.ones(m)\n",
    "    A[:m,-1]=-np.ones(m)\n",
    "    A[m:,-1]=-np.ones(m)\n",
    "    #vector de costo y vector b\n",
    "    c=np.array([0, 0, 1], dtype=float)\n",
    "    b=np.zeros(2*m)\n",
    "    b[:m], b[m:]= y, -y\n",
    "    #Reselvo\n",
    "    sol=linprog(c, A, b).x #el .x te devuelve la solución\n",
    "    pendiente, ord_orig= sol[0], sol[1]\n",
    "    return pendiente, ord_orig\n"
   ]
  },
  {
   "cell_type": "code",
   "execution_count": 7,
   "metadata": {},
   "outputs": [],
   "source": [
    "def grafico(): #mejor usar polyval\n",
    "    a1, b1= sol_a(x,y)\n",
    "    a2, b2= sol_b(x,y)\n",
    "    a3, b3= sol_c(x,y)\n",
    "\n",
    "    x1 = np.linspace(-1, 11, 200)\n",
    "\n",
    "    fig, ax= plt.subplots()\n",
    "    plt.plot(x, y,\"o\",color=\"black\", label=\"puntos\")\n",
    "    plt.plot(x1, a1*x1 + b1,color=\"orange\", label=\"norma2\")\n",
    "    plt.plot(x1, a2*x1 + b2,color=\"green\", label=\"norma1\")\n",
    "    plt.plot(x1, a3*x1 + b3,color=\"blue\", label=\"normainf\")\n",
    "    \n",
    "    ax.set_xlabel(\"Eje X\")\n",
    "    ax.set_ylabel(\"Eje Y\")\n",
    "    ax.legend()\n",
    "    plt.show()"
   ]
  },
  {
   "cell_type": "code",
   "execution_count": null,
   "metadata": {},
   "outputs": [],
   "source": [
    "grafico()"
   ]
  }
 ],
 "metadata": {
  "kernelspec": {
   "display_name": "Python 3.9.2 64-bit",
   "language": "python",
   "name": "python3"
  },
  "language_info": {
   "codemirror_mode": {
    "name": "ipython",
    "version": 3
   },
   "file_extension": ".py",
   "mimetype": "text/x-python",
   "name": "python",
   "nbconvert_exporter": "python",
   "pygments_lexer": "ipython3",
   "version": "3.11.5"
  },
  "orig_nbformat": 4,
  "vscode": {
   "interpreter": {
    "hash": "8846a69f2c50b9d72b98556550453b9650bfe7c2d38b105ef2df610ba22885fc"
   }
  }
 },
 "nbformat": 4,
 "nbformat_minor": 2
}
