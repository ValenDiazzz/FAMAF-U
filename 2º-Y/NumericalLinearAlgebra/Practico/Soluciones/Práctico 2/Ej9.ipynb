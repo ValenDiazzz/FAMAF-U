{
 "cells": [
  {
   "cell_type": "code",
   "execution_count": 1,
   "metadata": {},
   "outputs": [],
   "source": [
    "import numpy as np"
   ]
  },
  {
   "cell_type": "code",
   "execution_count": 2,
   "metadata": {},
   "outputs": [],
   "source": [
    "q = np.array([1, 2, 1], dtype=\"float\")\n",
    "A1 = np.array([\n",
    "    [0,1,0],\n",
    "    [1,0,0],\n",
    "    [0,0,1]\n",
    "], dtype=\"float\")\n",
    "A2 = np.array([\n",
    "    [1, -1, 1],\n",
    "    [2, -1, 5],\n",
    "    [1, 0, 6]\n",
    "], dtype=\"float\")\n",
    "A3=np.array([\n",
    "    [2, 10, 8, 8, 6],\n",
    "    [1, 4, -2, 4, -1],\n",
    "    [0, 2, 3, 2, 1],\n",
    "    [3, 8, 3, 10, 9],\n",
    "    [1, 4, 1, 2, 1],\n",
    "], dtype=\"float\")\n"
   ]
  },
  {
   "cell_type": "code",
   "execution_count": 3,
   "metadata": {},
   "outputs": [],
   "source": [
    "def egaussp(M,y):\n",
    "    A=M.copy()\n",
    "    b=y.copy()\n",
    "    n=A.shape[0]\n",
    "    v=np.zeros(n)\n",
    "    p=np.arange(n) #[0, 1, 2, ..., n]\n",
    "    for k in range(n-1):\n",
    "        #argmax me da el indice del mayor valor de la columna\n",
    "        #abs me devuelve el vector con sus elementos en positivo\n",
    "        #Le sumamos k, porq el vector que le damos a argmax no es toda la columna, es el vector debajo de la diagonal.\n",
    "        kmax=np.argmax(np.abs(A[k:n,k]))+k \n",
    "        if kmax!=k:\n",
    "            p[[kmax,k]]=p[[k,kmax]]\n",
    "            A[[kmax,k],:]=A[[k,kmax],:]\n",
    "            b[[kmax,k]]=b[[k,kmax]]\n",
    "        v[k+1:n]=A[k+1:n,k]/A[k,k]\n",
    "        A[k+1:n,k]=np.zeros(n-(k+1)) #Ya sabemos que esos elementos son ceros, no necesitamos hacer la cuenta\n",
    "        A[k+1:,k+1:]=A[k+1:,k+1:]-np.outer(v[k+1:n],A[k,k+1:])\n",
    "        b[k+1:]=b[k+1:]-v[k+1:n]*b[k]\n",
    "    return (A,b,p)\n"
   ]
  },
  {
   "cell_type": "code",
   "execution_count": 4,
   "metadata": {},
   "outputs": [],
   "source": [
    "#print(egaussp(A1,q)[0])\n",
    "#print(egaussp(A2,q)[0])\n",
    "#print(np.around(egaussp(A3,np.ones(5))[0],2))\n",
    "#print(np.around(egaussp(A4,np.ones(5))[0],2))"
   ]
  },
  {
   "cell_type": "code",
   "execution_count": 5,
   "metadata": {},
   "outputs": [],
   "source": [
    "def dlup(M,y):\n",
    "    A=M.copy()\n",
    "    b=y.copy()\n",
    "    n=A.shape[0]\n",
    "    p=np.arange(n) #[0, 1, 2, ..., n], dice que filas quedaron cambiadas.\n",
    "    for k in range(n-1):\n",
    "        kmax=np.argmax(np.abs(A[k:n,k]))+k \n",
    "        if kmax!=k:\n",
    "            p[[k,kmax]]=p[[kmax,k]]\n",
    "            b[[k, kmax]]=b[[kmax, k]]\n",
    "            A[[k,kmax],:]=A[[kmax,k],:]\n",
    "        A[k+1:n,k]=A[k+1:n,k]/A[k,k]\n",
    "        A[k+1:n,k+1:n]=A[k+1:n,k+1:n]-np.outer(A[k+1:n,k],A[k,k+1:n])\n",
    "    U=np.triu(A)\n",
    "    L=np.tril(A,-1)+np.eye(n)\n",
    "    return (L,U,p,b)"
   ]
  },
  {
   "cell_type": "code",
   "execution_count": 6,
   "metadata": {},
   "outputs": [],
   "source": [
    "L,U,p,b=dlup(A3,np.ones(5))\n",
    "#print(L)\n",
    "#print(U)\n",
    "LU = L@U\n",
    "for j in range(len(p)):\n",
    "    LU[[j, p[j]], :] = LU[[p[j], j], :]\n",
    "    p[[j, p[j]]]=p[[p[j], j]]\n",
    "#print(A3)\n",
    "#print(p)\n",
    "#print(LU)"
   ]
  }
 ],
 "metadata": {
  "kernelspec": {
   "display_name": "Python 3.9.2 64-bit",
   "language": "python",
   "name": "python3"
  },
  "language_info": {
   "codemirror_mode": {
    "name": "ipython",
    "version": 3
   },
   "file_extension": ".py",
   "mimetype": "text/x-python",
   "name": "python",
   "nbconvert_exporter": "python",
   "pygments_lexer": "ipython3",
   "version": "3.11.5"
  },
  "orig_nbformat": 4,
  "vscode": {
   "interpreter": {
    "hash": "8846a69f2c50b9d72b98556550453b9650bfe7c2d38b105ef2df610ba22885fc"
   }
  }
 },
 "nbformat": 4,
 "nbformat_minor": 2
}
