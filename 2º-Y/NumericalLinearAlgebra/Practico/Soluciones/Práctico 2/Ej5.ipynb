{
 "cells": [
  {
   "cell_type": "code",
   "execution_count": 1,
   "metadata": {},
   "outputs": [],
   "source": [
    "import numpy as np"
   ]
  },
  {
   "cell_type": "code",
   "execution_count": 2,
   "metadata": {},
   "outputs": [],
   "source": [
    "A1 = np.array([\n",
    "    [1, 0, 0],\n",
    "    [1, 1, 0],\n",
    "    [-1, -1, 1],\n",
    "], dtype=\"float\")\n",
    "b1 = np.array([2, 5, -1], dtype=\"float\") #[2, 3, 4]"
   ]
  },
  {
   "cell_type": "code",
   "execution_count": 3,
   "metadata": {},
   "outputs": [],
   "source": [
    "def egauss(B, y):\n",
    "    A=B.copy()\n",
    "    b=y.copy()\n",
    "    n = len(b)\n",
    "    v=np.zeros(n)\n",
    "    \n",
    "    for k in range(n-1):\n",
    "        v[k+1:n] = A[k+1:n,k]/A[k,k] #I={k+1,...,n} J={k,...,n} \n",
    "        A[k+1:n,k:n] = A[k+1:n,k:n] - np.outer(v[k+1:n],A[k,k:n])\n",
    "        b[k+1:n]=b[k+1:n]- v[k+1:n]*b[k]\n",
    "    return A,b\n"
   ]
  },
  {
   "cell_type": "code",
   "execution_count": null,
   "metadata": {},
   "outputs": [],
   "source": [
    "egauss(A1, b1)"
   ]
  }
 ],
 "metadata": {
  "kernelspec": {
   "display_name": "Python 3.9.2 64-bit",
   "language": "python",
   "name": "python3"
  },
  "language_info": {
   "codemirror_mode": {
    "name": "ipython",
    "version": 3
   },
   "file_extension": ".py",
   "mimetype": "text/x-python",
   "name": "python",
   "nbconvert_exporter": "python",
   "pygments_lexer": "ipython3",
   "version": "3.11.5"
  },
  "orig_nbformat": 4,
  "vscode": {
   "interpreter": {
    "hash": "8846a69f2c50b9d72b98556550453b9650bfe7c2d38b105ef2df610ba22885fc"
   }
  }
 },
 "nbformat": 4,
 "nbformat_minor": 2
}
