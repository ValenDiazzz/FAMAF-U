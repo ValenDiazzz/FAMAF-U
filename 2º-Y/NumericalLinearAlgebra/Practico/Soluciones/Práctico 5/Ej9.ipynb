{
 "cells": [
  {
   "cell_type": "code",
   "execution_count": 1,
   "metadata": {},
   "outputs": [],
   "source": [
    "import numpy as np"
   ]
  },
  {
   "cell_type": "code",
   "execution_count": 2,
   "metadata": {},
   "outputs": [],
   "source": [
    "def sol_Richardson(M,y, it):\n",
    "    b=y.copy()\n",
    "    A=M.copy()\n",
    "    n=A[0,:].shape\n",
    "    x=np.zeros(n)\n",
    "    r=b-(A@x)\n",
    "    l=np.linalg.eig(A)[0]\n",
    "    l1,ln=np.min(l), np.max(l)\n",
    "    a=2/(l1+ln)\n",
    "    k=0\n",
    "    while np.linalg.norm(r,2)>=1e-9 and k<it:\n",
    "        v=A@r\n",
    "        x=x+(a*r)\n",
    "        r=r-(a*v)\n",
    "        k+=1\n",
    "    return x"
   ]
  }
 ],
 "metadata": {
  "kernelspec": {
   "display_name": "Python 3.9.2 64-bit",
   "language": "python",
   "name": "python3"
  },
  "language_info": {
   "codemirror_mode": {
    "name": "ipython",
    "version": 3
   },
   "file_extension": ".py",
   "mimetype": "text/x-python",
   "name": "python",
   "nbconvert_exporter": "python",
   "pygments_lexer": "ipython3",
   "version": "3.11.5"
  },
  "orig_nbformat": 4,
  "vscode": {
   "interpreter": {
    "hash": "8846a69f2c50b9d72b98556550453b9650bfe7c2d38b105ef2df610ba22885fc"
   }
  }
 },
 "nbformat": 4,
 "nbformat_minor": 2
}
