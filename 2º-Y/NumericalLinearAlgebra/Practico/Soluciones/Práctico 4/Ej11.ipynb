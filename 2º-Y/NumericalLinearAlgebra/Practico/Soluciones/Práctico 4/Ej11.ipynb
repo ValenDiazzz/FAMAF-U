{
 "cells": [
  {
   "cell_type": "code",
   "execution_count": 1,
   "metadata": {},
   "outputs": [],
   "source": [
    "import numpy as np\n",
    "import matplotlib.pyplot as plt\n",
    "from scipy.interpolate import interp1d\n",
    "from ipynb.fs.full.Ej7 import sol_cuadmin"
   ]
  },
  {
   "cell_type": "code",
   "execution_count": 2,
   "metadata": {},
   "outputs": [],
   "source": [
    "datos = np.loadtxt(\"./dryer2.txt\")\n",
    "t=datos[:,0]\n",
    "u=datos[:,1]\n",
    "y=datos[:,4]"
   ]
  },
  {
   "cell_type": "code",
   "execution_count": null,
   "metadata": {},
   "outputs": [],
   "source": [
    "def grafico(): \n",
    "    fig, ax= plt.subplots()\n",
    "    plt.plot(t, u,\"-\",color=\"black\", label=\"u\")\n",
    "    plt.plot(t, y,\"-\",color=\"blue\", label=\"y\")\n",
    "    \n",
    "    ax.set_xlabel(\"Eje X\")\n",
    "    ax.set_ylabel(\"Eje Y\")\n",
    "    ax.legend()\n",
    "    plt.show()\n",
    "\n",
    "grafico()"
   ]
  },
  {
   "cell_type": "code",
   "execution_count": null,
   "metadata": {},
   "outputs": [],
   "source": [
    "\"\"\" \n",
    "El problema de cuadrados minimos que buscamos resolver es:\n",
    "[u(0) ...     u(t)]  [h0]    [ y(t) ]\n",
    "[u(1) ...   u(t+1)]  [h1]  = [y(t+1)]  \n",
    "[:              : ]  [:]     [  :   ]   \n",
    "[u(N-t-1) ... u(N)]  [ht]    [ y(N) ]\n",
    "         A             h         b          \n",
    "La letra \"t\" en este caso denota a la letra tau\n",
    "\"\"\"\n",
    "def predictor(N, tau):\n",
    "\n",
    "    tiempo_final = len(t)\n",
    "    #Creo el sistema\n",
    "    A = np.zeros((N - tau, tau))\n",
    "    b = y[tau:N]\n",
    "    for ind in range(tau, N - tau + 1):\n",
    "        A[ind - tau, :] = u[ind - tau:ind]\n",
    "    \n",
    "    #Resuelvo el sistema\n",
    "    h = sol_cuadmin(A, b)[0]\n",
    "    \n",
    "    entradas = np.zeros((tiempo_final - N, tau))\n",
    "\n",
    "    for ind in range(tiempo_final - N):\n",
    "        entradas[ind, :] = u[ind + N - tau:ind + N]\n",
    "\n",
    "    predicciones = entradas @ h\n",
    "\n",
    "    plt.plot(t, u, 'o',color=\"yellow\", label=\"u(t)\")\n",
    "    plt.plot(t, y, '-', color=\"black\", label=\"y(t)\")\n",
    "    plt.plot(t[N:], predicciones, color=\"green\", label=\"pred\")\n",
    "    plt.legend()\n",
    "    plt.show()\n",
    "\n",
    "\n",
    "predictor(500, 101)\n"
   ]
  }
 ],
 "metadata": {
  "kernelspec": {
   "display_name": "Python 3.9.2 64-bit",
   "language": "python",
   "name": "python3"
  },
  "language_info": {
   "codemirror_mode": {
    "name": "ipython",
    "version": 3
   },
   "file_extension": ".py",
   "mimetype": "text/x-python",
   "name": "python",
   "nbconvert_exporter": "python",
   "pygments_lexer": "ipython3",
   "version": "3.11.5"
  },
  "orig_nbformat": 4,
  "vscode": {
   "interpreter": {
    "hash": "8846a69f2c50b9d72b98556550453b9650bfe7c2d38b105ef2df610ba22885fc"
   }
  }
 },
 "nbformat": 4,
 "nbformat_minor": 2
}
