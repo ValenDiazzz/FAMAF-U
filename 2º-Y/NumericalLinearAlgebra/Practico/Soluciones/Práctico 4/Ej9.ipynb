{
 "cells": [
  {
   "cell_type": "code",
   "execution_count": 1,
   "metadata": {},
   "outputs": [],
   "source": [
    "import numpy as np\n",
    "from ipynb.fs.full.Ej7 import sol_cuadmin"
   ]
  },
  {
   "cell_type": "code",
   "execution_count": 2,
   "metadata": {},
   "outputs": [],
   "source": [
    "def cholesky(A):\n",
    "    assert np.array_equal(A, A.T), \"La matriz no es simetrica\"\n",
    "    n = A.shape[0]\n",
    "    G=np.zeros((n,n))\n",
    "    \n",
    "    for i in range(n):\n",
    "        if A[i, i]<=0:\n",
    "            sim_defpos = False\n",
    "            assert sim_defpos, \"La matriz no es simetrica o definida positiva\"\n",
    "        G[i, i] = np.sqrt(A[i, i])\n",
    "        #J =i+1:n\n",
    "        G[i, i+1:n] = A[i, i+1:n]/G[i, i]\n",
    "        A[i+1:n, i+1:n] = A[i+1:n, i+1:n] - np.outer(G[i, i+1:n], G[i, i+1:n]) #Al primero lo agarra y lo toma como una fila y al segundo como una columna. Mejor que usar reshape\n",
    "        \n",
    "    return G\n",
    "\n",
    "def sol_trinffil(A, b):    \n",
    "    assert np.prod(np.diag(A)) != 0,\"Error: la matriz es singular\"\n",
    "    \n",
    "    n = len(b)\n",
    "    x = b.copy()\n",
    "\n",
    "    if n==1:\n",
    "        x[0]=x[0]/A[0, 0]\n",
    "    else:\n",
    "        k=0\n",
    "        while x[k]==0 and k<n-1: #Si b_i = 0 => x_i = 0\n",
    "            k+=1\n",
    "    \n",
    "        for i in range(k,n): #Ya calculé los x hasta k\n",
    "            x[i] = (x[i]-A[i,0:i]@x[0:i]) / A[i,i]\n",
    "    \n",
    "    return x\n",
    "\n",
    "def sol_trsupfil(A, b):    \n",
    "    assert np.prod(np.diag(A)) != 0,\"Error: la matriz es singular\"\n",
    "    n = len(b)-1\n",
    "    x = b.copy() \n",
    "    k=n\n",
    "    while x[k]==0 and k>0: #Si b_i = 0 => x_i = 0\n",
    "        k-=1\n",
    "\n",
    "    for i in reversed(range(0,k+1)): #Ya calculé los x desde k hasta n.\n",
    "        x[i] = (x[i]-(A[i,i+1:n+1]@x[i+1:n+1])) / A[i,i]\n",
    "    return x"
   ]
  },
  {
   "cell_type": "code",
   "execution_count": 3,
   "metadata": {},
   "outputs": [],
   "source": [
    "def tribanda(n):\n",
    "    A= np.diag((-1)*np.ones(n))\n",
    "    A= A + np.diag((2)*np.ones(n-1), -1) \n",
    "    A= A + np.diag((-1)*np.ones(n-2), -2)  \n",
    "    B = A[:,:-2]\n",
    "    return B"
   ]
  },
  {
   "cell_type": "code",
   "execution_count": 4,
   "metadata": {},
   "outputs": [],
   "source": [
    "def sol_QR(n):\n",
    "    #Creo el sistema\n",
    "    A=tribanda(n)\n",
    "    b = np.zeros(n)\n",
    "    b[0], b[-1] = 1, 1\n",
    "    #Resuelvo el sistema\n",
    "    x= sol_cuadmin(A, b)[0]\n",
    "    return x\n",
    "\n",
    "def sol_ch(n): #Resuelvo el sistema (A.T@A)x = A.T@b, para que el sistema sea cuadrado\n",
    "    #Creo el sistema de ec normales\n",
    "    A=tribanda(n)\n",
    "    b = np.zeros(n)\n",
    "    b[0], b[-1] = 1, 1\n",
    "    b = A.T@b\n",
    "    A = A.T@A\n",
    "    #Resuelvo el sistema\n",
    "    G = cholesky(A)\n",
    "    y = sol_trinffil(G.T, b)\n",
    "    x = sol_trsupfil(G, y)\n",
    "    return x"
   ]
  },
  {
   "cell_type": "code",
   "execution_count": null,
   "metadata": {},
   "outputs": [],
   "source": [
    "M1=sol_QR(100)\n",
    "M1"
   ]
  },
  {
   "cell_type": "code",
   "execution_count": null,
   "metadata": {},
   "outputs": [],
   "source": [
    "M2=sol_QR(1000)\n",
    "M2"
   ]
  },
  {
   "cell_type": "code",
   "execution_count": null,
   "metadata": {},
   "outputs": [],
   "source": [
    "M3=sol_ch(100)\n",
    "M3"
   ]
  },
  {
   "cell_type": "code",
   "execution_count": null,
   "metadata": {},
   "outputs": [],
   "source": [
    "M4=sol_ch(1000)\n",
    "M4"
   ]
  },
  {
   "cell_type": "code",
   "execution_count": null,
   "metadata": {},
   "outputs": [],
   "source": [
    "print(tribanda(100)@M1)\n",
    "print(tribanda(1000)@M2)\n"
   ]
  },
  {
   "cell_type": "code",
   "execution_count": null,
   "metadata": {},
   "outputs": [],
   "source": [
    "print(tribanda(100)@M3)\n",
    "print(tribanda(1000)@M4)"
   ]
  }
 ],
 "metadata": {
  "kernelspec": {
   "display_name": "Python 3.9.2 64-bit",
   "language": "python",
   "name": "python3"
  },
  "language_info": {
   "codemirror_mode": {
    "name": "ipython",
    "version": 3
   },
   "file_extension": ".py",
   "mimetype": "text/x-python",
   "name": "python",
   "nbconvert_exporter": "python",
   "pygments_lexer": "ipython3",
   "version": "3.11.5"
  },
  "orig_nbformat": 4,
  "vscode": {
   "interpreter": {
    "hash": "8846a69f2c50b9d72b98556550453b9650bfe7c2d38b105ef2df610ba22885fc"
   }
  }
 },
 "nbformat": 4,
 "nbformat_minor": 2
}
