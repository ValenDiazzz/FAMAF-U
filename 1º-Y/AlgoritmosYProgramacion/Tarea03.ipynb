{
  "nbformat": 4,
  "nbformat_minor": 0,
  "metadata": {
    "colab": {
      "provenance": []
    },
    "kernelspec": {
      "name": "python3",
      "display_name": "Python 3"
    },
    "language_info": {
      "name": "python"
    }
  },
  "cells": [
    {
      "cell_type": "markdown",
      "metadata": {
        "id": "NL-pEC3AgMDR"
      },
      "source": [
        "### **TAREA 3**\n",
        "\n",
        "En  esta tarea vas a tener que definir dos funciones. La primera de ellas calcula la suma de los primeros números impares. La segunda, verifica si una hora determinada del día tiene un formato válido.  \n",
        "\n",
        "**IMPORTANTE**\n",
        "- La tarea debe entregarse en este archivo, completando las celdas de código correspondientes.\n",
        "- El código que ustedes incorporen *debe* poder ejecutarse en *este* Colab, en caso contrario el ejercicio ***será inválido***. Por favor,  verifiquen que el código se ejecute sin errores (aunque quizás la solución no sea del todo correcta).\n",
        "- Al clicar \"Ejecutar celda\" (el triangulito blanco) en las celdas donde están los test deberían devolverse los resultados correctos.\n",
        "\n",
        "**IMPORTANTE 2**\n",
        "- No olvides organizar tu programa incluyendo comentarios, espacios y sangrías de manera adecuada.\n",
        "- Seguí las convenciones respecto de nombres de variables, funciones y constantes.\n",
        "- Evitar la utilización de funciones sofisticadas de Python.\n"
      ]
    },
    {
      "cell_type": "markdown",
      "metadata": {
        "id": "-2PAHM9rhQfh"
      },
      "source": [
        "**Ejercicio 1**\n",
        "\n",
        "Definir la función\n",
        "\n",
        "        suma_impares(n: int) -> int\n",
        "\n",
        "que devuelve la suma de los números impares entre $1$ y $n$.     \n",
        "\n",
        "\n",
        "_Ejemplos._\n",
        "\n",
        "- Si ejecuto `suma_impares(1)` la función devuelve `1`   \n",
        "- Si ejecuto `suma_impares(5)` la función devuelve `9 == 1 + 3 + 5`   \n",
        "- Si ejecuto `suma_impares(10)` la función devuelve `25 == 1 + 3 + 5 + 7 + 9`\n"
      ]
    },
    {
      "cell_type": "code",
      "metadata": {
        "id": "7rSivtjAn_cJ"
      },
      "source": [
        "# Escriba el código más abajo\n",
        "def suma_impares(n: int) -> int:\n",
        "\n",
        "  #Variable usada para contar\n",
        "  i = 0\n",
        "\n",
        "  #Representa la suma total\n",
        "  suma_total = 0\n",
        "\n",
        "  #Recorre todos los numeros enteros desde el 1 a n.\n",
        "  #Si el número para sumar es par, entonces no lo suma y pasa al que le sigue.\n",
        "  for _ in range (n):\n",
        "    i = i + 1\n",
        "    if i % 2 == 1:\n",
        "      suma_total = suma_total + i\n",
        "\n",
        "  return suma_total"
      ],
      "execution_count": null,
      "outputs": []
    },
    {
      "cell_type": "code",
      "metadata": {
        "id": "YGc2gT3Ooz5-",
        "colab": {
          "base_uri": "https://localhost:8080/"
        },
        "outputId": "4ddcb47f-90c5-4e5c-ddb9-1f4da5624720"
      },
      "source": [
        "# Tests\n",
        "print(suma_impares(1)) # debe devolver 1\n",
        "print(suma_impares(5)) # debe devolver 9\n",
        "print(suma_impares(6)) # debe devolver 9\n",
        "print(suma_impares(10)) # debe devolver 25\n",
        "print(suma_impares(25)) # debe devolver 169\n",
        "print(suma_impares(100)) # debe devolver 2500"
      ],
      "execution_count": null,
      "outputs": [
        {
          "output_type": "stream",
          "text": [
            "1\n",
            "9\n",
            "9\n",
            "25\n",
            "169\n",
            "2500\n"
          ],
          "name": "stdout"
        }
      ]
    },
    {
      "cell_type": "markdown",
      "metadata": {
        "id": "mwvRmo8in1Ty"
      },
      "source": [
        "**Ejercicio 2**\n",
        "\n",
        "Definir la función\n",
        "\n",
        "        control_hora(hora, minuto, segundo: int) -> bool\n",
        "\n",
        "que recibe los tres enteros `hora`, `minuto`, `segundo` y  devuelve `True` sii estos tres números corresponden a una hora del día. Más explícitamente devuelve `True`, sii `hora` es un entero entre 0 y 23 y  `minuto` y `segundo` son enteros entre 0 y 59. En  caso contrario,  devuelve `False`.\n",
        "\n",
        "\n",
        "_Ejemplos._\n",
        " - print(control_hora(11, 33, 12)) # True\n",
        " - print(control_hora(21, 0, 12)) # True\n",
        " - print(control_hora(0, 0, 12)) # True\n",
        " - print(control_hora(25, 7, 12)) # False\n",
        " - print(control_hora(22, 7, 60)) # False\n",
        " - print(control_hora(20, -7, 12)) # False\n",
        "\n",
        "_Observación._ Se considera que la función _siempre_ recibe tres números enteros. Es decir, no hay que verificar o preocuparse si `hora`, `minuto`, `segundo` son enteros:  se supone que siempre lo serán (cuando son usados en esta función).\n"
      ]
    },
    {
      "cell_type": "code",
      "metadata": {
        "id": "x71tM5xNpCeF"
      },
      "source": [
        "# Escriba el código más abajo\n",
        "def control_hora(hora, minuto, segundo: int) -> bool:\n",
        "  #Checkea si los valores para cada variable son los indicados.\n",
        "  if hora >= 0 and hora <= 23 and minuto >= 0 and minuto <= 59 and segundo >= 0 and segundo <= 59:\n",
        "    parametros = True\n",
        "  else:\n",
        "    parametros = False\n",
        "\n",
        "  return parametros\n"
      ],
      "execution_count": null,
      "outputs": []
    },
    {
      "cell_type": "code",
      "metadata": {
        "id": "YN_q1tDlqLxq"
      },
      "source": [
        "# Tests\n",
        "print(control_hora(11, 33, 12)) # True\n",
        "print(control_hora(11, 60, 12)) # False\n",
        "print(control_hora(21, 0, 12)) # True\n",
        "print(control_hora(0, 0, 12)) # True\n",
        "print(control_hora(25, 7, 12)) # False\n",
        "print(control_hora(20, -7, 12)) # False"
      ],
      "execution_count": null,
      "outputs": []
    }
  ]
}