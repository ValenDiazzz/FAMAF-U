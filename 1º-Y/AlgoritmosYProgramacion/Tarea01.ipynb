{
  "cells": [
    {
      "cell_type": "markdown",
      "metadata": {
        "id": "Pu4jimmGx03T"
      },
      "source": [
        "### **TAREA 1**\n",
        "\n",
        "En  esta tarea vas a tener que realizar dos ejercicios de programación en Python.\n",
        "\n",
        "**Importante 1**\n",
        "- La tarea debe entregarse en este archivo, completando las celdas de código correspondientes.\n",
        "- Al clicar \"Ejecutar celda\" (el triangulito blanco) en la celda correspondiente se debería dibujar lo solicitado en el ejercicio.\n",
        "\n",
        "**Importante 2**\n",
        "- No olvides organizar tu programa incluyendo comentarios, espacios y sangrías de manera adecuada.\n",
        "- Evitar la utilización de funciones sofisticadas de Python.\n",
        "- Evitar la utilización de mecanismos de iteración diferentes a\n",
        "```\n",
        "for _ in range...\n",
        "```\n",
        "\n",
        "\n"
      ]
    },
    {
      "cell_type": "markdown",
      "metadata": {
        "id": "FuaRMMY7sZho"
      },
      "source": [
        "Antes de comenzar con tus soluciones debés instalar ColabTurtle e importar sus funciones:"
      ]
    },
    {
      "cell_type": "code",
      "execution_count": null,
      "metadata": {
        "colab": {
          "base_uri": "https://localhost:8080/"
        },
        "id": "Iz-52mhxKgMG",
        "outputId": "f70ddfb8-6144-41d6-c8fb-1a58cbf13842"
      },
      "outputs": [
        {
          "output_type": "stream",
          "name": "stdout",
          "text": [
            "Requirement already satisfied: ColabTurtle in /usr/local/lib/python3.10/dist-packages (2.1.0)\n"
          ]
        }
      ],
      "source": [
        "!pip3 install ColabTurtle\n",
        "from ColabTurtle.Turtle import *"
      ]
    },
    {
      "cell_type": "markdown",
      "metadata": {
        "id": "F_Dz3RUNBLN-"
      },
      "source": [
        "**Ejercicio 1:** Traducí a Python tu solución al ejercicio 9 de la lección 5 (https://studio.code.org/s/20-hour/stage/5/puzzle/9) y agregale lo necesario para que realice el siguiente dibujo\n",
        "\n",
        "![image.png](data:image/png;base64,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)\n",
        "\n",
        "Para ello, observá que:\n",
        "\n",
        "*   La circunferencia que se dibujó mide ```360```.\n",
        "*   Por lo tanto su diámetro mide 360/pi y su radio 180/pi\n",
        "*   Podés escribir instrucciones como `forward(360/math.pi)`, también se puede usar `penup()` para desplazarse sin dibujar y luego `pendown()` para volver a dibujar.\n",
        "\n",
        "Podés ejecutar:"
      ]
    },
    {
      "cell_type": "code",
      "execution_count": null,
      "metadata": {
        "id": "3-eCf3r6pmmI"
      },
      "outputs": [],
      "source": [
        "# Escribí tu código abajo de esta linea\n",
        "\n",
        "#Bibliotecas\n",
        "from ColabTurtle.Turtle import *\n",
        "from math import pi\n",
        "initializeTurtle()\n",
        "\n",
        "#Setup de estética\n",
        "bgcolor(\"yellow\")\n",
        "pensize(3)\n",
        "color(\"green\")\n",
        "speed (8)\n",
        "\n",
        "#Comienzo de la tarea\n",
        "\n",
        "#Dibujo del cuadraro\n",
        "for _ in range (4):\n",
        "    forward(360/pi)\n",
        "    right(90)\n",
        "\n",
        "forward(180/pi)\n",
        "\n",
        "#Dibujo del círculo\n",
        "color(\"black\")\n",
        "for _ in range(360):\n",
        "    forward(1)\n",
        "    right(1)"
      ]
    },
    {
      "cell_type": "markdown",
      "metadata": {
        "id": "ZnrpYSv9-sRW"
      },
      "source": [
        "**Ejercicio 2:** Traducí a Python tu solución al ejercicio 8 de la lección 7 (https://studio.code.org/s/20-hour/stage/7/puzzle/8)."
      ]
    },
    {
      "cell_type": "code",
      "execution_count": null,
      "metadata": {
        "id": "T_vZrumH_w5c"
      },
      "outputs": [],
      "source": [
        "# Escribí tu código abajo de esta linea\n",
        "\n",
        "#Bibliotecas\n",
        "from random import choice\n",
        "initializeTurtle()\n",
        "\n",
        "#Setup de estética\n",
        "bgcolor(\"yellow\")\n",
        "pensize(3)\n",
        "speed(10)\n",
        "\n",
        "#Tarea a realizar\n",
        "for var1 in range (4):\n",
        "    for var2 in range (10):\n",
        "        color(choice(['orange', 'red', 'green', 'blue', 'purple', 'grey', 'black']))\n",
        "        for var3 in range (4):\n",
        "            forward(20)\n",
        "            right(90)\n",
        "        forward(20)\n",
        "    right(90)\n"
      ]
    }
  ],
  "metadata": {
    "colab": {
      "provenance": []
    },
    "kernelspec": {
      "display_name": "Python 3",
      "name": "python3"
    }
  },
  "nbformat": 4,
  "nbformat_minor": 0
}