{
  "cells": [
    {
      "cell_type": "markdown",
      "metadata": {
        "id": "KUzZLe5yYuKV"
      },
      "source": [
        "### **TAREA 8**\n",
        "\n",
        "El propósito de esta tarea es ejercitar el uso de la recursión. En  esta tarea vas a tener que definir dos funciones. La primera de ellas debe calcular el máximo común divisor de dos números enteros no negativos dados (al menos uno de ellos no nulo), de manera recursiva. La segunda función, debe calcular la potencia modular dados una base, un exponente y el módulo.\n",
        "\n",
        "**IMPORTANTE**\n",
        "- La tarea debe entregarse en este archivo, completando las celdas de código correspondientes.\n",
        "- El código que incorpores *debe* poder ejecutarse en *este* Colab, en caso contrario el ejercicio ***será inválido***. Por favor,  verificá que el código se ejecute sin errores (aún en el caso en que la solución no sea del todo correcta).\n",
        "- Al clicar \"Ejecutar celda\" (el triangulito blanco) en las celdas donde están los test deberían devolverse los resultados correctos.\n",
        "- En estos ejercicios **no está permitido** importar ninguna biblioteca.\n",
        "\n",
        "**IMPORTANTE 2**\n",
        "- Escribí las pre y post condiciones.\n",
        "- Incluí `assert` para comprobar el buen tipado del argumento y el cumplimiento de la precondición.\n",
        "- No olvides organizar tu programa incluyendo comentarios, espacios y sangrías de manera adecuada.\n",
        "- Seguí las convenciones respecto de nombres de variables, funciones y constantes.\n",
        "- Evitar la utilización de funciones sofisticadas de Python."
      ]
    },
    {
      "cell_type": "markdown",
      "metadata": {
        "id": "PyO0np2ge7Wy"
      },
      "source": [
        "**Ejercicio 1: máximo común divisor utilizando sumas, restas y recursión**\n",
        "\n",
        "Dados $a$, $b$ enteros no negativos, uno de ellos no nulo, denotemos $\\operatorname{mcd}(a,b)$ al máximo común divisor de $a$ y $b$.\n",
        "\n",
        "Una propiedad importante del $\\operatorname{mcd}$ es que se puede calcular a partir de propiedades muy sencillas, como hemos vista en la tarea 6: si $i$, $j$ son enteros no negativos, entonces\n",
        "\n",
        "1. $\\operatorname{mcd}(i, 0) = i$,\n",
        "2. $ \\operatorname{mcd}(0, j) = j$,\n",
        "2. si $i \\le j$, entonces $\\operatorname{mcd}(i,j) = \\operatorname{mcd}(i, j - i)$,\n",
        "3. si $i > j$, entonces $\\operatorname{mcd}(i,j) = \\operatorname{mcd}(i - j, j)$,\n",
        "\n",
        "\n",
        "Estas propiedades nos permiten definir la función que calcula el máximo común divisor de dos números de manera recursiva.\n",
        "\n",
        "En este ejercicio debemos definir de manera recursiva la función\n",
        "\n",
        "        mcd_rec(a, b: int) -> int:\n",
        "\n",
        "que  recibe `a` y `b` enteros no negativos, uno de ellos no nulo y devuelve $\\operatorname{mcd}(a,b)$.\n"
      ]
    },
    {
      "cell_type": "code",
      "execution_count": 1,
      "metadata": {
        "id": "NkjcxNlklQFX"
      },
      "outputs": [],
      "source": [
        "# Escribir el código más abajo\n",
        "\n",
        "def mcd_rec(a, b: int) -> int:\n",
        "    # pre: Recibe números enteros no negativos que no pueden ser ambos núlos.\n",
        "    # post: Devuelve un número entero que es el mcd de a y b.\n",
        "  assert type(a) == type(b) == int and not(a == 0 and b == 0) and b >= 0 and a >= 0, 'Error: los números ingresados no pueden ser ambos cero ni pueden ser negativos'\n",
        "\n",
        "  if a == 0:\n",
        "    mcd = b\n",
        "  elif b == 0:\n",
        "    mcd = a\n",
        "  elif a >= b:\n",
        "    mcd = mcd_rec(a - b, b)\n",
        "  else:  #b > a\n",
        "    mcd = mcd_rec(a, b - a)\n",
        "\n",
        "  return mcd\n",
        "\n"
      ]
    },
    {
      "cell_type": "code",
      "execution_count": null,
      "metadata": {
        "id": "2ta-xGf72s-5"
      },
      "outputs": [],
      "source": [
        "# Tests\n",
        "print(mcd_rec(72, 174)) # 6\n",
        "print(mcd_rec(1, 123)) # 1\n",
        "print(mcd_rec(12, 9)) # 3\n",
        "print(mcd_rec(123, 531)) # 3\n",
        "print(mcd_rec(12264, 6615)) # 21\n"
      ]
    },
    {
      "cell_type": "markdown",
      "metadata": {
        "id": "MmX0zEcPHlg4"
      },
      "source": [
        "**Ejercicio 2.** Implementar el algoritmo de exponenciación modular usando recursión.\n",
        "\n",
        "## Exponenciación modular\n",
        "\n",
        "Supongamos que queremos calcular $r$ tal que  \n",
        "\n",
        "$$\n",
        "         5^{1125899986842625} \\equiv r \\pmod{100000037},\n",
        "$$\n",
        "\n",
        "y $0 \\le r < 100000037$. Hacer este cálculo de manera directa (es decir, elevar $5$ a la potencia $1125899986842625$ y luego calcular el resto de la división por $100000037$) no nos da un resultado satisfactorio, ni siquiera con un programa de computadora. Pueden hacer el intento en Python, por ejemplo, tratando de calcular\n",
        "```\n",
        "5**1125899986842625 % 100000037\n",
        "```\n",
        "y verán que el programa no termina.\n",
        "\n",
        "Esto se debe a que $5^{1125899986842625}$  es un número inmenso  cuya representación no cabría en la memoria de ninguna computadora ni actual ni futura.\n",
        "\n",
        "La clave  para poder calcular $r$ es usar un análogo a la definición potenciación *optimizada* vista en clase, pero con congruencias.\n",
        "\n",
        "Sea $a$ número entero, $d \\ge 0$ y $n \\ge 1$.  La definición de potencia de un número $a$, que vimos en clase, es la siguiente:\n",
        "$$\n",
        "  a^d =\n",
        "  \\left\\{\n",
        "    \\begin{align*}\n",
        "        1&,&\\text{ si $d = 0$;} \\\\\n",
        "        a \\cdot a^{d-1}&,&\\text{  si $d > 0$ y  $d$ impar;} \\\\\n",
        "        {({a}^{\\frac{d}{2}})}^2&,&\\text{  si $d > 0$ y  $d$ par.}\n",
        "    \\end{align*}\n",
        "    \\right.   \\tag{*}\n",
        "$$\n",
        "\n",
        "Dado que en casos como el mencionado, es materialmente imposible calcular $a^d$ y luego obtener el resto de la división por $n$, definimos la función $f(a, d, n)$ que calcula directamente el resto de dividir $a^d$ por $n$, sin calcular $a^d$:\n",
        "\n",
        "```\n",
        "f(a, 0, n) = 1,\n",
        "f(a, d, n) = a * f(a, d-1, n) % n # si d es impar\n",
        "f(a, d, n) = f(a, d//2, n) ** 2 % n # si d es par\n",
        "```\n",
        "\n",
        "Esta definición no solo reduce la cantidad de pasos para calcular una potencia de un número, si no que también mantiene la cantidad de dígitos de los cálculos intermedios acotada.\n",
        "\n",
        "En este ejercicio debemos definir de manera recursiva la función\n",
        "\n",
        "        potencia_modular(a, d, n: int) -> int:\n",
        "\n",
        "que  recibe `a`, `d` y `n` enteros no negativos, `n` positivo, y devuelve el resto de dividir `a^d` por `n`, incluso en aquéllos casos en que resulta prácticamente imposible calcular `a^d`.\n"
      ]
    },
    {
      "cell_type": "code",
      "execution_count": 3,
      "metadata": {
        "id": "-oUMmUWfSx8N"
      },
      "outputs": [],
      "source": [
        "# Escribir el código más abajo\n",
        "\n",
        "def potencia_modular(a, d, n: int) -> int:\n",
        "    # pre: Recibe una tupla de números enteros no negativos.\n",
        "    # post: Devuelve un número \"r\" tal que es igual a la division por \"n\" de \"a\" elevado a la \"d\".\n",
        "    # agregá un assert para comprobar el tipo de a, b y la precondición\n",
        "  assert type(a) == type(d) == type(n) == int and a >= 0 and d >= 0 and n >= 1, 'Los datos deben ser enteros. La base y la potencia deben ser no negativos y el divisor debe ser positivo'\n",
        "\n",
        "  if d == 0:\n",
        "    r = 1\n",
        "  elif d % 2 == 1:\n",
        "    r = a * potencia_modular(a, d-1, n) % n\n",
        "  else:\n",
        "    r = potencia_modular(a, d//2, n) ** 2 % n\n",
        "\n",
        "  return r"
      ]
    },
    {
      "cell_type": "code",
      "execution_count": null,
      "metadata": {
        "id": "jycFvgmGS-p0"
      },
      "outputs": [],
      "source": [
        "# Tests\n",
        "print(potencia_modular(2, 6, 15)) # 4\n",
        "print(potencia_modular(5, 1125899986842625, 100000037)) # 98770120\n",
        "print(potencia_modular(5, 100000037, 100000037)) # 5\n",
        "print(potencia_modular(9, 100000037, 100000037)) # 9"
      ]
    }
  ],
  "metadata": {
    "colab": {
      "provenance": []
    },
    "kernelspec": {
      "display_name": "Python 3",
      "name": "python3"
    },
    "language_info": {
      "codemirror_mode": {
        "name": "ipython",
        "version": 3
      },
      "file_extension": ".py",
      "mimetype": "text/x-python",
      "name": "python",
      "nbconvert_exporter": "python",
      "pygments_lexer": "ipython3",
      "version": "3.11.5"
    }
  },
  "nbformat": 4,
  "nbformat_minor": 0
}
