{
  "cells": [
    {
      "cell_type": "markdown",
      "metadata": {
        "id": "KUzZLe5yYuKV"
      },
      "source": [
        "### **TAREA 9**\n",
        "\n",
        "El propósito de esta tarea es ejercitar la definición y el uso de tipos abstractos de datos o, en la jerga de Python, de clases. Deberá primero completarse la definición del tipo/la clase `Polinomio` de los polinomios con una indeterminada y coeficientes enteros. En  el segundo ejercicio de deberá definir una función que permite evaluar un polinomio. En el tercer ejercicio de deberá definir una función que devuelve la lista de raices racionales de un polinomio a coeficientes enteros.\n",
        "\n",
        "**IMPORTANTE**\n",
        "- La tarea debe entregarse en este archivo, completando las celdas de código correspondientes.\n",
        "- El código que incorpores *debe* poder ejecutarse en *este* Colab, en caso contrario el ejercicio ***será inválido***. Por favor,  verificá que el código se ejecute sin errores (aún en el caso en que la solución no sea del todo correcta).\n",
        "- Al clicar \"Ejecutar celda\" (el triangulito blanco) en las celdas donde están los test deberían devolverse los resultados correctos.\n",
        "- En estos ejercicios **no está permitido** importar ninguna biblioteca.\n",
        "\n",
        "**IMPORTANTE 2**\n",
        "- Escribí las pre y post condiciones.\n",
        "- Incluí `assert` para comprobar el buen tipado del argumento y el cumplimiento de la precondición.\n",
        "- No olvides organizar tu programa incluyendo comentarios, espacios y sangrías de manera adecuada.\n",
        "- Seguí las convenciones respecto de nombres de variables, funciones y constantes.\n",
        "- Evitar la utilización de funciones sofisticadas de Python."
      ]
    },
    {
      "cell_type": "markdown",
      "metadata": {
        "id": "PyO0np2ge7Wy"
      },
      "source": [
        "**Ejercicio 1.**\n",
        "\n",
        "Consideramos polinomios de la forma\n",
        "\n",
        "$$c_0 + c_1 x + c_2 x^2 + \\ldots + c_{n-1} x^{n-1} \\tag{*}$$\n",
        "\n",
        "donde $n \\in \\mathbb Z$ no negativo y para todo $i \\in \\{0, 1, 2, \\ldots, n-1\\}$, $c_i \\in \\mathbb N$ o y $c_{n-1} \\not= 0$. El **monomio principal** de este polinomio es $c_{n-1} x^{n-1}$, su **coeficiente principal** es $c_{n-1}$ y su **grado** es $n-1$. Estos 3 conceptos están definidos, salvo -ya lo veremos- cuando $n = 0$.\n",
        "\n",
        "Ejemplos:\n",
        "\n",
        "*   el polinomio $x^2 + 1$ se escribe según $(*)$ de la siguiente manera: $1 + 0 x + 1 x^2$. El grado del polinomio es $2$ y $n = 3$.\n",
        "*   el polinomio $-3x - 1$ se escribe $-1 + -3x$. El grado es 1 y $n = 2$\n",
        "*   el polinomio $5$ se escribe $5$, el grado es 0 y $n = 1$.\n",
        "\n",
        "En este último caso, hay un sólo coeficiente, $c_{n-1} = c_0 = 5$.\n",
        "\n",
        "No debe confundirse con el polinomio nulo, que acostumbramos escribir $0$. En un primer vistazo, parece tener la forma indicada en $(*)$ con $n = 1$ y $c_0 = 0$, pero esto no cumple con la condición $c_{n-1} \\not= 0$.\n",
        "\n",
        "\n",
        "\n",
        "Cuando escribimos el polinomio nulo de la forma $(*)$ queda la línea totalmente vacía y $n = 0$, no hay monomio principal, ni coeficiente principal ni está definido el grado del polinomio.\n",
        "\n",
        "${}^{}$\n",
        "\n",
        "En  la siguiente celda de código se da una  implementación de los polinomios.\n",
        "\n",
        "En este ejercicio se debe completar el método `__neg__` que es el que dado un polonomio `f` nos devuelve `-f`."
      ]
    },
    {
      "cell_type": "code",
      "execution_count": 1,
      "metadata": {
        "id": "NkjcxNlklQFX"
      },
      "outputs": [],
      "source": [
        "# Escribir el código más abajo\n",
        "\n",
        "class Polinomio:\n",
        "    def __init__(self, lista = []):\n",
        "        # pre: lista debe ser una lista de números enteros\n",
        "        # post: se crea el polinomio cuyos coeficientes son los de la lista en el orden dado, eliminando los 0's que estén al final de la lista\n",
        "        # agregá un assert para comprobar el tipo de lista\n",
        "        assert type(lista) == list and all(type(x) == int for x in lista), 'Debe ser una lista de enteros.'\n",
        "        coefs = list(lista)\n",
        "        Polinomio.__borrar_ceros_principales(coefs) # se llama al método oculto de la clase Polinomio\n",
        "        self.__coeficientes = coefs\n",
        "    def __borrar_ceros_principales(lista: list): # método oculto de la clase Polinomio\n",
        "        while lista != [] and lista[-1] == 0:\n",
        "            lista.pop()\n",
        "\n",
        "    # getters\n",
        "    def es_nulo(self) -> bool:\n",
        "        return self.__coeficientes == []\n",
        "    def grado(self):\n",
        "        # pre: self no es nulo\n",
        "        assert not self.es_nulo(), 'grado indefinido para el polinomio nulo'\n",
        "        return len(self.__coeficientes) - 1\n",
        "    def coef_ppal(self):\n",
        "        # pre: self no es nulo\n",
        "        assert not self.es_nulo(), 'coef_ppal indefinido para el polinomio nulo'\n",
        "        return self.__coeficientes[-1]\n",
        "    def coeficientes(self) -> list:\n",
        "        return [c for c in self.__coeficientes]\n",
        "\n",
        "    # operaciones\n",
        "    def opuesto(self):\n",
        "        return Polinomio([-c for c in self.__coeficientes])\n",
        "\n",
        "    def __add__(self, otro):\n",
        "        self_coefs = self.__coeficientes\n",
        "        otro_coefs = otro.__coeficientes\n",
        "        mlen = min(len(self_coefs), len(otro_coefs))\n",
        "        coefs = []\n",
        "        for i in range(mlen):\n",
        "            coefs.append(self_coefs[i] + otro_coefs[i])\n",
        "        coefs = coefs + self_coefs[mlen:] + otro_coefs[mlen:]\n",
        "        return Polinomio(coefs)\n",
        "\n",
        "    def __sub__(self, otro):\n",
        "        self_coefs = self.__coeficientes\n",
        "        otro_coefs = otro.__coeficientes\n",
        "        mlen = min(len(self_coefs), len(otro_coefs))\n",
        "        coefs = []\n",
        "        for i in range(mlen):\n",
        "            coefs.append(self_coefs[i] - otro_coefs[i])\n",
        "        coefs = coefs + self_coefs[mlen:] + [-c for c in otro_coefs[mlen:]]\n",
        "        return Polinomio(coefs)\n",
        "\n",
        "    def __mul__(self, otro):\n",
        "        cs = self.__coeficientes\n",
        "        ds = otro.__coeficientes\n",
        "        polinomios = [Polinomio([0]*i + [cs[i]*ds[j] for j in range(len(ds))]) for i in range(len(cs))]\n",
        "        suma = Polinomio()\n",
        "        for p in polinomios:\n",
        "            suma = suma + p\n",
        "        return suma\n",
        "\n",
        "    def __pow__(self, n): #Ejemplo de método recursivo dentro de una clase\n",
        "      # Eleva el polinomio a la n\n",
        "      assert type(n) == int and n >= 0, 'El argumento debe ser entero no negativo'\n",
        "      if n == 0:\n",
        "        res = Polinomio([1])\n",
        "      else:\n",
        "        res = self * self.__pow__(n-1)\n",
        "      return res\n",
        "\n",
        "    def __eq__(self, otro):\n",
        "        return self.coeficientes() == otro.coeficientes()\n",
        "\n",
        "    def __neg__(self):\n",
        "        return Polinomio([-c for c in self.__coeficientes]) # modificar\n",
        "    def __str__(self) -> str:\n",
        "        if self.es_nulo():\n",
        "            res = '0'\n",
        "        else:\n",
        "            res = str(self.__coeficientes[0])\n",
        "            if len(self.__coeficientes) > 1:\n",
        "                res = res + ' + ' + str(self.__coeficientes[1]) + 'x'\n",
        "                for i in range(2,len(self.__coeficientes)):\n",
        "                    res = res + ' + ' + str(self.__coeficientes[i]) + 'x^' + str(i)\n",
        "        return res"
      ]
    },
    {
      "cell_type": "code",
      "execution_count": null,
      "metadata": {
        "id": "s9nBgM9rGrmz"
      },
      "outputs": [],
      "source": [
        "# Tests\n",
        "p1 = Polinomio([1, 3])\n",
        "p2 = Polinomio([0, 2 , 6])\n",
        "p3 = Polinomio([-1, 2 , 5, 0, 0, 1])\n",
        "print('p1', p1)\n",
        "print('p2', p2)\n",
        "print('p3', p3)\n",
        "print('-p2',-p2)\n",
        "p4 = p2.opuesto()\n",
        "print('p4', p4)\n",
        "print(p1 * p2 == p2 * p1)# comprobando propiedad conmuntativa\n",
        "print(p1 * (p2 * p3) == (p1 * p2) * p3) # comprobando propiedad asociativa\n",
        "print(p1 * (p2 + p3))\n",
        "print(p1 * (p2 + p3) == p1 * p2 + p1 * p3) # comprobando propiedad distributiva\n",
        "print(p1**2) # potencia\n",
        "print(p3**5) # potencia"
      ]
    },
    {
      "cell_type": "markdown",
      "metadata": {
        "id": "0Csxx5_Lh1zj"
      },
      "source": [
        "**Ejercicio 2.** La función evaluación.\n",
        "\n",
        "Sea $f = c_0 + c_1 x + c_2 x^2 + \\cdots + c_{n-1} x^{n-1}$ un polinomio con coeficientes enteros. La evaluación de $f$  en $a$, denotada $f(a)$ es\n",
        "$$\n",
        "f(a) = c_0 + c_1 \\cdot a  + c_2 \\cdot a^2 + \\cdots + c_{n-1}\\cdot  a^{n-1} \\tag{**}\n",
        "$$\n",
        "Observar que $f$ es un polinomio de coeficientes enteros pero lo podemos evaluar en cualquier \"número\" (entero, racional, real, complejo).\n",
        "\n",
        "\n",
        "${}^{}$\n",
        "\n",
        "El  ejercicio consiste en definir la función `eval(f, a)` que  tiene como argumentos un polinomio `f` a coeficientes enteros y un número `a` entero o fraccionario y  devuelve la evaluación de `f`  en `a`. Es decir, devuelve  $ c_0 + c_1 \\cdot a  + c_2 \\cdot a^2 + \\cdots + c_{n-1}\\cdot  a^{n-1}$.  Para hacer esto deberemos utilizar  la clase `Fraction` que Python provee para manejar números racionales (ejemplos más abajo).   \n"
      ]
    },
    {
      "cell_type": "code",
      "execution_count": null,
      "metadata": {
        "id": "BI6qsX-ki5ZV"
      },
      "outputs": [],
      "source": [
        "from fractions import *\n",
        "# Ejemplos de la clase Fraction\n",
        "r1 = Fraction(1,3)\n",
        "r2 = Fraction(5,2)\n",
        "print(r1, r2)\n",
        "print(r1 * r2)\n",
        "print(r1 + r2)\n",
        "print(r1 / r2)\n",
        "# Afortunadamente,  se puede multiplicar un entero y una fracción:\n",
        "print(3 * r1, 5 * r1)"
      ]
    },
    {
      "cell_type": "code",
      "execution_count": 4,
      "metadata": {
        "id": "LYFOODWukPrY"
      },
      "outputs": [],
      "source": [
        "# Implementar la siguiente función\n",
        "def eval(f, a):\n",
        "  # pre: f polinomio de coeficientes enteros, a es int  o Fraction\n",
        "  assert isinstance(f, Polinomio) and (isinstance(a, Fraction) or isinstance(a, int)), 'El primer agumento no es polinomio o el segundo no es fracción'\n",
        "  res = 0\n",
        "\n",
        "  #Creo una lista que cada elemento es la x valuada.\n",
        "  grado2 = f.grado()\n",
        "  x_valuados = []\n",
        "  for j in range(grado2 + 1):\n",
        "    x_valuados.append(a**j)\n",
        "\n",
        "  #Multiplico la x valuada con su coeficiente correspondiente y los sumo.\n",
        "  coeficientes2 = f.coeficientes()\n",
        "  for i in range(grado2 + 1):\n",
        "    res = res + coeficientes2[i] * x_valuados[i]\n",
        "\n",
        "  return res"
      ]
    },
    {
      "cell_type": "code",
      "execution_count": null,
      "metadata": {
        "id": "8_pJM46T5AIs"
      },
      "outputs": [],
      "source": [
        "# Tests\n",
        "\n",
        "f = Polinomio([-2,-5, 3])\n",
        "print(f)\n",
        "# Test: evaluamos f  en las posibles raíces racionales\n",
        "print(eval(f,1))\n",
        "print(eval(f,-1))\n",
        "print(eval(f,2))\n",
        "print(eval(f,-2))\n",
        "print(eval(f,Fraction(1,3)))\n",
        "print(eval(f,Fraction(-1,3)))\n",
        "print(eval(f,Fraction(2,3)))\n",
        "print(eval(f,Fraction(-2,3)))\n"
      ]
    },
    {
      "cell_type": "markdown",
      "metadata": {
        "id": "CxCVlzGzwOyI"
      },
      "source": [
        "**Ejercicio 3.** Utilizar el teorema de la raíz racional para comprobar si un polinomio tiene raíces racionales.\n",
        "\n",
        "En álgebra, el teorema de la raíz racional establece una forma para encontrar las raíces racionales de polinomios a coeficientes enteros.\n",
        "\n",
        "Sea $f = c_0 + c_1 x + c_2 x^2 + \\cdots + c_{n-1} x^{n-1}$ un polinomio con coeficientes enteros. Entonces $a \\in \\mathbb R$ es una *raíz* de $f$ si la evaluación de $f$  en $a$ resulta $0$. Es decir, si\n",
        "$$\n",
        "0 = c_0 + c_1 \\cdot a  + c_2 \\cdot a^2 + \\cdots + c_{n-1}\\cdot  a^{n-1}. \\tag{**}\n",
        "$$  \n",
        "\n",
        "El *teorema de la raíz racional*\n",
        "\n",
        "**Teorema.** Sea $f$ polinomio a coeficientes enteros,  entonces si $x=\\frac{p}{q}$ con $(p,q) =1$ es raíz racional de $f$ ${ }^{ }$ $\\Longrightarrow$\n",
        "- $p$ es divisor de $c_0$.\n",
        "- $q$ es divisor de $c_{n-1}$.\n",
        "\n",
        "*Ejemplo.* Sea $f = -2 + -5x + 3x^2$. Entonces $x=\\frac{p}{q}$ con $(p,q)=1$ es raíz racional de $f$ ${ }^{ }$ $\\Longrightarrow$\n",
        "- $p$ es divisor de $-2$.\n",
        "- $q$ es divisor de $3$.\n",
        "\n",
        "Luego las posibilidades son $\\pm 1$, $\\pm\\frac{1}{3}$, $\\pm 2$, $\\pm\\frac{2}{3}$. Evaluando el polinomio en los diferentes valores vemos que las raíces son $2$ y $-\\frac{1}{3}$.\n",
        "\n",
        " ${ }^{ }$\n",
        "\n",
        "El  ejercicio entonces consiste en definir un función que devuelva la lista de las raíces racionales de un polinomio a coeficientes enteros.\n",
        "\n"
      ]
    },
    {
      "cell_type": "code",
      "execution_count": 6,
      "metadata": {
        "id": "scNYW2POuROZ"
      },
      "outputs": [],
      "source": [
        "#Funcion divisores\n",
        "def divisores(n: int) -> list:\n",
        "  # precondición: n >= 1 and type(n) == int\n",
        "  # postcondición: elemento tipo lista con elementos divisores enteros de n\n",
        "  assert type(n) == int, 'Error: el número debe ser entero'\n",
        "  if n < 0 :\n",
        "    n = -n\n",
        "\n",
        "  posible_divisor = 1\n",
        "  total_divisores = []\n",
        "\n",
        "  for posible_divisor in range (1,n+1):\n",
        "    if n % posible_divisor == 0:\n",
        "      total_divisores.append(posible_divisor)\n",
        "\n",
        "  return total_divisores"
      ]
    },
    {
      "cell_type": "code",
      "execution_count": 7,
      "metadata": {
        "id": "MoIm0efp9557"
      },
      "outputs": [],
      "source": [
        "#MCD de un número\n",
        "def mcd_rec(a, b: int) -> int:\n",
        "    # pre: Recibe números enteros no negativos que no pueden ser ambos núlos.\n",
        "    # post: Devuelve un número entero que es el mcd de a y b.\n",
        "  assert type(a) == type(b) == int and not(a == 0 and b == 0) and b >= 0 and a >= 0, 'Error: los números ingresados no pueden ser ambos cero ni pueden ser negativos'\n",
        "\n",
        "  if a == 0:\n",
        "    mcd = b\n",
        "  elif b == 0:\n",
        "    mcd = a\n",
        "  elif a >= b:\n",
        "    mcd = mcd_rec(a - b, b)\n",
        "  else:  #b > a\n",
        "    mcd = mcd_rec(a, b - a)\n",
        "\n",
        "  return mcd"
      ]
    },
    {
      "cell_type": "code",
      "execution_count": 8,
      "metadata": {
        "id": "CSjje9Nd8fRX"
      },
      "outputs": [],
      "source": [
        "def raices_rac(f):\n",
        "  # pre: f es polinomio a coeficientes enteros,  no nulo\n",
        "  # post: devuelve la lista de raíces racionales de f\n",
        "  assert not(f.es_nulo()) and isinstance(f, Polinomio), 'El argumento debe ser un polinomio no nulo.'\n",
        "  res = []\n",
        "  coef = f.coeficientes()\n",
        "  ind, prin = coef[0], coef[-1]\n",
        "\n",
        "  #divisores positivos\n",
        "  div_de_ind = divisores(ind)\n",
        "  div_de_prin = divisores(prin)\n",
        "\n",
        "  for i in div_de_ind:\n",
        "    for j in div_de_prin :\n",
        "      pos_raiz = Fraction(i, j)\n",
        "\n",
        "      if mcd_rec(i, j) == 1: #Chequeo que sean coprimos.\n",
        "\n",
        "        #raices positivas\n",
        "        if eval(f, pos_raiz ) == 0:\n",
        "          res.append(str(pos_raiz))\n",
        "\n",
        "        #raices negativas\n",
        "        elif eval(f, -pos_raiz) == 0 and not(str(-pos_raiz) in res):\n",
        "          res.append(str(-pos_raiz))\n",
        "\n",
        "  return res\n"
      ]
    },
    {
      "cell_type": "code",
      "execution_count": null,
      "metadata": {
        "id": "45KIoxkPpT5f"
      },
      "outputs": [],
      "source": [
        "# Tests\n",
        "\n",
        "p1 = Polinomio([-2,3])\n",
        "p2 = Polinomio([1,5])\n",
        "p3 = Polinomio([-1,2])\n",
        "p = p1 * p2 * p3\n",
        "print(p)\n",
        "print(raices_rac(p)) # 1/2, -1/5, 2/3\n",
        "q = Polinomio([1, 0, 1])\n",
        "print(raices_rac(q**3)) # no tiene raices racionales\n",
        "t = Polinomio([4, 4, 1, 9, 14, 6])\n",
        "print(t)\n",
        "print(raices_rac(t)) # -1"
      ]
    }
  ],
  "metadata": {
    "colab": {
      "provenance": []
    },
    "kernelspec": {
      "display_name": "Python 3",
      "name": "python3"
    },
    "language_info": {
      "codemirror_mode": {
        "name": "ipython",
        "version": 3
      },
      "file_extension": ".py",
      "mimetype": "text/x-python",
      "name": "python",
      "nbconvert_exporter": "python",
      "pygments_lexer": "ipython3",
      "version": "3.11.5"
    }
  },
  "nbformat": 4,
  "nbformat_minor": 0
}
