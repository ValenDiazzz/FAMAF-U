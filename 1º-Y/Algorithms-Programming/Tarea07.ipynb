{
  "cells": [
    {
      "cell_type": "markdown",
      "metadata": {
        "id": "KUzZLe5yYuKV"
      },
      "source": [
        "### **TAREA 7**\n",
        "\n",
        "El propósito de esta tarea es ejercitar el uso del ciclo mientras, el uso de listas o arreglos y el problema de la ordenación. En  esta tarea vas a tener que definir dos funciones. La primera de ellas debe determinar si una lista de enteros está ordenada. La segunda función recibe dos listas o arreglos y debe determinar si una es permutación de la otra.\n",
        "\n",
        "**IMPORTANTE**\n",
        "- La tarea debe entregarse en este archivo, completando las celdas de código correspondientes.\n",
        "- El código que incorpores *debe* poder ejecutarse en *este* Colab, en caso contrario el ejercicio ***será inválido***. Por favor,  verificá que el código se ejecute sin errores (aún en el caso en que la solución no sea del todo correcta).\n",
        "- Al clicar \"Ejecutar celda\" (el triangulito blanco) en las celdas donde están los test deberían devolverse los resultados correctos.\n",
        "- En estos ejercicios **no está permitido** importar ninguna biblioteca.\n",
        "\n",
        "**IMPORTANTE 2**\n",
        "- Escribí las pre y post condiciones.\n",
        "- Incluí `assert` para comprobar el buen tipado del argumento y el cumplimiento de la precondición.\n",
        "- No olvides organizar tu programa incluyendo comentarios, espacios y sangrías de manera adecuada.\n",
        "- Seguí las convenciones respecto de nombres de variables, funciones y constantes.\n",
        "- Evitar la utilización de funciones sofisticadas de Python."
      ]
    },
    {
      "cell_type": "markdown",
      "metadata": {
        "id": "PyO0np2ge7Wy"
      },
      "source": [
        "**Ejercicio 1: determinar si una lista o arreglo está ordenada/o**\n",
        "\n",
        "En este ejercicio debemos definir una función que devuelva `True` sii la lista de enteros recibida está ordenada de menor a mayor.  \n",
        "\n",
        "Definir la función\n",
        "\n",
        "        esta_ordenada(lista: list[int]) -> bool\n",
        "\n",
        "que recibe una lista de enteros `[n_1, n_2, ..., n_k]` y debe devolver `True` si y sólo si `n_1 <= n_2 <= ... <= n_k`.\n",
        "\n",
        "Por  ejemplo:\n",
        "\n",
        "- `esta_ordenadada([])` devuelve `True`,\n",
        "- `esta_ordenadada([n])` devuelve `True` cualquiera sea el número entero `n`,\n",
        "- `esta_ordenada([-5, 0, 1, 1, 7])` devuelve `True`, y\n",
        "- `esta_ordenada([1, 2, 3, 4, 3, 5, 6, 7, 8, 9])` devuelve `False`.\n",
        "\n",
        "El ejercicio debe resolverse con un `while` y no está permitido usar ninguna función o método (salvo la función `len()`), solamente la posibilidad de acceder (`lista[_]`) elementos de la lista, y compararlos (<, <=, >, >=, ==, !=).\n",
        "\n",
        "No está permitido modificar las listas recibidas como parámetros, ni interrumpir la ejecución del ciclo con `return`, `break`, etc."
      ]
    },
    {
      "cell_type": "code",
      "execution_count": 1,
      "metadata": {
        "id": "NkjcxNlklQFX"
      },
      "outputs": [],
      "source": [
        "# Escribir el código más abajo\n",
        "\n",
        "def esta_ordenada(lista: list) -> bool:\n",
        "  # pre: Se debe ingresar un dato tipo lista y todos sus elementos (si es que tiene) deben ser números del tipo entero\n",
        "  # post: Devuelve un valor booleano que representa la ordenacion o no ordenacion de una lista.\n",
        "\n",
        "  assert type(lista) == list and all(type(x) == int for x in lista), 'Error: el tipo de dato ingresado no es del tipo lista, o sus elementos no son enteros.'\n",
        "\n",
        "  ordenacion = True\n",
        "  j = 0 #Posicion del elemento en la lista\n",
        "\n",
        "  #Las listas con 0 elementos o con 1 elemento se consideran ordenadas.\n",
        "  #Si un elemento en la posicion n es mayor que el elemento en la posicion n + 1 se considera que no está ordenada.\n",
        "\n",
        "  while ordenacion and j < len(lista) - 1 :\n",
        "    if  lista[j] > lista[j + 1]:\n",
        "      ordenacion = False\n",
        "    j += 1\n",
        "\n",
        "\n",
        "\n",
        "  return ordenacion"
      ]
    },
    {
      "cell_type": "code",
      "execution_count": null,
      "metadata": {
        "id": "2ta-xGf72s-5"
      },
      "outputs": [],
      "source": [
        "# Tests\n",
        "print(esta_ordenada([])) # True\n",
        "print(esta_ordenada([-17])) # True\n",
        "print(esta_ordenada([-5, 0, 1, 1, 7])) # True\n",
        "print(esta_ordenada([1, 2, 3, 4, 3, 5, 6, 7, 8, 9])) # False\n"
      ]
    },
    {
      "cell_type": "markdown",
      "metadata": {
        "id": "MmX0zEcPHlg4"
      },
      "source": [
        "**Ejercicio 2: determinar si dos listas son permutación una de la otra**\n",
        "\n",
        "Dadas dos listas `lista1` y `lista2` decimos que una es permutación de la otra sii las listas tienen los mismos elementos (contando repeticiones) salvo, posiblemente, en otro orden. La relación \"es permutación de\" es una relación de equivalencia entre listas: es reflexiva, simétrica y transitiva.\n",
        "\n",
        "Los siguientes pares de listas están en la relación \"es permutación de\":\n",
        "\n",
        "*   `[1, 4, 5, 1]` y `[5, 4, 1, 1]`\n",
        "*   `[1, 2, 3, 4, 5]` y `[5, 4, 3, 2, 1]`\n",
        "\n",
        "Los siguientes pares de listas no están en la relación \"es permutación de\":\n",
        "\n",
        "*   `[1, 4, 5, 1]` y `[5, 4, 4, 1]`\n",
        "*   `[1, 4, 5, 1]` y `[1, 4, 5]`\n",
        "*   `[1, 2, 3, 4, 5]` y `[5, 4, 4, 2, 1]`\n",
        "\n",
        "En este ejercicio debemos definir la función\n",
        "\n",
        "        son_permutacion(lista1, lista2: list[int]) -> bool:\n",
        "\n",
        "que  recibe dos listas de enteros y devuelve True si y sólo si las listas están en la relación \"es permutación de\".\n",
        "\n",
        "El ejercicio debe resolverse con un `while` y no está permitido usar ninguna función o método de listas, salvo la función `len()` y el método `count()` de listas.\n",
        "\n",
        "No está permitido modificar las listas recibidas como parámetros, ni interrumpir la ejecución del ciclo con `return`, `break`, etc."
      ]
    },
    {
      "cell_type": "code",
      "execution_count": 3,
      "metadata": {
        "id": "-oUMmUWfSx8N"
      },
      "outputs": [],
      "source": [
        "# Escribir el código más abajo\n",
        "\n",
        "def son_permutacion(lista1, lista2: list) -> bool:\n",
        "  # pre: Se ingresa dos listas con elementos enteros.\n",
        "  # post: Devuelve un valor booleano que representa si una lista es permutación de otra\n",
        "  assert type(lista1) == list and all(type(i) == int for i in lista1) and type(lista2) == list and all(type(j) == int for j in lista2)\n",
        "\n",
        "  permutacion = True\n",
        "\n",
        "  if len(lista1) != len(lista2):\n",
        "    permutacion = False\n",
        "\n",
        "  i = 0\n",
        "  #Si todos los elementos de una lista se repiten la misma cantidad de veces en la otra, las listas estan permutadas.\n",
        "  while permutacion and i < len(lista1):\n",
        "    num = lista1[i]\n",
        "    if lista1.count(num) != lista2.count(num):\n",
        "      permutacion = False\n",
        "    i += 1\n",
        "\n",
        "  return permutacion"
      ]
    },
    {
      "cell_type": "code",
      "execution_count": null,
      "metadata": {
        "id": "jycFvgmGS-p0"
      },
      "outputs": [],
      "source": [
        "# Tests\n",
        "print(son_permutacion([], [])) # True\n",
        "print(son_permutacion([5], [5])) # True\n",
        "print(son_permutacion([4, 1, 2, 3, 4, 5, 3], [5, 1, 3, 3, 4, 4, 2])) # True\n",
        "print(son_permutacion([4, 1, 1, 2, 4, 5, 3], [5, 1, 3, 3, 4, 4, 2])) # False\n",
        "print(son_permutacion([5], [1])) # False\n",
        "print(son_permutacion([1, 1], [1])) # False"
      ]
    }
  ],
  "metadata": {
    "colab": {
      "provenance": []
    },
    "kernelspec": {
      "display_name": "Python 3",
      "name": "python3"
    },
    "language_info": {
      "codemirror_mode": {
        "name": "ipython",
        "version": 3
      },
      "file_extension": ".py",
      "mimetype": "text/x-python",
      "name": "python",
      "nbconvert_exporter": "python",
      "pygments_lexer": "ipython3",
      "version": "3.11.5"
    }
  },
  "nbformat": 4,
  "nbformat_minor": 0
}
