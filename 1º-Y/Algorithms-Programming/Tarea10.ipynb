{
  "cells": [
    {
      "cell_type": "markdown",
      "metadata": {
        "id": "03RUOLOIpWZS"
      },
      "source": [
        "### **TAREA 10**\n",
        "\n",
        "El propósito de esta tarea es ejercitar listas de listas, dicionarios de listas, etc. También el manejo de archivos y algunos rudimentos del análisis de tdatos.  \n",
        "\n",
        "**IMPORTANTE**\n",
        "- La tarea debe entregarse en este archivo, completando las celdas de código correspondientes.\n",
        "- El código que incorpores *debe* poder ejecutarse en *este* Colab, en caso contrario el ejercicio ***será inválido***. Por favor,  verificá que el código se ejecute sin errores (aún en el caso en que la solución no sea del todo correcta).\n",
        "- Al clicar \"Ejecutar celda\" (el triangulito blanco) en las celdas donde están los test deberían devolverse los resultados correctos.\n",
        "- En estos ejercicios **no está permitido** importar ninguna biblioteca.\n",
        "\n",
        "**IMPORTANTE 2**\n",
        "- Escribí las pre y post condiciones.\n",
        "- Incluí `assert` para comprobar el buen tipado del argumento y el cumplimiento de la precondición.\n",
        "- No olvides organizar tu programa incluyendo comentarios, espacios y sangrías de manera adecuada.\n",
        "- Seguí las convenciones respecto de nombres de variables, funciones y constantes.\n",
        "- Evitar la utilización de funciones sofisticadas de Python."
      ]
    },
    {
      "cell_type": "markdown",
      "metadata": {
        "id": "Pkt0r3z5qGk5"
      },
      "source": [
        "##Introducción\n",
        "Trabajaremos con datos bajados de la web https://www.tutiempo.net . Las primeras celdas de código introducen el código necesario para poder obtener los datos que deseamos en forma estructurada (lista de listas o diccionario de diccionarios).\n",
        "\n",
        "Los datos que nos interesan es la información del clima horaria de un cierto lugar en un cierto día."
      ]
    },
    {
      "cell_type": "code",
      "execution_count": 1,
      "metadata": {
        "id": "11b-TKZti04h"
      },
      "outputs": [],
      "source": [
        "# pip install beautifulsoup4\n",
        "# pip install lxml\n",
        "# Ya están instalados en Colab. En un entorno propio deben instalarse\n",
        "import requests\n",
        "from bs4 import BeautifulSoup\n",
        "import json"
      ]
    },
    {
      "cell_type": "markdown",
      "metadata": {
        "id": "J9tYqKk1rITf"
      },
      "source": [
        "- Con `requests` podemos bajar una página web.\n",
        "- Con `BeautifulSoup` extraemos información estructurada de la página."
      ]
    },
    {
      "cell_type": "code",
      "execution_count": null,
      "metadata": {
        "id": "Hg2okpn-z2o_"
      },
      "outputs": [],
      "source": [
        "# Basado en: 1) https://stackoverflow.com/questions/17196018/extracting-table-contents-from-html-with-python-and-beautifulsoup\n",
        "# 2) https://www.kite.com/python/examples/4420/beautifulsoup-parse-an-html-table-and-write-to-a-csv\n",
        "\n",
        "# La información la extraemos de la estación metereológica SACO, correspondiente al Aeropuerto de Córdoba.\n",
        "\n",
        "def registro_fila_tabla(fila_tabla) -> list: # procesa una fila de la tabla, devuelve la lista con las mediciones registradas en esa fila\n",
        "    celdas_fila = fila_tabla.findAll('td')\n",
        "    registro = []\n",
        "    for celda in celdas_fila:                # recorre las celdas de la fila correspondiente a una toma de mediciones\n",
        "        registro.append(celda.text)\n",
        "    return registro\n",
        "\n",
        "def registros_tabla(tabla) -> list: # procesa una tabla, devuelve la lista de registros contenidos en esa tabla\n",
        "    registros = []\n",
        "    for fila_tabla in tabla.findAll('tr'):\n",
        "        registro = registro_fila_tabla(fila_tabla)\n",
        "        if len(registro) != 0:\n",
        "            registros.append(registro)\n",
        "    return registros\n",
        "\n",
        "def registros_dia(dia, mes, año) -> list:\n",
        "    nombre_fecha = str(dia) + '-' + mes + '-' + str(año)\n",
        "    contenido_url = requests.get('https://www.tutiempo.net/registros/saco/' + nombre_fecha + '.html')\n",
        "    contenido_estructurado = BeautifulSoup(contenido_url.text, 'lxml') # parsea la página\n",
        "    tabla_dia = contenido_estructurado.find('table', {'style': 'width: 100%'}) # extrae la tabla (es la única con style=\"width: 100%\")\n",
        "\n",
        "    return registros_tabla(tabla_dia)\n",
        "\n",
        "\n",
        "# Ejemplo\n",
        "fecha_proc = registros_dia(29, 'mayo', 2021)\n",
        "\n",
        "for w in fecha_proc:\n",
        "    print(w)"
      ]
    },
    {
      "cell_type": "markdown",
      "metadata": {
        "id": "Kp36GUxsr9uS"
      },
      "source": [
        "También podemos hacer, de forma análoga, un diccionario de diccionarios, como hacemos en la siguiente celda de código."
      ]
    },
    {
      "cell_type": "code",
      "execution_count": null,
      "metadata": {
        "id": "WvOf70mi2A9s"
      },
      "outputs": [],
      "source": [
        "CLAVES = ['hora', 'desc', 'temp', 'vel', 'hum', 'pres']\n",
        "\n",
        "def registro_fila_tabla(fila_tabla) -> dict: # procesa una fila de la tabla, devuelve un diccionario con las mediciones registradas en esa fila\n",
        "    celdas_fila = fila_tabla.findAll('td')\n",
        "    registro = {}\n",
        "    i = 0\n",
        "    for celda in celdas_fila:                # recorre las celdas de la fila correspondiente a una toma de mediciones\n",
        "        registro[CLAVES[i]] = celda.text\n",
        "        i = i + 1\n",
        "    return registro\n",
        "\n",
        "def registros_tabla(tabla) -> dict:          # procesa una tabla, devuelve un diccionario de registros contenidos en esa tabla\n",
        "    registros = {}\n",
        "    for fila_tabla in tabla.findAll('tr'):\n",
        "        registro = registro_fila_tabla(fila_tabla)\n",
        "        if len(registro) != 0:\n",
        "            hora = registro.pop('hora')\n",
        "            hh = int(hora[:2])\n",
        "            registros[hh] = registro\n",
        "    return registros\n",
        "\n",
        "# Devuelve un diccionario de diccionarios\n",
        "def registros_dia(dia, mes, año) -> dict:\n",
        "    nombre_fecha = str(dia) + '-' + mes + '-' + str(año)\n",
        "    contenido_url = requests.get('https://www.tutiempo.net/registros/saco/' + nombre_fecha + '.html')\n",
        "    contenido_estructurado = BeautifulSoup(contenido_url.text, 'lxml') # parsea la página\n",
        "    tabla_dia = contenido_estructurado.find('table', {'style': 'width: 100%'}) # extrae la tabla (es la única con style=\"width: 100%\")\n",
        "\n",
        "    return registros_tabla(tabla_dia)\n",
        "\n",
        "# Ejemplo\n",
        "fecha_dic = registros_dia('25','noviembre', 2018)\n",
        "print(fecha_dic)\n",
        "print(fecha_dic[3]['temp'])\n",
        "print(fecha_dic[3]['desc'])"
      ]
    },
    {
      "cell_type": "markdown",
      "metadata": {
        "id": "Op3FY8jAsiaR"
      },
      "source": [
        "El código anterior recupera todos los valores de la tabla elegida. Sin embargo, hay un dato, la dirección del viento, que no es un valor de una celda de la tabla sino un atributo de una celda. Por lo tanto, debemos modificar un poco el código para obtener lo que deseamos."
      ]
    },
    {
      "cell_type": "code",
      "execution_count": null,
      "metadata": {
        "id": "XaTAaUjdshfl"
      },
      "outputs": [],
      "source": [
        "CLAVES = ['hora', 'desc', 'temp', 'dir', 'vel', 'hum', 'pres']\n",
        "\n",
        "def registro_fila_tabla(fila_tabla) -> dict: # procesa una fila de la tabla, devuelve un diccionario con las mediciones registradas en esa fila\n",
        "    celdas_fila = fila_tabla.findAll('td')\n",
        "    registro = {}\n",
        "    i = 0\n",
        "    for celda in celdas_fila:                # recorre las celdas de la fila correspondiente a una toma de mediciones\n",
        "        if celda.img != None: # si existe el tag 'img'\n",
        "            input_tag = celda.img['title'] # recupera en el tag 'img' el valor del atributo 'title'\n",
        "            registro[CLAVES[i]] = input_tag # dirección del viento\n",
        "            i = i + 1\n",
        "        registro[CLAVES[i]] = celda.text\n",
        "        i = i + 1\n",
        "    return registro\n",
        "\n",
        "def registros_tabla(tabla) -> dict:          # procesa una tabla, devuelve un diccionario de registros contenidos en esa tabla\n",
        "    registros = {}\n",
        "    for fila_tabla in tabla.findAll('tr'):\n",
        "        registro = registro_fila_tabla(fila_tabla)\n",
        "        if len(registro) != 0:\n",
        "            hora = registro.pop('hora')\n",
        "            hh = int(hora[:2])\n",
        "            registros[hh] = registro\n",
        "    return registros\n",
        "\n",
        "# Devuelve un diccionario de diccionarios\n",
        "def registros_dia(dia, mes, año) -> dict:\n",
        "    nombre_fecha = str(dia) + '-' + mes + '-' + str(año)\n",
        "    contenido_url = requests.get('https://www.tutiempo.net/registros/saco/' + nombre_fecha + '.html')\n",
        "    contenido_estructurado = BeautifulSoup(contenido_url.text, 'lxml') # parsea la página\n",
        "    tabla_dia = contenido_estructurado.find('table', {'style': 'width: 100%'}) # extrae la tabla (es la única con style=\"width: 100%\")\n",
        "\n",
        "    return registros_tabla(tabla_dia)\n",
        "\n",
        "# Ejemplo\n",
        "fecha_dic = registros_dia('25','noviembre', 2018)\n",
        "print(fecha_dic)\n",
        "#print(fecha_dic[3]['temp'])\n",
        "#print(fecha_dic[3]['desc'])"
      ]
    },
    {
      "cell_type": "markdown",
      "metadata": {
        "id": "249QMH25uKGz"
      },
      "source": [
        "*Ejercicio 1.*  Escribir una nueva versión de `registros_dia()` que tenga como argumentos la fecha en  formato `AAAAMMDD` y devuelva el diccionario sin las unidades. Por ejemplo, si\n",
        "```\n",
        "dic_clima = registros_dia('20180523')\n",
        "```\n",
        "entonces (por ejemplo),\n",
        "```\n",
        "dic_clima[8] = {'desc': 'Despejado', 'temp': 19, 'dir': 'Nordeste', 'vel': 15, 'hum': 68, 'pres': 1016}\n",
        "```\n",
        "y\n",
        "\n",
        "```\n",
        "dic_clima[8]['pres'] = 1016\n",
        "```\n",
        "Observar  que debemos eliminar las unidades y convertir (donde se pueda) la cadena a `int`.\n",
        "\n",
        "\n",
        "La forma más sencilla de hacer esto es con funciones auxiliares. En el código escrito más abajo se proponen 2 funciones auxiliares\n",
        "1. `formatear_fecha(fecha: str) -> str` que cambia un formato de fecha `AAAAMMDD` a un formato que entienda 'Tu tiempo'. Por ejemplo `formatear_fecha('20160611)` devuelve `'11-junio-2016'`.\n",
        "2. `eliminar_unidades(tiempo_hora: dict) -> dict` que elimina las unidades que vienen en 'Tu tiempo'. Por ejemplo,  cambia\n",
        "        {'desc': 'Despejado', 'temp': '13°', 'dir': 'Noroeste', 'vel': '7 km/h', 'hum': '88%', 'pres': '1015 hPa'}\n",
        "a\n",
        "        {'desc': 'Despejado', 'temp': 13, 'dir': 'Noroeste', 'vel': 7, 'hum': 88, 'pres': 1015}\n",
        "Esta es una función delicada porque la regla general que uno pensaría utilizar para cada tipo de dato no se aplica siempre  y eso ocurre porque a veces vienen datos no esperados. Por  ejemplo, puede ocurrir que el valor de `vel` en 'Tu tiempo' sea `- km/h`. En  esos casos,  es conveniente usar un valor testigo de que el dato no está bien, por ejemplo el `None` de Python.     \n",
        "\n",
        "\n",
        "\n"
      ]
    },
    {
      "cell_type": "code",
      "execution_count": 5,
      "metadata": {
        "id": "8s9nhXLgxd8q"
      },
      "outputs": [],
      "source": [
        "\n",
        "def registros_dia(fecha: str) -> dict:\n",
        "  tablas = {}\n",
        "  nombre_fecha = formatear_fecha(fecha)\n",
        "  contenido_url = requests.get('https://www.tutiempo.net/registros/saco/' + nombre_fecha + '.html')\n",
        "  contenido_estructurado = BeautifulSoup(contenido_url.text, 'lxml') # parsea la página\n",
        "  tabla_dia = contenido_estructurado.find('table', {'style': 'width: 100%'}) # extrae la tabla (es la única con style=\"width: 100%\")\n",
        "  horas = registros_tabla(tabla_dia).keys()\n",
        "  for i in horas: #Con esta iteracion me aseguro que agrego horas que si esten en los datos del programa\n",
        "    tabla_dia_sin_unidades = eliminar_unidades(registros_tabla(tabla_dia)[i])\n",
        "    tablas[i] = tabla_dia_sin_unidades\n",
        "  return tablas\n",
        "\n",
        "\n",
        "def formatear_fecha(fecha: str) -> str:\n",
        "\n",
        "  # pre:  fecha es una fecha en el formato 'AAAAMMDD'\n",
        "  # post: devuelve la fecha  en el foma dia-nombre del mes-año\n",
        "  meses = {1:'enero', 2: 'febrero', 3:'marzo', 4:'abril', 5:'mayo', 6:'junio', 7:'julio', 8:'agosto', 9:'septiembre', 10:'octubre', 11:'noviembre', 12:'diciembre'}\n",
        "  fecha_int = int(fecha)\n",
        "  dia = fecha_int % 100\n",
        "  mes = ((fecha_int % 10000) - dia) // 100\n",
        "  año = (fecha_int - mes - dia) // 10000\n",
        "  mes_str = meses[mes]\n",
        "  return str(dia) +'-'+mes_str+'-'+str(año)\n",
        "\n",
        "def eliminar_unidades(registro: dict):\n",
        "    # pre:  recibe un diccionario tipo  {'desc': 'Despejado', 'temp': '13°', 'dir': 'Noroeste', 'vel': '7 km/h', 'hum': '88%', 'pres': '1015 hPa'}\n",
        "    # post: modifica el propio diccionario tipo   {'desc': 'Despejado', 'temp': 13, 'dir': 'Noroeste', 'vel': 7, 'hum': 88, 'pres': 1015}\n",
        "  unidades = {'temp':'°', 'vel': ' km/h', 'hum': '%', 'pres':' hPa'}\n",
        "  claves = unidades.keys()\n",
        "  registro2 = registro\n",
        "  #Convierto los valores de los diccionarios en listas.\n",
        "  for parametro in claves:      #Parametro toma el valor de cada clave\n",
        "    updater = list(registro2[parametro])    #updater el es valor de cada clave por ejemplo 16km/h ó 76%\n",
        "    unidad = list(unidades[parametro])      #Creo una lista con las unidades que tengo que quitar por ejemplo[°] ó  [k, m, /, h]\n",
        "    for caracter in unidad:     #Elimino los caracteres de unidad de los valores\n",
        "      updater.remove(caracter)\n",
        "\n",
        "    updater = ''.join(updater)    #Vuelvo a unir los valores\n",
        "    registro2.update({parametro: int(updater)}) #Actualizo el diccionario\n",
        "  return registro2\n",
        "\n",
        "\n"
      ]
    },
    {
      "cell_type": "code",
      "execution_count": null,
      "metadata": {
        "id": "twUKQA0QZLuT"
      },
      "outputs": [],
      "source": [
        "#Tests\n",
        "\n",
        "formateada = formatear_fecha('20181125')\n",
        "print(formateada)\n",
        "\n",
        "dato = {'hora': '05:00', 'desc': 'Despejado', 'temp': '13°', 'dir': 'Noroeste', 'vel': '7 km/h', 'hum': '88%', 'pres': '1015 hPa'}\n",
        "dato_n = eliminar_unidades(dato)\n",
        "print(dato_n)\n",
        "\n",
        "fecha_dic = registros_dia('20181125')\n",
        "print(fecha_dic)\n",
        "\n",
        "# Descomentar las 2 lineas siguientes después de implementar\n",
        "print(fecha_dic[3]['temp'])\n",
        "print(fecha_dic[3]['desc'])"
      ]
    },
    {
      "cell_type": "markdown",
      "metadata": {
        "id": "_d6ZXX0KY86e"
      },
      "source": [
        "*Ejercicio 2.* Hacer una función\n",
        "```\n",
        "clima_anho(anho: str, mes_ini: int, mes_fin: int)\n",
        "```\n",
        "que recibe una string `'AAAA'` y  dos enteros entre 1 y 12 tal que `mes_ini <= mes_fin` y guarda en el archivo 'AAAA.txt', en cada renglón, los datos del clima de cada día en Córdoba desde `mes_ini` hasta el `mes_fin`. Cada renglón es un diccionario (guardado  como texto) con clave  `AAAAMMDD` y con valor el día obtenido por la función `registros_dia(estacion, 'AAAAMMDD')`."
      ]
    },
    {
      "cell_type": "markdown",
      "metadata": {
        "id": "jePeWiGf_AxI"
      },
      "source": []
    },
    {
      "cell_type": "markdown",
      "metadata": {
        "id": "UoY1skQb7h9B"
      },
      "source": [
        "Funciones que voy a necesitar luego:\n"
      ]
    },
    {
      "cell_type": "code",
      "execution_count": 7,
      "metadata": {
        "id": "CDjz3Bvtyouy"
      },
      "outputs": [],
      "source": [
        "def es_biciesto(anho: int) -> bool:\n",
        "  return anho % 4 == 0 and (anho % 100 != 0 or anho % 400 == 0)\n",
        "\n",
        "def conv_mes_str(mes1: int) -> str: #Paso el mes tipo int a tipo str para colocarlo en AAAAMMDD\n",
        "  if mes1 < 10:\n",
        "    mes2 = '0' + str(mes1)\n",
        "  else:\n",
        "    mes2 = str(mes1)\n",
        "  return mes2\n",
        "def conv_dia_str(dia1: int) -> str: #Paso el dia tipo int a tipo str para colocarlo en AAAAMMDD\n",
        "  if dia1 < 10:\n",
        "    dia2 = '0' + str(dia1)\n",
        "  else:\n",
        "    dia2 = str(dia1)\n",
        "  return dia2\n"
      ]
    },
    {
      "cell_type": "code",
      "execution_count": 8,
      "metadata": {
        "id": "naV5LoHYHfaE"
      },
      "outputs": [],
      "source": [
        "def registros_dia3(fecha: str) -> dict: #Utilizo la misma funcion que creaba la tabla del dia con cada hora pero sin eliminar las unidades\n",
        "  tablas = {}\n",
        "  nombre_fecha = formatear_fecha(fecha)\n",
        "  contenido_url = requests.get('https://www.tutiempo.net/registros/saco/' + nombre_fecha + '.html')\n",
        "  contenido_estructurado = BeautifulSoup(contenido_url.text, 'lxml') # parsea la página\n",
        "  tabla_dia = contenido_estructurado.find('table', {'style': 'width: 100%'}) # extrae la tabla (es la única con style=\"width: 100%\")\n",
        "  horas =  registros_tabla(tabla_dia).keys()\n",
        "  for i in horas:\n",
        "    tablas[i] = registros_tabla(tabla_dia)[i]\n",
        "  return tablas"
      ]
    },
    {
      "cell_type": "code",
      "execution_count": 9,
      "metadata": {
        "id": "A_JKERWaPFMb"
      },
      "outputs": [],
      "source": [
        "def dias_del_año(n: str) -> list:\n",
        "  if es_biciesto(int(n)):\n",
        "    dia = [31, 29, 31, 30, 31, 30, 31, 31, 30, 31, 30, 31]\n",
        "  else:\n",
        "    dia = [31, 28, 31, 30, 31, 30, 31, 31, 30, 31, 30, 31]\n",
        "  return dia\n",
        "def mes_MM(n:int):\n",
        "  if n < 10:\n",
        "    mes = '0'+ str(n)\n",
        "  else:\n",
        "    mes = str(n)\n",
        "  return mes"
      ]
    },
    {
      "cell_type": "code",
      "execution_count": 10,
      "metadata": {
        "id": "peesc35fZEqf"
      },
      "outputs": [],
      "source": [
        "def clima_anho(anho: str, mes_ini: int, mes_fin: int):\n",
        "  mes_ini2 = mes_ini\n",
        "  mes = [1, 2, 3, 4, 5, 6, 7, 8, 9, 10, 11, 12]\n",
        "  dia = dias_del_año(anho) #Lista en la que cada elemento es la cantidad de dias de cada mes en la que dia[0] = dias del primer mes del anho\n",
        "  mes_ini_str = mes_MM(mes_ini2) #paso el mes al formato MM dado que si es un entero = 2 tengo q pasarlo a string como 02\n",
        "\n",
        "  #Creo el archivo y agrego el diccionario del primer dia\n",
        "  fecha = anho + mes_ini_str +'01'\n",
        "\n",
        "  archivo = open('AAAA.txt', 'w')\n",
        "  dia_completo1 = registros_dia3(fecha) #Diccionario que contiene la info del clima por hora\n",
        "  dia_completo2 = {fecha:dia_completo1} #Agrego\n",
        "  archivo.write(str(dia_completo2))\n",
        "  archivo.close()\n",
        "\n",
        "\n",
        "  archivo = open('AAAA.txt', 'a')\n",
        "\n",
        "  for i in dia[mes_ini - 1:mes_fin]:   #Con la notacion slice \"recorto\" la lista dia y hago que i tome como valor la cantidad de dias de cada mes. Si va desde 2 a 4 (en meses) entonce i toma los valores de la lista [28 ó 29, 31, 30]\n",
        "    mes_str = conv_mes_str(mes_ini2) #Paso el mes a tipo string en el formato MM\n",
        "    for j in range(1, i+1):     #j correspone al contador de cada dia\n",
        "\n",
        "      dia_str = conv_dia_str(j) #Paso el dia a tipo string en formato DD\n",
        "      fecha = anho + mes_str + dia_str #Fecha tipo string en formato AAAAMMDD\n",
        "\n",
        "      #Creo el diccionario y busco con la fecha AAAAMMDD\n",
        "      dia_completo = {fecha:registros_dia3(fecha)}\n",
        "      dia_json = json.dumps(dia_completo)\n",
        "      archivo.write(dia_json)\n",
        "      archivo.write('\\n')\n",
        "    mes_ini2 += 1 #Luego que se agregan todos los dias del primer mes, sigue al mes que viene\n",
        "  archivo.close()\n",
        "\n",
        "\n",
        "\n"
      ]
    },
    {
      "cell_type": "code",
      "execution_count": 11,
      "metadata": {
        "id": "2ClN9IBR5W37"
      },
      "outputs": [],
      "source": [
        "# Tests\n",
        "\n",
        "clima_anho('2018',1,1) # Ver si se generó el archivo correctamente del primer mes del año 2018"
      ]
    },
    {
      "cell_type": "markdown",
      "metadata": {
        "id": "CeMwEy1Q7ovr"
      },
      "source": [
        "**Ejercicio 3.** En este ejercicio vamos a analizar datos del clima que podemos obtener con las funciones implementadas en los ejercicio 1 y 2.\n",
        "\n",
        "Primero elegí una ciudad o estación meteorológica que no sea de Argentina, arbitraria, pero que tenga suficientes datos para analizar.  Podés saber la sigla de la estación yendo al pronóstico de la ciudad y clickeando 'Ver  registros'.\n",
        "\n",
        "1. Obtener las temperaturas máximas y mínimas de cada mes del año 2018 de la ciudad elegida.\n",
        "2. Calcular el promedio de temperaturas máximas diarias durante la primavera del año 2018 en la ciudad elegida.\n",
        "3. Calcular la dirección del viento predominante durante la primavera del año 2018 en la ciudad elegida.    \n",
        "\n",
        "Para podes hacer esto debés abrir el archivo `2018.txt` y  a partir de los datos de cada renglón (que son cadenas de caracteres) hacer un diccionario o una lista. Para ello puede ayudar la biblioteca `json` y  el método `json.loads()`, pero hay formas alternativas de hacerlo.\n",
        "\n",
        "\n"
      ]
    },
    {
      "cell_type": "markdown",
      "metadata": {
        "id": "_7MDP0o4LpGJ"
      },
      "source": [
        "Para conseguir los datos de una ciudad que no sea Córdoba se debe modificar la función desarrollada en el ejercicio 1 `registros_dia()` y la desarrollada en el ejercicio 2, `clima_anho()`:"
      ]
    },
    {
      "cell_type": "code",
      "execution_count": 12,
      "metadata": {
        "id": "mha-RDRmMMtN"
      },
      "outputs": [],
      "source": [
        "#bruselas: ebbr\n",
        "\n",
        "# redefinir\n",
        "def registros_dia(estacion: str, fecha: str) -> dict:\n",
        "  tablas = {}\n",
        "  nombre_fecha = formatear_fecha(fecha)\n",
        "  contenido_url = requests.get('https://www.tutiempo.net/registros/'+ estacion +'/' + nombre_fecha + '.html')\n",
        "  contenido_estructurado = BeautifulSoup(contenido_url.text, 'lxml') # parsea la página\n",
        "  tabla_dia = contenido_estructurado.find('table', {'style': 'width: 100%'}) # extrae la tabla (es la única con style=\"width: 100%\")\n",
        "  horas =  registros_tabla(tabla_dia).keys()\n",
        "  for i in horas:\n",
        "    tablas[i] = registros_tabla(tabla_dia)[i]\n",
        "  return tablas\n",
        "\n",
        "def clima_anho(estacion: str, anho: str, mes_ini: int, mes_fin: int):\n",
        "  mes_ini2 = mes_ini\n",
        "  mes = [1, 2, 3, 4, 5, 6, 7, 8, 9, 10, 11, 12]\n",
        "  dia = dias_del_año(anho) #Lista en la que cada elemento es la cantidad de dias de cada mes en la que dia[0] = dias del primer mes del anho\n",
        "  mes_ini_str = mes_MM(mes_ini2) #paso el mes al formato MM dado que si es un entero = 2 tengo q pasarlo a string como 02\n",
        "\n",
        "  #Creo el archivo y agrego el diccionario del primer dia\n",
        "  fecha_prin = anho + mes_ini_str +'01'\n",
        "\n",
        "  archivo = open('AAAA.txt', 'w')\n",
        "  dia_completo1 = registros_dia(estacion, fecha_prin) #Diccionario que contiene la info del clima por hora\n",
        "  dia_completo2 = {fecha_prin:dia_completo1} #Agrego\n",
        "  dia_completo2_json = json.dumps(dia_completo2)\n",
        "  archivo.write(dia_completo2_json)\n",
        "  archivo.write('\\n')\n",
        "  archivo.close()\n",
        "\n",
        "\n",
        "  archivo = open('AAAA.txt', 'a')\n",
        "\n",
        "  for i in dia[mes_ini - 1:mes_fin]:   #Con la notacion slice \"recorto\" la lista dia y hago que i tome como valor la cantidad de dias de cada mes. Si va desde 2 a 4 (en meses) entonce i toma los valores de la lista [28 ó 29, 31, 30]\n",
        "    mes_str = conv_mes_str(mes_ini2) #Paso el mes a tipo string en el formato MM\n",
        "    for j in range(1, i+1):     #j correspone al contador de cada dia\n",
        "\n",
        "      dia_str = conv_dia_str(j) #Paso el dia a tipo string en formato DD\n",
        "      fecha = anho + mes_str + dia_str #Fecha tipo string en formato AAAAMMDD\n",
        "\n",
        "      #Creo el diccionario y busco con la fecha AAAAMMDD\n",
        "      if fecha_prin != fecha:\n",
        "        dia_completo = {fecha:registros_dia(estacion, fecha)}\n",
        "        dia_json = json.dumps(dia_completo)\n",
        "        archivo.write(dia_json)\n",
        "        archivo.write('\\n')\n",
        "    mes_ini2 += 1 #Luego que se agregan todos los dias del primer mes, sigue al mes que viene\n",
        "  archivo.close()\n"
      ]
    },
    {
      "cell_type": "markdown",
      "metadata": {
        "id": "7bzbwG5VMqch"
      },
      "source": [
        "A partir de las funciones definidas previamente y de estas dos funciones,  se deberán definir tres funciones que devuelven los resultados deseados  en el formato que les resulte más conveniente."
      ]
    },
    {
      "cell_type": "code",
      "execution_count": null,
      "metadata": {
        "id": "r-HK3H-3uo5r"
      },
      "outputs": [],
      "source": [
        "def cual_mes(fecha: str) -> int: #Valor numerico tipo int del mes\n",
        "  fecha_int = int(fecha)\n",
        "  dia = fecha_int % 100\n",
        "  mes = ((fecha_int % 10000) - dia) // 100\n",
        "  return mes\n",
        "cual_mes('20180601')"
      ]
    },
    {
      "cell_type": "markdown",
      "metadata": {
        "id": "GlHZo34WBkhn"
      },
      "source": [
        "PARTE 3, FUNCION 1\n"
      ]
    },
    {
      "cell_type": "code",
      "execution_count": null,
      "metadata": {
        "id": "QrAjEtiVKyrd"
      },
      "outputs": [],
      "source": [
        "#GENERACION DEL ARCHIVO QUE SIRVE PARA LAS 3 FUNCIONES siguientes:\n",
        "def generar_archivo(estacion, anho, mes_ini, mes_fin):\n",
        "    clima_anho(estacion, anho, mes_ini, mes_fin)\n",
        "generar_archivo('ebbr','2018', 1, 12)"
      ]
    },
    {
      "cell_type": "code",
      "execution_count": null,
      "metadata": {
        "id": "_x_RSS-Df_hW"
      },
      "outputs": [],
      "source": [
        "def temp_min_max():\n",
        "\n",
        "  archivo = open('AAAA.txt', 'r')\n",
        "  d_todos_dias = []\n",
        "\n",
        "  #Guardo los diccionarios del archivo\n",
        "  for linea in archivo: #Creo una lista en la que cada elemento es un diccionario de cada dia\n",
        "    linea_f = json.loads(linea)\n",
        "    d_todos_dias.append(linea_f)\n",
        "\n",
        "  #Guardo todas las temperaturas por mes\n",
        "  meses = {1:[], 2:[], 3:[], 4:[], 5:[], 6:[], 7:[], 8:[], 9:[], 10:[], 11:[], 12:[]} #Aca se guardan todas las temperaturas por mes\n",
        "  for i in range(len(d_todos_dias)): #Recorre la lista que tiene todos los diccionarios\n",
        "    for fecha in d_todos_dias[i].keys(): #recorre dia por dia\n",
        "      horas = d_todos_dias[i][fecha] # Diccionario con las horas\n",
        "      mes = cual_mes(fecha)\n",
        "\n",
        "      for hora in horas.keys(): #Recorro las horas\n",
        "        temperatura = horas[hora]['temp']\n",
        "        meses[mes].append(temperatura) #Agrego todas las temperaturas en cada mes de cada hora de cada dia\n",
        "\n",
        "\n",
        "  #Pasar el string n° a n entero:\n",
        "  meses_sin_unidades = {1:[], 2:[], 3:[], 4:[], 5:[], 6:[], 7:[], 8:[], 9:[], 10:[], 11:[], 12:[]}\n",
        "\n",
        "  for k in meses.keys():\n",
        "    for t in range(len(meses[k])):\n",
        "      temp1 = meses[k][t]\n",
        "      temp2 = temp1.split('°')\n",
        "      temp2.pop()\n",
        "      temp_final = int(temp2[0])\n",
        "      meses_sin_unidades[k].append(temp_final)\n",
        "\n",
        "  #Saco los maximos y minimos\n",
        "  for i in range(1, 12 + 1):\n",
        "    if len(meses_sin_unidades[i]) != 0: #Por si no están los datos en la página\n",
        "      maximo = max(meses_sin_unidades[i])\n",
        "      minimo = min(meses_sin_unidades[i])\n",
        "      print('La temperatura máxima del mes {} es: {}°'.format(i, maximo))\n",
        "      print('La temperatura mínima del mes {} es: {}°'.format(i, minimo))\n",
        "      print('\\n')\n",
        "\n",
        "temp_min_max()\n"
      ]
    },
    {
      "cell_type": "markdown",
      "metadata": {
        "id": "bpn_mkNtBtKR"
      },
      "source": [
        "PARTE 3, FUNCION 2\n"
      ]
    },
    {
      "cell_type": "code",
      "execution_count": null,
      "metadata": {
        "colab": {
          "base_uri": "https://localhost:8080/"
        },
        "id": "LC-KP9Jb5uOe",
        "outputId": "44e2c529-535a-4d1b-ffff-dc03fdb749f9"
      },
      "outputs": [],
      "source": [
        "def cual_dia(fecha:str) -> int:\n",
        "  fecha_int = int(fecha)\n",
        "  dia = fecha_int % 100\n",
        "  return dia\n",
        "cual_dia('20190912')"
      ]
    },
    {
      "cell_type": "code",
      "execution_count": null,
      "metadata": {
        "id": "J3T3t71k2tfp"
      },
      "outputs": [],
      "source": [
        "def temp_max():\n",
        "  archivo = open('AAAA.txt', 'r')\n",
        "  d_todos_dias = []\n",
        "\n",
        "  #Guardo los diccionarios del archivo\n",
        "  for linea in archivo: #Creo una lista en la que cada elemento es un diccionario de cada dia\n",
        "    linea_f = json.loads(linea)\n",
        "    d_todos_dias.append(linea_f)\n",
        "\n",
        "  #Guardo todas las temperaturas por mes\n",
        "  dias = {} #Aca se guardan todas las temperaturas por mes\n",
        "  for i in range(len(d_todos_dias)): #Recorre la lista que tiene todos los diccionarios\n",
        "    for fecha in d_todos_dias[i].keys(): #recorre dia por dia\n",
        "      horas = d_todos_dias[i][fecha] # Diccionario con las horas\n",
        "      mes = cual_mes(fecha)\n",
        "      dia = cual_dia(fecha)\n",
        "      dias[fecha] = []\n",
        "      if (mes == 3 and dia >= 21) or mes == 4 or mes ==5 or (mes == 6 and dia <=21):\n",
        "        for hora in horas.keys(): #Recorro las horas\n",
        "          temperatura = horas[hora]['temp']\n",
        "          dias[fecha].append(temperatura) #Agrego todas las temperaturas en cada mes\n",
        "      else:\n",
        "        del dias[fecha] #Elimino los dias que no son de primavera\n",
        "\n",
        "\n",
        "  #Saco las unidades de los grados\n",
        "  dias_sin_unidades = {} #creo un diccionario vacio en el que cada clave es un dia y su valor es una lista con toda las temperaturas del dia\n",
        "  for fechas in dias.keys():\n",
        "    dias_sin_unidades[fechas] = []  #Creo la key con el dia y inicializo una lista donde se guardaran las temperaturas\n",
        "    for k in dias[fechas]:\n",
        "      temp1 = k\n",
        "      temp2 = temp1.split('°')\n",
        "      temp2.pop()\n",
        "      temp_final = int(temp2[0])\n",
        "      dias_sin_unidades[fechas].append(temp_final)\n",
        "\n",
        "  dias = 0 #Cuento los dias\n",
        "  max_total = 0 #Acá acumulo las temperaturas\n",
        "  for dia in dias_sin_unidades.keys(): #Recorro dia por dia buscando su maximo\n",
        "      maxima_por_dia = max(dias_sin_unidades[dia])\n",
        "      max_total = max_total + maxima_por_dia #Sumo la temp del dia\n",
        "      dias += 1\n",
        "\n",
        "  max_prom = max_total // dias #Saco el promedio\n",
        "\n",
        "  print('La temperatura máxima promedio de la primavera es: {}°'.format(max_prom))\n",
        "\n",
        "\n",
        "\n",
        "temp_max()"
      ]
    },
    {
      "cell_type": "markdown",
      "metadata": {
        "id": "11ZdPCjBPpjK"
      },
      "source": [
        "Finalemente, deberán ejecutar las funciones y mostrar los resultados obtenidos."
      ]
    },
    {
      "cell_type": "markdown",
      "metadata": {
        "id": "z_UAkYCCBzZH"
      },
      "source": [
        "PARTE 3, FUNCION 3\n"
      ]
    },
    {
      "cell_type": "code",
      "execution_count": 18,
      "metadata": {
        "id": "5niWucErBgBz"
      },
      "outputs": [],
      "source": [
        "def dir_viento():\n",
        "  archivo = open('AAAA.txt', 'r')\n",
        "  d_todos_dias = []\n",
        "\n",
        "  #Guardo los diccionarios del archivo\n",
        "  for linea in archivo: #Creo una lista en la que cada elemento es un diccionario de cada dia\n",
        "    linea_f = json.loads(linea)\n",
        "    d_todos_dias.append(linea_f)\n",
        "\n",
        "    #Guardo todas las direccion por mes\n",
        "  dias = {} #Aca se guardan todas las direccion por mes\n",
        "  for i in range(len(d_todos_dias)): #Recorre la lista que tiene todos los diccionarios\n",
        "    for fecha in d_todos_dias[i].keys(): #recorre dia por dia\n",
        "      horas = d_todos_dias[i][fecha] # Diccionario con las horas\n",
        "      mes = cual_mes(fecha)\n",
        "      dia = cual_dia(fecha)\n",
        "      dias[fecha] = []   #Creo una key que es la fecha y el valor es una lista vacia en donde le agregaré todas las direcciones de viento\n",
        "      primavera = (mes == 9 and dia >= 21) or mes == 10 or mes ==11 or (mes == 12 and dia <=21)\n",
        "      if primavera:\n",
        "        for hora in horas.keys(): #Recorro las horas para extrar sus direcciones\n",
        "          direccion1 = horas[hora]['dir']\n",
        "          dias[fecha].append(direccion1) #Agrego todas las direcciones en cada mes\n",
        "      else:\n",
        "        del dias[fecha] #Elimino los dias que no son de primavera del diccionario\n",
        "\n",
        "\n",
        "  todos_los_vientos = []      #Acá guardare cuantas veces se repite en el dia la direccion de un viento. La posicion de la cantidad es la misma que la posicion en la que esta dicha dirección.\n",
        "\n",
        "  #Creo una lista con TODAS las direcciones de los vientos\n",
        "  for dia in dias.keys():\n",
        "    for _ in dias[dia]:\n",
        "      todos_los_vientos = todos_los_vientos + dias[dia]\n",
        "\n",
        "  vientos = [] #Aca guardare cuantas veces se repite cada direccion y su posicion se corresponde con la de ya_contados\n",
        "  ya_contados = [] #Esta lista tiene dos propositos. Por un lado no buscar los vientos ya buscados y por otro ves su correspondencia con la lista de arriba\n",
        "\n",
        "  for viento in todos_los_vientos:\n",
        "    if viento not in ya_contados:\n",
        "      ya_contados.append(viento) #Guardo la direccion para que no se busque en el siguiente loop. Ademas su posicion corresponde con su conteo en la linea que sigue\n",
        "      repeticion = todos_los_vientos.count(viento) #Cuento cuantas veces se repite la direccion\n",
        "      vientos.append(repeticion)\n",
        "\n",
        "\n",
        "  cantidad_viento_max = max(vientos)\n",
        "  viento_maximo = ya_contados[vientos.index(cantidad_viento_max)]\n",
        "  print('El viento predominante en primavera es:', viento_maximo )\n",
        "\n",
        "\n"
      ]
    },
    {
      "cell_type": "code",
      "execution_count": null,
      "metadata": {
        "id": "EtITXtFPCWHU"
      },
      "outputs": [],
      "source": [
        "dir_viento()"
      ]
    }
  ],
  "metadata": {
    "colab": {
      "collapsed_sections": [
        "03RUOLOIpWZS"
      ],
      "provenance": []
    },
    "kernelspec": {
      "display_name": "Python 3",
      "name": "python3"
    },
    "language_info": {
      "codemirror_mode": {
        "name": "ipython",
        "version": 3
      },
      "file_extension": ".py",
      "mimetype": "text/x-python",
      "name": "python",
      "nbconvert_exporter": "python",
      "pygments_lexer": "ipython3",
      "version": "3.11.5"
    }
  },
  "nbformat": 4,
  "nbformat_minor": 0
}
