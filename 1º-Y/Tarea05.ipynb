{
  "nbformat": 4,
  "nbformat_minor": 0,
  "metadata": {
    "colab": {
      "provenance": []
    },
    "kernelspec": {
      "display_name": "Python 3",
      "name": "python3"
    },
    "language_info": {
      "name": "python"
    }
  },
  "cells": [
    {
      "cell_type": "markdown",
      "metadata": {
        "id": "KUzZLe5yYuKV"
      },
      "source": [
        "### **TAREA 5**\n",
        "\n",
        "El propósito de esta tarea es ejercitar el uso del ciclo mientras. En  esta tarea vas a tener que definir dos funciones. La primera de ellas debe calcular la parte entera de la raíz cuadrada de un número dado. La segunda, el primer divisor no trivial de un número entero dado mayor que 1.\n",
        "\n",
        "**IMPORTANTE**\n",
        "- La tarea debe entregarse en este archivo, completando las celdas de código correspondientes.\n",
        "- El código que incorpores *debe* poder ejecutarse en *este* Colab, en caso contrario el ejercicio ***será inválido***. Por favor,  verificá que el código se ejecute sin errores (aún en el caso en que la solución no sea del todo correcta).\n",
        "- Al clicar \"Ejecutar celda\" (el triangulito blanco) en las celdas donde están los test deberían devolverse los resultados correctos.\n",
        "- En estos ejercicios **no está permitido** importar ninguna biblioteca.\n",
        "\n",
        "**IMPORTANTE 2**\n",
        "- Escribí las pre y post condiciones.\n",
        "- Incluí `assert` para comprobar el buen tipado del argumento y el cumplimiento de la precondición.\n",
        "- No olvides organizar tu programa incluyendo comentarios, espacios y sangrías de manera adecuada.\n",
        "- Seguí las convenciones respecto de nombres de variables, funciones y constantes.\n",
        "- Evitar la utilización de funciones sofisticadas de Python."
      ]
    },
    {
      "cell_type": "markdown",
      "metadata": {
        "id": "P3vbd5lEZLkp"
      },
      "source": [
        "**Ejercicio 1: raíz cuadrada entera**\n",
        "\n",
        "A los fines de este ejercicio, decimos que $r$ es la raíz cuadrada de un número entero o real $x \\geq 0$, si $r \\geq 0$ y $r^2 = x$. No siempre $r$ será un número entero, sabés que no existe un número racional $r$ tal que $r^2 = 2$.\n",
        "\n",
        "En este ejercicio debés definir una función que devuelva **la raíz cuadrada entera** de un número entero o real dado $x$, no negativo. Es decir, debe devolver un número entero $r$ tal que $r^2 \\leq x < (r+1)^2$.\n",
        "\n",
        "Definir la función\n",
        "\n",
        "        raiz_cuadrada_entera(x: (int, float)) -> int\n",
        "\n",
        "que recibe un entero o real no negativo `x` y devuelve el entero `r` tal que `r ** 2 <= x < (r+1) ** 2`.\n",
        "\n",
        "_Ejemplos._\n",
        "\n",
        "- Si ejecuto `raiz_cuadrada(0)` la función devuelve `0`   \n",
        "- Si ejecuto `raiz_cuadrada(3.9)` la función devuelve `1`   \n",
        "- Si ejecuto `raiz_cuadrada(4)` la función devuelve `2`\n",
        "\n",
        "_Observación_ La función debe recibir un número entero o real, verificalo con la instrucción `assert`."
      ]
    },
    {
      "cell_type": "code",
      "metadata": {
        "id": "UoPlWxSEabwT"
      },
      "source": [
        "# Escribir el código más abajo\n",
        "\n",
        "def raiz_cuadrada(x: (int, float)) -> int:\n",
        "    assert x >= 0, 'Error: el número tiene que ser entero.'\n",
        "    # post: Devuelve un número entero.\n",
        "\n",
        "    contador = 0\n",
        "    raiz_entera = 0\n",
        "\n",
        "    #Recorre los numeros enteros hasta que la multiplicacion es mayor al numero ingresado.\n",
        "    while contador <= x:\n",
        "      raiz_entera += 1\n",
        "      contador = raiz_entera * raiz_entera\n",
        "\n",
        "    return raiz_entera - 1"
      ],
      "execution_count": 1,
      "outputs": []
    },
    {
      "cell_type": "code",
      "metadata": {
        "id": "mWa2PhypccI9"
      },
      "source": [
        "# Tests\n",
        "print(raiz_cuadrada(0)) # imprime 0\n",
        "print(raiz_cuadrada(0.99)) # imprime 0\n",
        "print(raiz_cuadrada(1.0)) # imprime 1\n",
        "print(raiz_cuadrada(7)) # imprime 2\n",
        "print(raiz_cuadrada(9999)) # imprime 99\n",
        "# print(raiz_cuadrada(-3)) # falla"
      ],
      "execution_count": null,
      "outputs": []
    },
    {
      "cell_type": "markdown",
      "metadata": {
        "id": "PyO0np2ge7Wy"
      },
      "source": [
        "**Ejercicio 2: Menor divisor**\n",
        "\n",
        "En este ejercicio debemos definir una función que devuelva el menor divisor mayor que 1 de un número entero mayor que 1 dado.  \n",
        "\n",
        "Definir la función\n",
        "\n",
        "        menor_divisor(n: int) -> int\n",
        "\n",
        "que recibe un número entero `n` mayor que 1 y devuelve el menor número entero mayor que 1 que divide a `n`.\n"
      ]
    },
    {
      "cell_type": "code",
      "metadata": {
        "id": "NkjcxNlklQFX"
      },
      "source": [
        "# Escribir el código más abajo\n",
        "\n",
        "def menor_divisor(n: int) -> int:\n",
        "    assert type(n) == int, 'Error: El número debe ser entero.'\n",
        "    assert n > 1, 'Error: El número debe ser mayor a 1.'\n",
        "    # post: devuelve un número entero\n",
        "    divisor = 2\n",
        "    while n % divisor != 0:\n",
        "      divisor+= 1\n",
        "    return divisor"
      ],
      "execution_count": 3,
      "outputs": []
    },
    {
      "cell_type": "code",
      "metadata": {
        "id": "2ta-xGf72s-5"
      },
      "source": [
        "# Tests\n",
        "print(menor_divisor(2)) # 2\n",
        "print(menor_divisor(4)) # 2\n",
        "print(menor_divisor(2401)) # 7\n",
        "print(menor_divisor(5171)) # 5171\n",
        "print(menor_divisor(9409)) # 97\n",
        "# print(menor_divisor(1)) # falla\n",
        "# print(menor_divisor(0)) # falla"
      ],
      "execution_count": null,
      "outputs": []
    }
  ]
}